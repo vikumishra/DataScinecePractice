{
 "cells": [
  {
   "cell_type": "markdown",
   "id": "832b4b10-b997-44c0-827c-edecfecd6589",
   "metadata": {},
   "source": [
    "### 1)"
   ]
  },
  {
   "cell_type": "markdown",
   "id": "9fabc143-0767-409e-94df-9909267f6fb3",
   "metadata": {},
   "source": [
    "A function that defines the relationship between a random variable and its probability, such that you can find the probability of the variable using the function, is called a Probability Density Function (PDF) in statistics."
   ]
  },
  {
   "cell_type": "markdown",
   "id": "b20c0caf-492a-4a46-8a5c-06a4ee8a5e01",
   "metadata": {},
   "source": [
    "### 2)\n"
   ]
  },
  {
   "cell_type": "markdown",
   "id": "94cac1f6-37b5-40c2-b40b-ed04cee41efb",
   "metadata": {},
   "source": [
    "* 1) Bionomial Distribution\n",
    "* 2) Poisson Distribution\n",
    "* 3) Bernoulli Distribution "
   ]
  },
  {
   "cell_type": "markdown",
   "id": "543e40b1-9d31-4fc8-bcbf-2ebdc6acc8c0",
   "metadata": {},
   "source": [
    "### 3)"
   ]
  },
  {
   "cell_type": "code",
   "execution_count": 2,
   "id": "122de5b2-74a1-4a45-a4cd-042013cfa2a1",
   "metadata": {},
   "outputs": [
    {
     "name": "stdout",
     "output_type": "stream",
     "text": [
      "0.0804410163156249\n"
     ]
    }
   ],
   "source": [
    "from scipy.stats import norm\n",
    "import numpy as np\n",
    "  \n",
    "data_start = -5\n",
    "data_end = 5\n",
    "data_points = 11\n",
    "data = np.linspace(data_start, data_end, data_points)\n",
    "  \n",
    "mean = np.mean(data)\n",
    "std = np.std(data)\n",
    "  \n",
    "probability_pdf = norm.pdf(3, loc=mean, scale=std)\n",
    "print(probability_pdf)"
   ]
  },
  {
   "cell_type": "markdown",
   "id": "920d85dd-e53a-48db-a176-5b26c977f998",
   "metadata": {},
   "source": [
    "### 4)"
   ]
  },
  {
   "cell_type": "markdown",
   "id": "6b11725b-1322-4d28-867c-c2a116d5eeee",
   "metadata": {},
   "source": [
    "* Properties of Bionomial Distribution are:-\n",
    "* 1) Number of observations are fixed\n",
    "* 2)Each observation is independent\n",
    "* 3) The probability of success is same for each out come\n",
    "\n",
    "* Examples are => 1) Tossing of a coin 2) Will it rain or not"
   ]
  },
  {
   "cell_type": "markdown",
   "id": "f4b59ff6-1cad-46d7-86a4-88525256c614",
   "metadata": {},
   "source": [
    "### 5)"
   ]
  },
  {
   "cell_type": "code",
   "execution_count": 3,
   "id": "0cc9169c-35a3-468d-9e3d-4f6c5d594046",
   "metadata": {},
   "outputs": [],
   "source": [
    "import numpy as np"
   ]
  },
  {
   "cell_type": "code",
   "execution_count": 5,
   "id": "bb673cb8-2528-462b-86a9-853a79ae8d60",
   "metadata": {},
   "outputs": [],
   "source": [
    "x = np.random.binomial(n=1000,p=0.4,size=1000)"
   ]
  },
  {
   "cell_type": "code",
   "execution_count": 7,
   "id": "ba07013a-f1c5-4cd5-a2dd-cbdb6a79ba98",
   "metadata": {},
   "outputs": [],
   "source": [
    "import matplotlib.pyplot as plt"
   ]
  },
  {
   "cell_type": "code",
   "execution_count": 8,
   "id": "8323db0c-a4fc-4345-ac1a-92308135a4ec",
   "metadata": {},
   "outputs": [
    {
     "data": {
      "image/png": "[encoded data removed]",
      "text/plain": [
       "<Figure size 640x480 with 1 Axes>"
      ]
     },
     "metadata": {},
     "output_type": "display_data"
    }
   ],
   "source": [
    "plt.hist(x)\n",
    "plt.show()"
   ]
  },
  {
   "cell_type": "markdown",
   "id": "b9e00635-9f80-4c75-822b-8f490915a711",
   "metadata": {},
   "source": [
    "### 6)"
   ]
  },
  {
   "cell_type": "code",
   "execution_count": 9,
   "id": "f3610b48-37ac-453f-9b2d-8477e30d29ac",
   "metadata": {},
   "outputs": [],
   "source": [
    "from scipy.stats import poisson"
   ]
  },
  {
   "cell_type": "code",
   "execution_count": 13,
   "id": "78fd5199-8e0a-4c9b-b5d6-4b4ca70c3652",
   "metadata": {},
   "outputs": [
    {
     "data": {
      "text/plain": [
       "array([0.2872975 , 0.54381312, 0.75757613, 0.89117802, 0.95797896])"
      ]
     },
     "execution_count": 13,
     "metadata": {},
     "output_type": "execute_result"
    }
   ],
   "source": [
    "poisson.cdf(k=[1,2,3,4,5],mu=2.5)"
   ]
  },
  {
   "cell_type": "markdown",
   "id": "97d1cde0-de18-4633-8b95-7ac173398ebc",
   "metadata": {},
   "source": [
    "### 7)"
   ]
  },
  {
   "cell_type": "markdown",
   "id": "9f7c00a9-8996-4c04-b7a0-513e66830f96",
   "metadata": {},
   "source": [
    "\n",
    "In a Binomial distribution, there is a fixed number of trials (e.g. flip a coin 3 times) In a Poisson distribution, there could be any number of events that occur during a certain time interval"
   ]
  },
  {
   "cell_type": "markdown",
   "id": "d64800f1-32f3-468e-92e6-c4edd2c1da37",
   "metadata": {},
   "source": [
    "### 8)"
   ]
  },
  {
   "cell_type": "code",
   "execution_count": 14,
   "id": "3e970223-44e9-44de-85ca-5ff4a1c17e3a",
   "metadata": {},
   "outputs": [],
   "source": [
    "x = np.random.poisson(5,1000)"
   ]
  },
  {
   "cell_type": "code",
   "execution_count": 16,
   "id": "88359bad-eaa0-4cd7-b7c6-335e757a0fc0",
   "metadata": {},
   "outputs": [
    {
     "data": {
      "text/plain": [
       "5.134"
      ]
     },
     "execution_count": 16,
     "metadata": {},
     "output_type": "execute_result"
    }
   ],
   "source": [
    "np.mean(x)"
   ]
  },
  {
   "cell_type": "code",
   "execution_count": 17,
   "id": "d3cdc797-a6a2-486a-a9a8-a8c72a52e8e0",
   "metadata": {},
   "outputs": [
    {
     "data": {
      "text/plain": [
       "5.236043999999999"
      ]
     },
     "execution_count": 17,
     "metadata": {},
     "output_type": "execute_result"
    }
   ],
   "source": [
    "np.var(x)"
   ]
  },
  {
   "cell_type": "markdown",
   "id": "dc562dc9-ae20-40d4-94f9-8a388f0c2a78",
   "metadata": {},
   "source": [
    "### 9)"
   ]
  },
  {
   "cell_type": "markdown",
   "id": "fecf8262-4a36-4eb6-9dfa-86dcfdc1f4fb",
   "metadata": {},
   "source": [
    "#### For Bionomial\n"
   ]
  },
  {
   "cell_type": "markdown",
   "id": "136c3dd8-9d91-41ee-9baf-bd5f023408de",
   "metadata": {},
   "source": [
    "* mean = np\n",
    "* variance = npq"
   ]
  },
  {
   "cell_type": "markdown",
   "id": "fc6ecb33-333c-4a24-8b2f-90c25f5a03b6",
   "metadata": {},
   "source": [
    "#### For Poisson"
   ]
  },
  {
   "cell_type": "markdown",
   "id": "eb087596-c37e-4f4d-bd03-d7c50c2a6337",
   "metadata": {},
   "source": [
    "* mean = lambda*t (where lambda means expected no. of events to occur at every time interval)\n",
    "* variance = lambda*t"
   ]
  },
  {
   "cell_type": "markdown",
   "id": "6047de89-ddb3-41bf-aea8-5e7156d98b69",
   "metadata": {},
   "source": [
    "### 10)"
   ]
  },
  {
   "cell_type": "markdown",
   "id": "d9842a40-11cc-471f-8d6c-6ddbe6304ab7",
   "metadata": {},
   "source": [
    "In normal distribution the least frequent data appears beyond 3rd standard deviation to right and left with respect to mean"
   ]
  },
  {
   "cell_type": "code",
   "execution_count": null,
   "id": "f4630f14-cb19-4370-97e5-b96ea3e933e0",
   "metadata": {},
   "outputs": [],
   "source": []
  }
 ],
 "metadata": {
  "kernelspec": {
   "display_name": "Python 3 (ipykernel)",
   "language": "python",
   "name": "python3"
  },
  "language_info": {
   "codemirror_mode": {
    "name": "ipython",
    "version": 3
   },
   "file_extension": ".py",
   "mimetype": "text/x-python",
   "name": "python",
   "nbconvert_exporter": "python",
   "pygments_lexer": "ipython3",
   "version": "3.10.8"
  }
 },
 "nbformat": 4,
 "nbformat_minor": 5
}
