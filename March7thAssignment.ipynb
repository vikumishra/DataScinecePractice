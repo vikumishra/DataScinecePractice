{
 "cells": [
  {
   "cell_type": "markdown",
   "id": "6ce9e4d9-1869-4773-b418-22bbda454129",
   "metadata": {},
   "source": [
    "### 1)"
   ]
  },
  {
   "cell_type": "markdown",
   "id": "3c468a94-b525-4625-9523-68e00d081dda",
   "metadata": {},
   "source": [
    "The measures of central tendency are mean , median and mode."
   ]
  },
  {
   "cell_type": "markdown",
   "id": "eff2ce7f-080b-49ad-b62d-0db924f58dc5",
   "metadata": {},
   "source": [
    "### 2)"
   ]
  },
  {
   "cell_type": "markdown",
   "id": "69454635-3524-432e-9405-c8b57f0cd392",
   "metadata": {},
   "source": [
    "* Mean => It is defined as sum of each element divided by total elements. Its used if any value is  missing and data is without           outlier to fill that value.\n",
    "\n",
    "* Median => It is defined as central element after sorting data. Its used if any value is missing and data contains outliers to             fill that value.\n",
    "\n",
    "* Mode => It is defined as element that has maximum frequency. Its used to fill value of missing data in case of categorical             data."
   ]
  },
  {
   "cell_type": "markdown",
   "id": "37b88e51-50dd-4161-bc8c-9c98af02b8a7",
   "metadata": {},
   "source": [
    "### 3)"
   ]
  },
  {
   "cell_type": "code",
   "execution_count": 1,
   "id": "7989a857-d39b-4d42-9377-766c926fc93a",
   "metadata": {},
   "outputs": [],
   "source": [
    "data = [178,177,176,177,178.2,178,175,179,180,175,178.9,176.2,177,172.5,178,176.5]"
   ]
  },
  {
   "cell_type": "code",
   "execution_count": 2,
   "id": "e7373d02-d203-4867-852b-ed36ad940053",
   "metadata": {},
   "outputs": [],
   "source": [
    "### mean\n",
    "import numpy as np"
   ]
  },
  {
   "cell_type": "code",
   "execution_count": 3,
   "id": "7e52a35a-ba1d-40a8-a329-f35fe9945e19",
   "metadata": {},
   "outputs": [
    {
     "data": {
      "text/plain": [
       "177.01875"
      ]
     },
     "execution_count": 3,
     "metadata": {},
     "output_type": "execute_result"
    }
   ],
   "source": [
    "np.mean(data)"
   ]
  },
  {
   "cell_type": "code",
   "execution_count": 7,
   "id": "de7c9547-0e50-42b4-a154-9da756a2aebe",
   "metadata": {},
   "outputs": [
    {
     "data": {
      "text/plain": [
       "177.0"
      ]
     },
     "execution_count": 7,
     "metadata": {},
     "output_type": "execute_result"
    }
   ],
   "source": [
    "### median\n",
    "np.median(data)"
   ]
  },
  {
   "cell_type": "code",
   "execution_count": 10,
   "id": "43e3bb2b-2ab5-48f9-b20a-09dff8e815b6",
   "metadata": {},
   "outputs": [],
   "source": [
    "### mode\n",
    "import scipy.stats as sp"
   ]
  },
  {
   "cell_type": "code",
   "execution_count": 11,
   "id": "251244e7-b81c-4bb3-ab5b-62ef532605cf",
   "metadata": {},
   "outputs": [
    {
     "name": "stderr",
     "output_type": "stream",
     "text": [
      "/tmp/ipykernel_77/4071134959.py:1: FutureWarning: Unlike other reduction functions (e.g. `skew`, `kurtosis`), the default behavior of `mode` typically preserves the axis it acts along. In SciPy 1.11.0, this behavior will change: the default value of `keepdims` will become False, the `axis` over which the statistic is taken will be eliminated, and the value None will no longer be accepted. Set `keepdims` to True or False to avoid this warning.\n",
      "  sp.mode(data)\n"
     ]
    },
    {
     "data": {
      "text/plain": [
       "ModeResult(mode=array([177.]), count=array([3]))"
      ]
     },
     "execution_count": 11,
     "metadata": {},
     "output_type": "execute_result"
    }
   ],
   "source": [
    "sp.mode(data)"
   ]
  },
  {
   "cell_type": "markdown",
   "id": "9a597d07-62bd-471f-8395-26cb75383ad4",
   "metadata": {},
   "source": [
    "### 4)"
   ]
  },
  {
   "cell_type": "code",
   "execution_count": 12,
   "id": "85e37727-d017-40be-8fba-2b66a7aa8a9e",
   "metadata": {},
   "outputs": [],
   "source": [
    "data = [178,177,176,177,178.2,178,175,179,180,175,178.9,176.2,177,172.5,178,176.5]"
   ]
  },
  {
   "cell_type": "code",
   "execution_count": 13,
   "id": "f353c126-68aa-4fa7-b47c-7d74fda62f7a",
   "metadata": {},
   "outputs": [
    {
     "data": {
      "text/plain": [
       "1.7885814036548633"
      ]
     },
     "execution_count": 13,
     "metadata": {},
     "output_type": "execute_result"
    }
   ],
   "source": [
    "np.std(data)"
   ]
  },
  {
   "cell_type": "markdown",
   "id": "dad0e860-6860-42d4-a2e1-81e5ceb3f50d",
   "metadata": {},
   "source": [
    "### 5)"
   ]
  },
  {
   "cell_type": "markdown",
   "id": "cda7ae3d-d79f-403c-90f7-9ee12dcc4f0a",
   "metadata": {},
   "source": [
    "Measures of dispersion such as range, variance, and standard deviation used to describe\n",
    "the spread of a dataset by telling exactly how much data lies on both sides of mean."
   ]
  },
  {
   "cell_type": "markdown",
   "id": "192e4f15-19f0-45a3-a20f-e81d2e78944e",
   "metadata": {},
   "source": [
    "### 6)"
   ]
  },
  {
   "cell_type": "markdown",
   "id": "0d09c23f-5a86-4459-a262-18f13215a5ba",
   "metadata": {},
   "source": [
    "A Venn diagram uses overlapping circles or other shapes to illustrate the logical relationships between two or more sets of items."
   ]
  },
  {
   "cell_type": "markdown",
   "id": "5f47871f-3d5a-4664-b88f-03a6704f2ec1",
   "metadata": {},
   "source": [
    "### 7)"
   ]
  },
  {
   "cell_type": "markdown",
   "id": "2e2464b5-bd02-4d0e-b8e6-ed947526614a",
   "metadata": {},
   "source": [
    "* (i) (2,6)\n",
    "* (ii) (2,3,4,5,6,7,0,8,10)"
   ]
  },
  {
   "cell_type": "markdown",
   "id": "3ffd605f-e12b-4e4c-a0a9-66e2a4a303f5",
   "metadata": {},
   "source": [
    "### 8)"
   ]
  },
  {
   "cell_type": "markdown",
   "id": "87f6f534-8d6b-4d43-87e0-3d07b868931a",
   "metadata": {},
   "source": [
    "Skewness is a measurement of the distortion of symmetrical distribution or asymmetry in a data set. Skewness is demonstrated on a bell curve when data points are not distributed symmetrically to the left and right sides of the median on a bell curve."
   ]
  },
  {
   "cell_type": "markdown",
   "id": "e8607a34-5456-43f6-9182-e29298c59fdb",
   "metadata": {},
   "source": [
    "### 9)"
   ]
  },
  {
   "cell_type": "markdown",
   "id": "e629fff5-b71e-4f5f-a146-6d4bd77decff",
   "metadata": {},
   "source": [
    "If data is right skewed the median will be right to mean"
   ]
  },
  {
   "cell_type": "markdown",
   "id": "e2039ad4-62ee-4bcf-bb43-4e19123821f8",
   "metadata": {},
   "source": [
    "### 10)"
   ]
  },
  {
   "cell_type": "markdown",
   "id": "04be94a5-95cd-4d64-bb28-a42a01cd601b",
   "metadata": {},
   "source": [
    "* Covariance => It tells relationship between two random variables. However its range is not restricted.\n",
    "* Correlation=> It also tells relationship between two random variables. But its range is restricted betwenn -1 to 1."
   ]
  },
  {
   "cell_type": "markdown",
   "id": "39f2f3e0-0699-4de1-a07e-5c4258ace974",
   "metadata": {},
   "source": [
    "### 11)"
   ]
  },
  {
   "cell_type": "markdown",
   "id": "d7d39e4a-dd39-49f6-b419-ca4512b4d2e7",
   "metadata": {},
   "source": [
    "* Sample Mean => Sum of all observations/Total no. of observations.\n",
    "* e.g. [2,3,4,5] mean => (2+3+4+5)/4= 3.5"
   ]
  },
  {
   "cell_type": "markdown",
   "id": "8afdbb98-743b-4b27-a204-be1081e058fc",
   "metadata": {},
   "source": [
    "### 12)"
   ]
  },
  {
   "cell_type": "markdown",
   "id": "9b2bd353-b96c-45b3-9f00-0177427a430f",
   "metadata": {},
   "source": [
    "For a normal distribution mean = median = mode"
   ]
  },
  {
   "cell_type": "markdown",
   "id": "496ac555-6420-441a-9bb1-c219e0a402b9",
   "metadata": {},
   "source": [
    "### 13)"
   ]
  },
  {
   "cell_type": "markdown",
   "id": "c4d0f391-d284-422f-a8cd-f22a3af3c746",
   "metadata": {},
   "source": [
    "* Covariance => It tells relationship between two random variables. However its range is not restricted.\n",
    "* Correlation=> It also tells relationship between two random variables. But its range is restricted betwenn -1 to 1."
   ]
  },
  {
   "cell_type": "markdown",
   "id": "ec0bc60d-ff45-4d86-a00d-edbefce84b44",
   "metadata": {},
   "source": [
    "### 14)"
   ]
  },
  {
   "cell_type": "markdown",
   "id": "8f8273c4-df44-4c7a-87ae-b3abf0389f67",
   "metadata": {},
   "source": [
    "* Outliers affect measure of central tendency and dispersion in a way that the resulted central tedency \n",
    "  or dispersion is way bigger/smaller then the actual or true one without outlier.\n",
    "* The below example will illustrate the same.\n",
    "* consider data=[2,3,4,5] without outlier . Its mean will be 3.5\n",
    "* Now consider same data with outlier 100 data =[2,3,4,5,100] . Its mean will be 19.\n",
    "* Here we see that there is huge jump from 3.5 to 19 by including simgle outlier."
   ]
  },
  {
   "cell_type": "code",
   "execution_count": null,
   "id": "044de29b-abcd-488d-86e9-ecfed48e3cf7",
   "metadata": {},
   "outputs": [],
   "source": []
  }
 ],
 "metadata": {
  "kernelspec": {
   "display_name": "Python 3 (ipykernel)",
   "language": "python",
   "name": "python3"
  },
  "language_info": {
   "codemirror_mode": {
    "name": "ipython",
    "version": 3
   },
   "file_extension": ".py",
   "mimetype": "text/x-python",
   "name": "python",
   "nbconvert_exporter": "python",
   "pygments_lexer": "ipython3",
   "version": "3.10.8"
  }
 },
 "nbformat": 4,
 "nbformat_minor": 5
}
