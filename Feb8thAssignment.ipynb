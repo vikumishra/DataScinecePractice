{
 "cells": [
  {
   "cell_type": "markdown",
   "id": "4164aef8-1bc8-4fc4-8f52-ce21782f81a9",
   "metadata": {},
   "source": [
    "## 1)"
   ]
  },
  {
   "cell_type": "raw",
   "id": "a8cbb062-8122-42ac-b503-0be5156654b2",
   "metadata": {},
   "source": [
    "In Python, an abstraction is used to hide the irrelevant data/class in order to reduce the complexity"
   ]
  },
  {
   "cell_type": "code",
   "execution_count": 1,
   "id": "bd14901b-b5c2-4ca3-9791-a813fa8f94dc",
   "metadata": {},
   "outputs": [],
   "source": [
    "from abc import ABC"
   ]
  },
  {
   "cell_type": "code",
   "execution_count": 7,
   "id": "9909802a-e63f-4991-af20-e1596b732f75",
   "metadata": {},
   "outputs": [],
   "source": [
    "class Parent(ABC):\n",
    "    def msg(self):\n",
    "        pass"
   ]
  },
  {
   "cell_type": "code",
   "execution_count": 8,
   "id": "2a268c83-c092-4479-a44a-10ea9fd4155c",
   "metadata": {},
   "outputs": [],
   "source": [
    "class Child(Parent):\n",
    "    def msg(self):\n",
    "        print(\"This is abstraction\")"
   ]
  },
  {
   "cell_type": "code",
   "execution_count": 9,
   "id": "a6cf21e2-68ef-402e-9eeb-2f17db5a417b",
   "metadata": {},
   "outputs": [
    {
     "name": "stdout",
     "output_type": "stream",
     "text": [
      "This is abstraction\n"
     ]
    }
   ],
   "source": [
    "obj = Child()\n",
    "obj.msg()"
   ]
  },
  {
   "cell_type": "markdown",
   "id": "3897d78d-5325-40bb-8020-fa7b13613bf2",
   "metadata": {},
   "source": [
    "## 2)"
   ]
  },
  {
   "cell_type": "raw",
   "id": "20c9e328-bbfa-40fe-b470-3a12239971e4",
   "metadata": {},
   "source": [
    "Abstraction=> In Python, an abstraction is used to hide the irrelevant data/class in order to reduce the complexity"
   ]
  },
  {
   "cell_type": "raw",
   "id": "4eebb738-1328-45fe-8745-576faac85ba1",
   "metadata": {},
   "source": [
    "Encapsulation => Encapsulation is binding the data members with member variables.\n",
    "This will avoid the direct access of variables, \n",
    "because direct access of variables may violate privacy, and hiding of the implementation will not be possible."
   ]
  },
  {
   "cell_type": "markdown",
   "id": "eb34d8c8-100e-4243-80ae-c8a6664ef291",
   "metadata": {},
   "source": [
    "## 3)"
   ]
  },
  {
   "cell_type": "raw",
   "id": "283768b7-7f37-40b4-a49c-c2cf82738723",
   "metadata": {},
   "source": [
    " Python doesn't provide the abstract class itself. We need to import the abc module, \n",
    "    which provides the base for defining Abstract Base classes (ABC). \n",
    "    The ABC works by decorating methods of the base class as abstract. "
   ]
  },
  {
   "cell_type": "markdown",
   "id": "81958030-1d48-4096-9b46-2966141e67bf",
   "metadata": {},
   "source": [
    "## 4)"
   ]
  },
  {
   "cell_type": "raw",
   "id": "655f7418-cd05-4abf-b550-51237ecba297",
   "metadata": {},
   "source": [
    "Data abstraction can be achieved by importing abc module which provides the base for defining \n",
    "abstract class . After that we can inherit that base abstract class in our child class which can further\n",
    "use abstract methods of parent class. The below example will show this"
   ]
  },
  {
   "cell_type": "code",
   "execution_count": 10,
   "id": "1e001c19-3d18-4176-a38a-0af74412be47",
   "metadata": {},
   "outputs": [],
   "source": [
    "class Parent(ABC):\n",
    "    def msg(self):\n",
    "        pass"
   ]
  },
  {
   "cell_type": "code",
   "execution_count": 11,
   "id": "b4aad041-decd-47ad-ab6a-774a31a31249",
   "metadata": {},
   "outputs": [],
   "source": [
    "class Child(Parent):\n",
    "    def msg(self):\n",
    "        print(\"This is abstraction\")"
   ]
  },
  {
   "cell_type": "code",
   "execution_count": 12,
   "id": "0f51e1fe-dcbe-4259-aa5f-ff9f5b7f5db9",
   "metadata": {},
   "outputs": [
    {
     "name": "stdout",
     "output_type": "stream",
     "text": [
      "This is abstraction\n"
     ]
    }
   ],
   "source": [
    "obj = Child()\n",
    "obj.msg()"
   ]
  },
  {
   "cell_type": "markdown",
   "id": "003f4072-caa2-439e-8e2d-71c3fdc986a2",
   "metadata": {},
   "source": [
    "## 5)"
   ]
  },
  {
   "cell_type": "raw",
   "id": "5dff6e26-0c8c-4007-be8b-69f9d81ba186",
   "metadata": {},
   "source": [
    "No we  cannot create objects from directly.\n",
    "Its purpose is to define how other classes should look like, \n",
    "i.e. what methods and properties they are expected to have."
   ]
  },
  {
   "cell_type": "code",
   "execution_count": null,
   "id": "2a46db60-fda3-4098-a678-021034741167",
   "metadata": {},
   "outputs": [],
   "source": []
  }
 ],
 "metadata": {
  "kernelspec": {
   "display_name": "Python 3 (ipykernel)",
   "language": "python",
   "name": "python3"
  },
  "language_info": {
   "codemirror_mode": {
    "name": "ipython",
    "version": 3
   },
   "file_extension": ".py",
   "mimetype": "text/x-python",
   "name": "python",
   "nbconvert_exporter": "python",
   "pygments_lexer": "ipython3",
   "version": "3.10.8"
  }
 },
 "nbformat": 4,
 "nbformat_minor": 5
}
