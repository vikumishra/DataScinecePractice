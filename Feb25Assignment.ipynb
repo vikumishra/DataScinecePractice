{
 "cells": [
  {
   "cell_type": "code",
   "execution_count": 1,
   "id": "f9748575-c224-49c6-a606-206e17b499b0",
   "metadata": {},
   "outputs": [],
   "source": [
    "import pandas as pd\n",
    "course_name = ['Data Science', 'Machine Learning', 'Big Data', 'Data Engineer']\n",
    "duration = [2,3,6,4]\n",
    "df = pd.DataFrame(data = {'course_name' : course_name, 'duration' : duration})"
   ]
  },
  {
   "cell_type": "markdown",
   "id": "9c325a73-3135-4ad1-ae9c-df2e08492884",
   "metadata": {},
   "source": [
    "### 1)"
   ]
  },
  {
   "cell_type": "code",
   "execution_count": 2,
   "id": "1089579a-1d32-4fdc-9953-4fc78003a736",
   "metadata": {},
   "outputs": [
    {
     "data": {
      "text/html": [
       "<div>\n",
       "<style scoped>\n",
       "    .dataframe tbody tr th:only-of-type {\n",
       "        vertical-align: middle;\n",
       "    }\n",
       "\n",
       "    .dataframe tbody tr th {\n",
       "        vertical-align: top;\n",
       "    }\n",
       "\n",
       "    .dataframe thead th {\n",
       "        text-align: right;\n",
       "    }\n",
       "</style>\n",
       "<table border=\"1\" class=\"dataframe\">\n",
       "  <thead>\n",
       "    <tr style=\"text-align: right;\">\n",
       "      <th></th>\n",
       "      <th>course_name</th>\n",
       "      <th>duration</th>\n",
       "    </tr>\n",
       "  </thead>\n",
       "  <tbody>\n",
       "    <tr>\n",
       "      <th>1</th>\n",
       "      <td>Machine Learning</td>\n",
       "      <td>3</td>\n",
       "    </tr>\n",
       "  </tbody>\n",
       "</table>\n",
       "</div>"
      ],
      "text/plain": [
       "        course_name  duration\n",
       "1  Machine Learning         3"
      ]
     },
     "execution_count": 2,
     "metadata": {},
     "output_type": "execute_result"
    }
   ],
   "source": [
    "df.iloc[1:2]"
   ]
  },
  {
   "cell_type": "markdown",
   "id": "6476ac4f-50c8-4adb-919a-a0e1c0d6ad19",
   "metadata": {},
   "source": [
    "### 2)"
   ]
  },
  {
   "cell_type": "markdown",
   "id": "9e0491d5-c7b7-4100-a546-02fce4807a4f",
   "metadata": {},
   "source": [
    "* The loc() function is label based data selecting method which means that we have to pass the name of the row or column which    we want to select\n",
    "\n",
    "* The iloc() function is an indexed-based selecting method which means that we have to pass an integer index in the method to s   select a specific row/column."
   ]
  },
  {
   "cell_type": "markdown",
   "id": "ebcd214c-23f5-4ae5-8471-491f09f79edc",
   "metadata": {},
   "source": [
    "### 3)"
   ]
  },
  {
   "cell_type": "code",
   "execution_count": 3,
   "id": "1d5ca772-b384-45ee-9fe3-29f63983efc0",
   "metadata": {},
   "outputs": [],
   "source": [
    "reindex = [3,0,1,2] "
   ]
  },
  {
   "cell_type": "code",
   "execution_count": 4,
   "id": "71fa6539-034f-4673-95e6-ff875db16637",
   "metadata": {},
   "outputs": [],
   "source": [
    "new_df = df.reindex(reindex)"
   ]
  },
  {
   "cell_type": "code",
   "execution_count": 5,
   "id": "2ca79996-10bc-4660-85b9-c717e2c1076a",
   "metadata": {},
   "outputs": [
    {
     "data": {
      "text/html": [
       "<div>\n",
       "<style scoped>\n",
       "    .dataframe tbody tr th:only-of-type {\n",
       "        vertical-align: middle;\n",
       "    }\n",
       "\n",
       "    .dataframe tbody tr th {\n",
       "        vertical-align: top;\n",
       "    }\n",
       "\n",
       "    .dataframe thead th {\n",
       "        text-align: right;\n",
       "    }\n",
       "</style>\n",
       "<table border=\"1\" class=\"dataframe\">\n",
       "  <thead>\n",
       "    <tr style=\"text-align: right;\">\n",
       "      <th></th>\n",
       "      <th>course_name</th>\n",
       "      <th>duration</th>\n",
       "    </tr>\n",
       "  </thead>\n",
       "  <tbody>\n",
       "    <tr>\n",
       "      <th>3</th>\n",
       "      <td>Data Engineer</td>\n",
       "      <td>4</td>\n",
       "    </tr>\n",
       "    <tr>\n",
       "      <th>0</th>\n",
       "      <td>Data Science</td>\n",
       "      <td>2</td>\n",
       "    </tr>\n",
       "    <tr>\n",
       "      <th>1</th>\n",
       "      <td>Machine Learning</td>\n",
       "      <td>3</td>\n",
       "    </tr>\n",
       "    <tr>\n",
       "      <th>2</th>\n",
       "      <td>Big Data</td>\n",
       "      <td>6</td>\n",
       "    </tr>\n",
       "  </tbody>\n",
       "</table>\n",
       "</div>"
      ],
      "text/plain": [
       "        course_name  duration\n",
       "3     Data Engineer         4\n",
       "0      Data Science         2\n",
       "1  Machine Learning         3\n",
       "2          Big Data         6"
      ]
     },
     "execution_count": 5,
     "metadata": {},
     "output_type": "execute_result"
    }
   ],
   "source": [
    "new_df"
   ]
  },
  {
   "cell_type": "code",
   "execution_count": 6,
   "id": "1a60838b-1a05-424c-973f-abe85582b8e0",
   "metadata": {},
   "outputs": [
    {
     "data": {
      "text/plain": [
       "course_name    Big Data\n",
       "duration              6\n",
       "Name: 2, dtype: object"
      ]
     },
     "execution_count": 6,
     "metadata": {},
     "output_type": "execute_result"
    }
   ],
   "source": [
    "new_df.loc[2]"
   ]
  },
  {
   "cell_type": "code",
   "execution_count": 7,
   "id": "a1cf6a6e-9ebd-4dd3-91a6-531aa2069b57",
   "metadata": {},
   "outputs": [
    {
     "data": {
      "text/plain": [
       "course_name    Machine Learning\n",
       "duration                      3\n",
       "Name: 1, dtype: object"
      ]
     },
     "execution_count": 7,
     "metadata": {},
     "output_type": "execute_result"
    }
   ],
   "source": [
    "new_df.iloc[2]"
   ]
  },
  {
   "cell_type": "markdown",
   "id": "4d008234-bfc2-4c1d-86d5-4bc03a06d852",
   "metadata": {},
   "source": [
    "* There is difference in both output because loc takes the named indexes whereas iloc takes the default indexes"
   ]
  },
  {
   "cell_type": "markdown",
   "id": "a3ae5ec8-ddc6-42dd-ac35-e90ba5c4a900",
   "metadata": {},
   "source": [
    "### 4)"
   ]
  },
  {
   "cell_type": "code",
   "execution_count": 8,
   "id": "3c33f691-b2f1-464e-ae07-ec312de87f92",
   "metadata": {},
   "outputs": [],
   "source": [
    "import pandas as pd\n",
    "import numpy as np\n",
    "columns = ['column_1', 'column_2', 'column_3', 'column_4', 'column_5', 'column_6']\n",
    "indices = [1,2,3,4,5,6]\n",
    "#Creating a dataframe:\n",
    "df1 = pd.DataFrame(np.random.rand(6,6), columns = columns, index = indices)"
   ]
  },
  {
   "cell_type": "code",
   "execution_count": 9,
   "id": "24cb2c8a-6b84-4393-8291-c6dedac9022b",
   "metadata": {},
   "outputs": [
    {
     "data": {
      "text/html": [
       "<div>\n",
       "<style scoped>\n",
       "    .dataframe tbody tr th:only-of-type {\n",
       "        vertical-align: middle;\n",
       "    }\n",
       "\n",
       "    .dataframe tbody tr th {\n",
       "        vertical-align: top;\n",
       "    }\n",
       "\n",
       "    .dataframe thead th {\n",
       "        text-align: right;\n",
       "    }\n",
       "</style>\n",
       "<table border=\"1\" class=\"dataframe\">\n",
       "  <thead>\n",
       "    <tr style=\"text-align: right;\">\n",
       "      <th></th>\n",
       "      <th>column_1</th>\n",
       "      <th>column_2</th>\n",
       "      <th>column_3</th>\n",
       "      <th>column_4</th>\n",
       "      <th>column_5</th>\n",
       "      <th>column_6</th>\n",
       "    </tr>\n",
       "  </thead>\n",
       "  <tbody>\n",
       "    <tr>\n",
       "      <th>1</th>\n",
       "      <td>0.645301</td>\n",
       "      <td>0.237679</td>\n",
       "      <td>0.066364</td>\n",
       "      <td>0.956967</td>\n",
       "      <td>0.400167</td>\n",
       "      <td>0.668480</td>\n",
       "    </tr>\n",
       "    <tr>\n",
       "      <th>2</th>\n",
       "      <td>0.106016</td>\n",
       "      <td>0.948825</td>\n",
       "      <td>0.388863</td>\n",
       "      <td>0.771467</td>\n",
       "      <td>0.539098</td>\n",
       "      <td>0.203087</td>\n",
       "    </tr>\n",
       "    <tr>\n",
       "      <th>3</th>\n",
       "      <td>0.609124</td>\n",
       "      <td>0.527103</td>\n",
       "      <td>0.981614</td>\n",
       "      <td>0.465634</td>\n",
       "      <td>0.765090</td>\n",
       "      <td>0.122264</td>\n",
       "    </tr>\n",
       "    <tr>\n",
       "      <th>4</th>\n",
       "      <td>0.642857</td>\n",
       "      <td>0.411971</td>\n",
       "      <td>0.018911</td>\n",
       "      <td>0.663375</td>\n",
       "      <td>0.448087</td>\n",
       "      <td>0.732634</td>\n",
       "    </tr>\n",
       "    <tr>\n",
       "      <th>5</th>\n",
       "      <td>0.152332</td>\n",
       "      <td>0.676410</td>\n",
       "      <td>0.555345</td>\n",
       "      <td>0.874527</td>\n",
       "      <td>0.129060</td>\n",
       "      <td>0.068687</td>\n",
       "    </tr>\n",
       "    <tr>\n",
       "      <th>6</th>\n",
       "      <td>0.788387</td>\n",
       "      <td>0.616942</td>\n",
       "      <td>0.480438</td>\n",
       "      <td>0.231074</td>\n",
       "      <td>0.796725</td>\n",
       "      <td>0.058076</td>\n",
       "    </tr>\n",
       "  </tbody>\n",
       "</table>\n",
       "</div>"
      ],
      "text/plain": [
       "   column_1  column_2  column_3  column_4  column_5  column_6\n",
       "1  0.645301  0.237679  0.066364  0.956967  0.400167  0.668480\n",
       "2  0.106016  0.948825  0.388863  0.771467  0.539098  0.203087\n",
       "3  0.609124  0.527103  0.981614  0.465634  0.765090  0.122264\n",
       "4  0.642857  0.411971  0.018911  0.663375  0.448087  0.732634\n",
       "5  0.152332  0.676410  0.555345  0.874527  0.129060  0.068687\n",
       "6  0.788387  0.616942  0.480438  0.231074  0.796725  0.058076"
      ]
     },
     "execution_count": 9,
     "metadata": {},
     "output_type": "execute_result"
    }
   ],
   "source": [
    "df1"
   ]
  },
  {
   "cell_type": "markdown",
   "id": "75874129-8a05-4051-871e-2e719106292f",
   "metadata": {},
   "source": [
    "* (i) mean of each and every column present in the dataframe."
   ]
  },
  {
   "cell_type": "code",
   "execution_count": 10,
   "id": "b0ac95c6-8a60-4811-93d4-f53e94a078c6",
   "metadata": {},
   "outputs": [
    {
     "data": {
      "text/html": [
       "<div>\n",
       "<style scoped>\n",
       "    .dataframe tbody tr th:only-of-type {\n",
       "        vertical-align: middle;\n",
       "    }\n",
       "\n",
       "    .dataframe tbody tr th {\n",
       "        vertical-align: top;\n",
       "    }\n",
       "\n",
       "    .dataframe thead th {\n",
       "        text-align: right;\n",
       "    }\n",
       "</style>\n",
       "<table border=\"1\" class=\"dataframe\">\n",
       "  <thead>\n",
       "    <tr style=\"text-align: right;\">\n",
       "      <th></th>\n",
       "      <th>column_1</th>\n",
       "      <th>column_2</th>\n",
       "      <th>column_3</th>\n",
       "      <th>column_4</th>\n",
       "      <th>column_5</th>\n",
       "      <th>column_6</th>\n",
       "    </tr>\n",
       "  </thead>\n",
       "  <tbody>\n",
       "    <tr>\n",
       "      <th>count</th>\n",
       "      <td>6.000000</td>\n",
       "      <td>6.000000</td>\n",
       "      <td>6.000000</td>\n",
       "      <td>6.000000</td>\n",
       "      <td>6.000000</td>\n",
       "      <td>6.000000</td>\n",
       "    </tr>\n",
       "    <tr>\n",
       "      <th>mean</th>\n",
       "      <td>0.490669</td>\n",
       "      <td>0.569822</td>\n",
       "      <td>0.415256</td>\n",
       "      <td>0.660507</td>\n",
       "      <td>0.513038</td>\n",
       "      <td>0.308871</td>\n",
       "    </tr>\n",
       "    <tr>\n",
       "      <th>std</th>\n",
       "      <td>0.287113</td>\n",
       "      <td>0.242605</td>\n",
       "      <td>0.353312</td>\n",
       "      <td>0.271441</td>\n",
       "      <td>0.248630</td>\n",
       "      <td>0.308380</td>\n",
       "    </tr>\n",
       "    <tr>\n",
       "      <th>min</th>\n",
       "      <td>0.106016</td>\n",
       "      <td>0.237679</td>\n",
       "      <td>0.018911</td>\n",
       "      <td>0.231074</td>\n",
       "      <td>0.129060</td>\n",
       "      <td>0.058076</td>\n",
       "    </tr>\n",
       "    <tr>\n",
       "      <th>25%</th>\n",
       "      <td>0.266530</td>\n",
       "      <td>0.440754</td>\n",
       "      <td>0.146988</td>\n",
       "      <td>0.515069</td>\n",
       "      <td>0.412147</td>\n",
       "      <td>0.082081</td>\n",
       "    </tr>\n",
       "    <tr>\n",
       "      <th>50%</th>\n",
       "      <td>0.625990</td>\n",
       "      <td>0.572023</td>\n",
       "      <td>0.434651</td>\n",
       "      <td>0.717421</td>\n",
       "      <td>0.493592</td>\n",
       "      <td>0.162675</td>\n",
       "    </tr>\n",
       "    <tr>\n",
       "      <th>75%</th>\n",
       "      <td>0.644690</td>\n",
       "      <td>0.661543</td>\n",
       "      <td>0.536618</td>\n",
       "      <td>0.848762</td>\n",
       "      <td>0.708592</td>\n",
       "      <td>0.552132</td>\n",
       "    </tr>\n",
       "    <tr>\n",
       "      <th>max</th>\n",
       "      <td>0.788387</td>\n",
       "      <td>0.948825</td>\n",
       "      <td>0.981614</td>\n",
       "      <td>0.956967</td>\n",
       "      <td>0.796725</td>\n",
       "      <td>0.732634</td>\n",
       "    </tr>\n",
       "  </tbody>\n",
       "</table>\n",
       "</div>"
      ],
      "text/plain": [
       "       column_1  column_2  column_3  column_4  column_5  column_6\n",
       "count  6.000000  6.000000  6.000000  6.000000  6.000000  6.000000\n",
       "mean   0.490669  0.569822  0.415256  0.660507  0.513038  0.308871\n",
       "std    0.287113  0.242605  0.353312  0.271441  0.248630  0.308380\n",
       "min    0.106016  0.237679  0.018911  0.231074  0.129060  0.058076\n",
       "25%    0.266530  0.440754  0.146988  0.515069  0.412147  0.082081\n",
       "50%    0.625990  0.572023  0.434651  0.717421  0.493592  0.162675\n",
       "75%    0.644690  0.661543  0.536618  0.848762  0.708592  0.552132\n",
       "max    0.788387  0.948825  0.981614  0.956967  0.796725  0.732634"
      ]
     },
     "execution_count": 10,
     "metadata": {},
     "output_type": "execute_result"
    }
   ],
   "source": [
    "df1.describe()"
   ]
  },
  {
   "cell_type": "markdown",
   "id": "5d36359c-7fbb-4f2c-852b-6b1c1dd550ca",
   "metadata": {},
   "source": [
    "* standard deviation of column, ‘column_2’"
   ]
  },
  {
   "cell_type": "code",
   "execution_count": 11,
   "id": "7b2dcf6d-55b1-44f8-a303-928cf9a3946b",
   "metadata": {},
   "outputs": [
    {
     "data": {
      "text/plain": [
       "0.2426048477416068"
      ]
     },
     "execution_count": 11,
     "metadata": {},
     "output_type": "execute_result"
    }
   ],
   "source": [
    "df1['column_2'].std()"
   ]
  },
  {
   "cell_type": "markdown",
   "id": "e9befea7-528b-4bbb-8816-2e949404ccbe",
   "metadata": {},
   "source": [
    "### 5)"
   ]
  },
  {
   "cell_type": "code",
   "execution_count": 12,
   "id": "54b95f65-6a48-43dd-a556-5c0f10fb6470",
   "metadata": {},
   "outputs": [
    {
     "data": {
      "text/html": [
       "<div>\n",
       "<style scoped>\n",
       "    .dataframe tbody tr th:only-of-type {\n",
       "        vertical-align: middle;\n",
       "    }\n",
       "\n",
       "    .dataframe tbody tr th {\n",
       "        vertical-align: top;\n",
       "    }\n",
       "\n",
       "    .dataframe thead th {\n",
       "        text-align: right;\n",
       "    }\n",
       "</style>\n",
       "<table border=\"1\" class=\"dataframe\">\n",
       "  <thead>\n",
       "    <tr style=\"text-align: right;\">\n",
       "      <th></th>\n",
       "      <th>column_1</th>\n",
       "      <th>column_2</th>\n",
       "      <th>column_3</th>\n",
       "      <th>column_4</th>\n",
       "      <th>column_5</th>\n",
       "      <th>column_6</th>\n",
       "    </tr>\n",
       "  </thead>\n",
       "  <tbody>\n",
       "    <tr>\n",
       "      <th>1</th>\n",
       "      <td>0.645301</td>\n",
       "      <td>0.237679</td>\n",
       "      <td>0.066364</td>\n",
       "      <td>0.956967</td>\n",
       "      <td>0.400167</td>\n",
       "      <td>0.668480</td>\n",
       "    </tr>\n",
       "    <tr>\n",
       "      <th>2</th>\n",
       "      <td>0.106016</td>\n",
       "      <td>0.948825</td>\n",
       "      <td>0.388863</td>\n",
       "      <td>0.771467</td>\n",
       "      <td>0.539098</td>\n",
       "      <td>0.203087</td>\n",
       "    </tr>\n",
       "    <tr>\n",
       "      <th>3</th>\n",
       "      <td>0.609124</td>\n",
       "      <td>0.527103</td>\n",
       "      <td>0.981614</td>\n",
       "      <td>0.465634</td>\n",
       "      <td>0.765090</td>\n",
       "      <td>0.122264</td>\n",
       "    </tr>\n",
       "    <tr>\n",
       "      <th>4</th>\n",
       "      <td>0.642857</td>\n",
       "      <td>0.411971</td>\n",
       "      <td>0.018911</td>\n",
       "      <td>0.663375</td>\n",
       "      <td>0.448087</td>\n",
       "      <td>0.732634</td>\n",
       "    </tr>\n",
       "    <tr>\n",
       "      <th>5</th>\n",
       "      <td>0.152332</td>\n",
       "      <td>0.676410</td>\n",
       "      <td>0.555345</td>\n",
       "      <td>0.874527</td>\n",
       "      <td>0.129060</td>\n",
       "      <td>0.068687</td>\n",
       "    </tr>\n",
       "    <tr>\n",
       "      <th>6</th>\n",
       "      <td>0.788387</td>\n",
       "      <td>0.616942</td>\n",
       "      <td>0.480438</td>\n",
       "      <td>0.231074</td>\n",
       "      <td>0.796725</td>\n",
       "      <td>0.058076</td>\n",
       "    </tr>\n",
       "  </tbody>\n",
       "</table>\n",
       "</div>"
      ],
      "text/plain": [
       "   column_1  column_2  column_3  column_4  column_5  column_6\n",
       "1  0.645301  0.237679  0.066364  0.956967  0.400167  0.668480\n",
       "2  0.106016  0.948825  0.388863  0.771467  0.539098  0.203087\n",
       "3  0.609124  0.527103  0.981614  0.465634  0.765090  0.122264\n",
       "4  0.642857  0.411971  0.018911  0.663375  0.448087  0.732634\n",
       "5  0.152332  0.676410  0.555345  0.874527  0.129060  0.068687\n",
       "6  0.788387  0.616942  0.480438  0.231074  0.796725  0.058076"
      ]
     },
     "execution_count": 12,
     "metadata": {},
     "output_type": "execute_result"
    }
   ],
   "source": [
    "df1"
   ]
  },
  {
   "cell_type": "code",
   "execution_count": 13,
   "id": "233d2b51-158c-4dfc-9052-8369c4385aa7",
   "metadata": {},
   "outputs": [],
   "source": [
    "df1.loc[[2],[\"column_2\"]]= \"ok\""
   ]
  },
  {
   "cell_type": "code",
   "execution_count": 14,
   "id": "417038a6-cb68-468c-b1c9-50d11f48efa0",
   "metadata": {},
   "outputs": [
    {
     "data": {
      "text/html": [
       "<div>\n",
       "<style scoped>\n",
       "    .dataframe tbody tr th:only-of-type {\n",
       "        vertical-align: middle;\n",
       "    }\n",
       "\n",
       "    .dataframe tbody tr th {\n",
       "        vertical-align: top;\n",
       "    }\n",
       "\n",
       "    .dataframe thead th {\n",
       "        text-align: right;\n",
       "    }\n",
       "</style>\n",
       "<table border=\"1\" class=\"dataframe\">\n",
       "  <thead>\n",
       "    <tr style=\"text-align: right;\">\n",
       "      <th></th>\n",
       "      <th>column_1</th>\n",
       "      <th>column_2</th>\n",
       "      <th>column_3</th>\n",
       "      <th>column_4</th>\n",
       "      <th>column_5</th>\n",
       "      <th>column_6</th>\n",
       "    </tr>\n",
       "  </thead>\n",
       "  <tbody>\n",
       "    <tr>\n",
       "      <th>1</th>\n",
       "      <td>0.645301</td>\n",
       "      <td>0.237679</td>\n",
       "      <td>0.066364</td>\n",
       "      <td>0.956967</td>\n",
       "      <td>0.400167</td>\n",
       "      <td>0.668480</td>\n",
       "    </tr>\n",
       "    <tr>\n",
       "      <th>2</th>\n",
       "      <td>0.106016</td>\n",
       "      <td>ok</td>\n",
       "      <td>0.388863</td>\n",
       "      <td>0.771467</td>\n",
       "      <td>0.539098</td>\n",
       "      <td>0.203087</td>\n",
       "    </tr>\n",
       "    <tr>\n",
       "      <th>3</th>\n",
       "      <td>0.609124</td>\n",
       "      <td>0.527103</td>\n",
       "      <td>0.981614</td>\n",
       "      <td>0.465634</td>\n",
       "      <td>0.765090</td>\n",
       "      <td>0.122264</td>\n",
       "    </tr>\n",
       "    <tr>\n",
       "      <th>4</th>\n",
       "      <td>0.642857</td>\n",
       "      <td>0.411971</td>\n",
       "      <td>0.018911</td>\n",
       "      <td>0.663375</td>\n",
       "      <td>0.448087</td>\n",
       "      <td>0.732634</td>\n",
       "    </tr>\n",
       "    <tr>\n",
       "      <th>5</th>\n",
       "      <td>0.152332</td>\n",
       "      <td>0.67641</td>\n",
       "      <td>0.555345</td>\n",
       "      <td>0.874527</td>\n",
       "      <td>0.129060</td>\n",
       "      <td>0.068687</td>\n",
       "    </tr>\n",
       "    <tr>\n",
       "      <th>6</th>\n",
       "      <td>0.788387</td>\n",
       "      <td>0.616942</td>\n",
       "      <td>0.480438</td>\n",
       "      <td>0.231074</td>\n",
       "      <td>0.796725</td>\n",
       "      <td>0.058076</td>\n",
       "    </tr>\n",
       "  </tbody>\n",
       "</table>\n",
       "</div>"
      ],
      "text/plain": [
       "   column_1  column_2  column_3  column_4  column_5  column_6\n",
       "1  0.645301  0.237679  0.066364  0.956967  0.400167  0.668480\n",
       "2  0.106016        ok  0.388863  0.771467  0.539098  0.203087\n",
       "3  0.609124  0.527103  0.981614  0.465634  0.765090  0.122264\n",
       "4  0.642857  0.411971  0.018911  0.663375  0.448087  0.732634\n",
       "5  0.152332   0.67641  0.555345  0.874527  0.129060  0.068687\n",
       "6  0.788387  0.616942  0.480438  0.231074  0.796725  0.058076"
      ]
     },
     "execution_count": 14,
     "metadata": {},
     "output_type": "execute_result"
    }
   ],
   "source": [
    "df1"
   ]
  },
  {
   "cell_type": "code",
   "execution_count": 15,
   "id": "5cb7d205-1f7a-4f4e-b1ec-5eac993f5ed0",
   "metadata": {},
   "outputs": [],
   "source": [
    "#df1['column_2'].mean() "
   ]
  },
  {
   "cell_type": "markdown",
   "id": "472442c0-9455-460f-b50c-6280584de821",
   "metadata": {},
   "source": [
    "The abovewill cause error has occured because mean only requires numerical data however we are providing mixture\n",
    "of numerical and string data"
   ]
  },
  {
   "cell_type": "markdown",
   "id": "894744b9-61ce-4b59-b636-92cf1207211d",
   "metadata": {},
   "source": [
    "### 6)"
   ]
  },
  {
   "cell_type": "markdown",
   "id": "0e1a861f-f863-4f0e-8a15-1a7c65293706",
   "metadata": {},
   "source": [
    "* Windows function are the function that helps to perform calculation within a given time range such as \n",
    "  window of 2 days , 3 days etc.\n",
    "* rolling() is one such windows function"
   ]
  },
  {
   "cell_type": "markdown",
   "id": "410f8fa5-1f67-4534-acaa-4c0c039eb7f3",
   "metadata": {},
   "source": [
    "### 7)"
   ]
  },
  {
   "cell_type": "code",
   "execution_count": 16,
   "id": "b4bd079e-dc3a-4e77-9b65-4c95e1b79e85",
   "metadata": {},
   "outputs": [],
   "source": [
    "date = pd.to_datetime(\"2023-02-28\")"
   ]
  },
  {
   "cell_type": "code",
   "execution_count": 17,
   "id": "1bd779ef-0155-48da-ba7a-a74101030ef6",
   "metadata": {},
   "outputs": [
    {
     "data": {
      "text/plain": [
       "Timestamp('2023-02-28 00:00:00')"
      ]
     },
     "execution_count": 17,
     "metadata": {},
     "output_type": "execute_result"
    }
   ],
   "source": [
    "date"
   ]
  },
  {
   "cell_type": "code",
   "execution_count": 18,
   "id": "bd074258-38a5-41e7-ad76-e7a1d5690a7a",
   "metadata": {},
   "outputs": [
    {
     "data": {
      "text/plain": [
       "2"
      ]
     },
     "execution_count": 18,
     "metadata": {},
     "output_type": "execute_result"
    }
   ],
   "source": [
    "date.month"
   ]
  },
  {
   "cell_type": "code",
   "execution_count": 19,
   "id": "a0f4c564-46b6-4eb1-93cb-439f4080ad8a",
   "metadata": {},
   "outputs": [
    {
     "data": {
      "text/plain": [
       "2023"
      ]
     },
     "execution_count": 19,
     "metadata": {},
     "output_type": "execute_result"
    }
   ],
   "source": [
    "date.year"
   ]
  },
  {
   "cell_type": "markdown",
   "id": "169fba61-a1bc-4e44-842e-f763a407c6c9",
   "metadata": {},
   "source": [
    "### 8)"
   ]
  },
  {
   "cell_type": "code",
   "execution_count": 24,
   "id": "0351e1bf-9e18-4fb1-b1ac-446204b76b26",
   "metadata": {},
   "outputs": [],
   "source": [
    "def date_diffrence(x,y):\n",
    "    x = pd.to_datetime(x)\n",
    "    y= pd.to_datetime(y)\n",
    "    diff = pd.Timedelta(y-x)\n",
    "    print (\"Difference in days are: \",diff.components[0])\n",
    "    print(\"Difference in hours are : \",diff.components[1])\n",
    "    print(\"Difference in minutes are: \",diff.components[2])"
   ]
  },
  {
   "cell_type": "code",
   "execution_count": 25,
   "id": "ae985897-e919-4cc6-ac0f-2750eee4194b",
   "metadata": {},
   "outputs": [
    {
     "name": "stdin",
     "output_type": "stream",
     "text": [
      "Enter First date  2021/10/20 09:15:32.36980\n"
     ]
    }
   ],
   "source": [
    "#Enter this date 2021/10/20 09:15:32.36980\n",
    "date1 = input(\"Enter First date \")"
   ]
  },
  {
   "cell_type": "code",
   "execution_count": 28,
   "id": "03809ac7-184e-4598-a20d-9db3c8798285",
   "metadata": {},
   "outputs": [
    {
     "name": "stdin",
     "output_type": "stream",
     "text": [
      "Enter Second  date  2022/2/20 04:25:42.120450\n"
     ]
    }
   ],
   "source": [
    "#Enter this date 2022/2/20 04:25:42.120450\"\n",
    "date2 = input(\"Enter Second  date \")"
   ]
  },
  {
   "cell_type": "code",
   "execution_count": 29,
   "id": "cf8ebc02-892c-4a84-85e8-408c4f82f69b",
   "metadata": {},
   "outputs": [
    {
     "name": "stdout",
     "output_type": "stream",
     "text": [
      "Difference in days are:  122\n",
      "Difference in hours are :  19\n",
      "Difference in minutes are:  10\n"
     ]
    }
   ],
   "source": [
    "date_diffrence(date1,date2)"
   ]
  },
  {
   "cell_type": "markdown",
   "id": "256b14e7-4fde-4f2f-bb08-37dc529ceec3",
   "metadata": {},
   "source": [
    "### 9)"
   ]
  },
  {
   "cell_type": "code",
   "execution_count": null,
   "id": "e55d8083-088e-462d-9e92-38a201593861",
   "metadata": {},
   "outputs": [],
   "source": []
  }
 ],
 "metadata": {
  "kernelspec": {
   "display_name": "Python 3 (ipykernel)",
   "language": "python",
   "name": "python3"
  },
  "language_info": {
   "codemirror_mode": {
    "name": "ipython",
    "version": 3
   },
   "file_extension": ".py",
   "mimetype": "text/x-python",
   "name": "python",
   "nbconvert_exporter": "python",
   "pygments_lexer": "ipython3",
   "version": "3.10.8"
  }
 },
 "nbformat": 4,
 "nbformat_minor": 5
}
