{
 "cells": [
  {
   "cell_type": "code",
   "execution_count": 6,
   "id": "91c57c26-1254-4d54-992e-daefa23546db",
   "metadata": {},
   "outputs": [],
   "source": [
    "## 1)"
   ]
  },
  {
   "cell_type": "code",
   "execution_count": 5,
   "id": "0f08ad5f-b1e7-4328-b1d4-a45e1cb3db8d",
   "metadata": {},
   "outputs": [
    {
     "name": "stdin",
     "output_type": "stream",
     "text": [
      "Enter percenatge 56\n"
     ]
    },
    {
     "name": "stdout",
     "output_type": "stream",
     "text": [
      "Grade D\n"
     ]
    }
   ],
   "source": [
    "percentage = int(input(\"Enter percenatge\"))\n",
    "if percentage > 90:\n",
    "    print(\"Grade A\")\n",
    "elif percentage > 80 and percentage <= 90:\n",
    "    print(\"Grade B\")\n",
    "elif percentage >= 60 and percentage <= 80:\n",
    "    print(\"Grade C\")\n",
    "else:\n",
    "    print(\"Grade D\")"
   ]
  },
  {
   "cell_type": "code",
   "execution_count": 7,
   "id": "d844fb0a-2ef6-45f7-9027-cdf9719062a7",
   "metadata": {},
   "outputs": [],
   "source": [
    "## 2)"
   ]
  },
  {
   "cell_type": "code",
   "execution_count": 11,
   "id": "de42f31f-9b35-41bc-ba01-46699b6b435a",
   "metadata": {},
   "outputs": [
    {
     "name": "stdin",
     "output_type": "stream",
     "text": [
      "Enter cost price of bike 50000\n"
     ]
    },
    {
     "name": "stdout",
     "output_type": "stream",
     "text": [
      "You need to pay 5% of tax that is:2500.0\n"
     ]
    }
   ],
   "source": [
    "cost_price = float(input(\"Enter cost price of bike\"))\n",
    "if cost_price > 100000:\n",
    "    print(\"You need to 15% of tax that is: \"+ str(.15*cost_price))\n",
    "elif cost_price > 50000 and cost_price <= 100000:\n",
    "    print(\"You need to pay 10% of tax that is: \"+ str(.1*cost_price))\n",
    "else:\n",
    "    print(\"You need to pay 5% of tax that is:\"+ str(.05*cost_price))"
   ]
  },
  {
   "cell_type": "code",
   "execution_count": 12,
   "id": "9a3610a8-39c7-4224-8e36-614a83817227",
   "metadata": {},
   "outputs": [],
   "source": [
    "## 3)"
   ]
  },
  {
   "cell_type": "code",
   "execution_count": 17,
   "id": "48859b7d-330a-493f-9378-a067f9375044",
   "metadata": {},
   "outputs": [
    {
     "name": "stdin",
     "output_type": "stream",
     "text": [
      "Enter city Gurugram\n"
     ]
    },
    {
     "name": "stdout",
     "output_type": "stream",
     "text": [
      "No monument found in entered city\n"
     ]
    }
   ],
   "source": [
    "city = input(\"Enter city\")\n",
    "if city== \"Delhi\":\n",
    "    print(\"Red Fort\")\n",
    "elif city ==\"Agra\":\n",
    "    print(\"Taj Mahal\")\n",
    "elif city == \"Jaipur\":\n",
    "    print(\"Jal Mahal\")\n",
    "else:\n",
    "    print(\"No monument found in entered city\")"
   ]
  },
  {
   "cell_type": "code",
   "execution_count": 18,
   "id": "ea4bb55e-462c-4a3f-a93a-359230baa8ea",
   "metadata": {},
   "outputs": [],
   "source": [
    "## 4)"
   ]
  },
  {
   "cell_type": "code",
   "execution_count": 36,
   "id": "89adab0f-af07-44d4-ba8a-fb0dacca3f97",
   "metadata": {},
   "outputs": [
    {
     "name": "stdin",
     "output_type": "stream",
     "text": [
      "Enter Number 32\n"
     ]
    },
    {
     "name": "stdout",
     "output_type": "stream",
     "text": [
      "32\n",
      "10.666666666666666\n",
      "Number is divided exactly 2 times.\n"
     ]
    }
   ],
   "source": [
    "num = int(input(\"Enter Number\"))\n",
    "count = 0\n",
    "while(num>10):\n",
    "    print(num)\n",
    "    num = num/3\n",
    "    count = count+1\n",
    "print(\"Number is divided exactly \"+str(count)+ \" times.\")"
   ]
  },
  {
   "cell_type": "code",
   "execution_count": 1,
   "id": "a060a4ff-018a-47cc-8677-1175f42d90e6",
   "metadata": {},
   "outputs": [],
   "source": [
    "##5) While loop is used when looping is required to done based on certain condition. Given below is an example of same"
   ]
  },
  {
   "cell_type": "code",
   "execution_count": 2,
   "id": "7834eddc-4029-4f4c-a3b9-991c1046de95",
   "metadata": {},
   "outputs": [
    {
     "name": "stdout",
     "output_type": "stream",
     "text": [
      "10\n",
      "9\n",
      "8\n",
      "7\n",
      "6\n",
      "5\n",
      "4\n",
      "3\n",
      "2\n",
      "1\n"
     ]
    }
   ],
   "source": [
    "count = 10\n",
    "while(count>0):\n",
    "    print(count)\n",
    "    count = count-1"
   ]
  },
  {
   "cell_type": "code",
   "execution_count": 29,
   "id": "6800c20c-1775-4ecf-8d0d-5a260be2762e",
   "metadata": {},
   "outputs": [],
   "source": [
    "##6)"
   ]
  },
  {
   "cell_type": "code",
   "execution_count": 6,
   "id": "8f7fddee-87d3-436a-9d2b-8931f4273130",
   "metadata": {},
   "outputs": [
    {
     "name": "stdin",
     "output_type": "stream",
     "text": [
      "Enter number of rows :  3\n"
     ]
    },
    {
     "name": "stdout",
     "output_type": "stream",
     "text": [
      "* \n",
      "* * \n",
      "* * * \n"
     ]
    }
   ],
   "source": [
    "# Pattern -1\n",
    "n = int(input('Enter number of rows : '))\n",
    " \n",
    "i = 1\n",
    "while i <= n :\n",
    "    j = 1\n",
    "    while j <= i:\n",
    "        print(\"*\", end = \" \")\n",
    "        j += 1\n",
    "    print()\n",
    "    i += 1"
   ]
  },
  {
   "cell_type": "code",
   "execution_count": 5,
   "id": "399854bb-bb39-4109-9878-be32f4d62200",
   "metadata": {},
   "outputs": [
    {
     "name": "stdin",
     "output_type": "stream",
     "text": [
      "Enter number of rows :  3\n"
     ]
    },
    {
     "name": "stdout",
     "output_type": "stream",
     "text": [
      "* * * \n",
      "* * \n",
      "* \n"
     ]
    }
   ],
   "source": [
    "#Pattern-2\n",
    "n = int(input('Enter number of rows : '))\n",
    " \n",
    "i = 1\n",
    "while i <= n :\n",
    "    j = n\n",
    "    while j >= i:\n",
    "        print(\"*\", end = \" \")\n",
    "        j -= 1\n",
    "    print()\n",
    "    i += 1"
   ]
  },
  {
   "cell_type": "code",
   "execution_count": 8,
   "id": "7af19ae0-096a-48ad-92cd-0e2c38be038e",
   "metadata": {},
   "outputs": [
    {
     "name": "stdin",
     "output_type": "stream",
     "text": [
      "Enter number of rows :  3\n"
     ]
    },
    {
     "name": "stdout",
     "output_type": "stream",
     "text": [
      "  1 \n",
      "  2   3 \n",
      "  4   5   6 \n"
     ]
    }
   ],
   "source": [
    "#Pattern -3\n",
    "n = int(input('Enter number of rows : '))\n",
    " \n",
    "k = 1\n",
    "i = 1\n",
    "while i <= n :\n",
    "    j = 1\n",
    "    while j <= i:\n",
    "        print(\"{:3d}\".format(k), end = \" \")\n",
    "        j += 1\n",
    "        k += 1\n",
    "    print()\n",
    "    i += 1"
   ]
  },
  {
   "cell_type": "code",
   "execution_count": 30,
   "id": "716787a0-549e-45d3-873a-ef07eac0fd86",
   "metadata": {},
   "outputs": [],
   "source": [
    "##7)"
   ]
  },
  {
   "cell_type": "code",
   "execution_count": 32,
   "id": "0035f5bc-f3ec-4e11-bdb6-2ba0c5dc7ebe",
   "metadata": {},
   "outputs": [
    {
     "name": "stdout",
     "output_type": "stream",
     "text": [
      "10\n",
      "9\n",
      "8\n",
      "7\n",
      "6\n",
      "5\n",
      "4\n",
      "3\n",
      "2\n",
      "1\n"
     ]
    }
   ],
   "source": [
    "count = 10\n",
    "while(count>0):\n",
    "    print(count)\n",
    "    count = count-1"
   ]
  },
  {
   "cell_type": "code",
   "execution_count": 33,
   "id": "775396ac-f1be-4d66-87d4-4b041329a20b",
   "metadata": {},
   "outputs": [],
   "source": [
    "## 8)"
   ]
  },
  {
   "cell_type": "code",
   "execution_count": 34,
   "id": "a9dd1daa-953e-441b-b0e5-b2f3579bf71c",
   "metadata": {},
   "outputs": [
    {
     "name": "stdout",
     "output_type": "stream",
     "text": [
      "10\n",
      "9\n",
      "8\n",
      "7\n",
      "6\n",
      "5\n",
      "4\n",
      "3\n",
      "2\n",
      "1\n"
     ]
    }
   ],
   "source": [
    "count = 10\n",
    "while(count>0):\n",
    "    print(count)\n",
    "    count = count-1"
   ]
  },
  {
   "cell_type": "code",
   "execution_count": null,
   "id": "39364f48-a496-47b1-9bd7-952f6a958624",
   "metadata": {},
   "outputs": [],
   "source": []
  }
 ],
 "metadata": {
  "kernelspec": {
   "display_name": "Python 3 (ipykernel)",
   "language": "python",
   "name": "python3"
  },
  "language_info": {
   "codemirror_mode": {
    "name": "ipython",
    "version": 3
   },
   "file_extension": ".py",
   "mimetype": "text/x-python",
   "name": "python",
   "nbconvert_exporter": "python",
   "pygments_lexer": "ipython3",
   "version": "3.10.8"
  }
 },
 "nbformat": 4,
 "nbformat_minor": 5
}
