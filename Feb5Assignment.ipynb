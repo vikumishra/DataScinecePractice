{
 "cells": [
  {
   "cell_type": "markdown",
   "id": "aa1ffc58-0770-4b5c-8e07-b2e90482f90a",
   "metadata": {},
   "source": [
    "## 1)"
   ]
  },
  {
   "cell_type": "code",
   "execution_count": 1,
   "id": "316b6bdc-cf9d-4e7b-9a74-e6cdb815fd9e",
   "metadata": {},
   "outputs": [],
   "source": [
    "## Class - It refrers to a blue-print of real life entity\n",
    "## Object - It refers to an instance of class which is used to access methods and variables of a class"
   ]
  },
  {
   "cell_type": "code",
   "execution_count": 6,
   "id": "371983b7-604f-435d-8bed-3ea60138081d",
   "metadata": {},
   "outputs": [],
   "source": [
    "class Vehicle:\n",
    "    pass"
   ]
  },
  {
   "cell_type": "code",
   "execution_count": 7,
   "id": "7cc512e9-1662-46eb-831e-d965f72e3fcf",
   "metadata": {},
   "outputs": [],
   "source": [
    "veh = Vehicle()"
   ]
  },
  {
   "cell_type": "markdown",
   "id": "4d4c755d-3ae3-4ca4-94ef-813103443496",
   "metadata": {},
   "source": [
    "## 2)"
   ]
  },
  {
   "cell_type": "markdown",
   "id": "58ce6dce-e4a5-4672-b5d8-6643f6f2a1a0",
   "metadata": {},
   "source": [
    "### Inheritance , Abstraction, Polymorphism , Encapsulation"
   ]
  },
  {
   "cell_type": "markdown",
   "id": "a9486e70-3d0c-428e-828b-9a717cc832bc",
   "metadata": {},
   "source": [
    "## 3)"
   ]
  },
  {
   "cell_type": "code",
   "execution_count": 8,
   "id": "887cc6db-bda4-41f1-bc99-96ba2ed1d123",
   "metadata": {},
   "outputs": [],
   "source": [
    "## __init__() is used to initialise instances/variables of class at time of object creation"
   ]
  },
  {
   "cell_type": "code",
   "execution_count": 13,
   "id": "9abe6d11-89c3-4f83-a5c2-f05c8aad6b31",
   "metadata": {},
   "outputs": [],
   "source": [
    "class Car:\n",
    "    def __init__(self,model,year):\n",
    "        self.model = model\n",
    "        self.year = year\n",
    "    def details(self):\n",
    "        return self.model , self.year"
   ]
  },
  {
   "cell_type": "code",
   "execution_count": 14,
   "id": "0e53f34b-f008-4fc7-856a-cad667a0c8c4",
   "metadata": {},
   "outputs": [],
   "source": [
    "obj = Car(\"Hyundai\",2015)"
   ]
  },
  {
   "cell_type": "code",
   "execution_count": 15,
   "id": "94cbc12c-2af2-4982-9e16-6258dd4f460a",
   "metadata": {},
   "outputs": [
    {
     "data": {
      "text/plain": [
       "('Hyundai', 2015)"
      ]
     },
     "execution_count": 15,
     "metadata": {},
     "output_type": "execute_result"
    }
   ],
   "source": [
    "obj.details()"
   ]
  },
  {
   "cell_type": "markdown",
   "id": "f4be6ed6-37dd-4740-a35f-aac658a92ff3",
   "metadata": {},
   "source": [
    "## 4)"
   ]
  },
  {
   "cell_type": "code",
   "execution_count": 17,
   "id": "cb2dbcb5-666e-4e6c-933f-25e5161fcdcc",
   "metadata": {},
   "outputs": [],
   "source": [
    "## Self keyword is used to bind instances and methods to a particular class. \n",
    "## It shows particular method or instance belongs to which class"
   ]
  },
  {
   "cell_type": "markdown",
   "id": "84a7bd91-b604-4313-8ec7-d94c0646fa0d",
   "metadata": {},
   "source": [
    "## 5)"
   ]
  },
  {
   "cell_type": "raw",
   "id": "ac233887-65b9-477c-b54d-61c1c16fce19",
   "metadata": {},
   "source": [
    "Inheritance allows us to define a class that inherits all the methods and properties from another class.\n",
    "\n",
    "Parent class is the class being inherited from, also called base class.\n",
    "\n",
    "Child class is the class that inherits from another class, also called derived class."
   ]
  },
  {
   "cell_type": "code",
   "execution_count": 18,
   "id": "aafd9a8c-4bfa-4944-85f8-a336c48427fc",
   "metadata": {},
   "outputs": [],
   "source": [
    "## Single Level Inheritance\n",
    "class A:\n",
    "    def display(self):\n",
    "        print(\"This is parent class\")\n",
    "        \n",
    "class B(A):\n",
    "    def display1(self):\n",
    "        print(\"This is child class\")"
   ]
  },
  {
   "cell_type": "code",
   "execution_count": 19,
   "id": "ba267752-17c2-48d6-a824-f473596693ce",
   "metadata": {},
   "outputs": [],
   "source": [
    "obj1 = B()"
   ]
  },
  {
   "cell_type": "code",
   "execution_count": 21,
   "id": "d5010027-f179-4196-9fdb-3b88866be3ab",
   "metadata": {},
   "outputs": [
    {
     "name": "stdout",
     "output_type": "stream",
     "text": [
      "This is parent class\n",
      "This is child class\n"
     ]
    }
   ],
   "source": [
    "obj1.display()\n",
    "obj1.display1()"
   ]
  },
  {
   "cell_type": "code",
   "execution_count": 22,
   "id": "0849dd60-84c9-4e41-861f-eb6ed3493466",
   "metadata": {},
   "outputs": [],
   "source": [
    "## Multiple level Inheritance\n",
    "class A:\n",
    "    def display(self):\n",
    "        print(\"This is parent class\")\n",
    "        \n",
    "class B(A):\n",
    "    def display1(self):\n",
    "        print(\"This is child class\")\n",
    "        \n",
    "class C(B):\n",
    "    def display2(self):\n",
    "        print(\"This is second child class\")"
   ]
  },
  {
   "cell_type": "code",
   "execution_count": 23,
   "id": "ac5fb769-a69e-4641-a1d6-8c9c3d84fa58",
   "metadata": {},
   "outputs": [
    {
     "name": "stdout",
     "output_type": "stream",
     "text": [
      "This is parent class\n",
      "This is child class\n",
      "This is second child class\n"
     ]
    }
   ],
   "source": [
    "obj1 = C()\n",
    "obj1.display()\n",
    "obj1.display1()\n",
    "obj1.display2()"
   ]
  },
  {
   "cell_type": "code",
   "execution_count": 24,
   "id": "03895f42-bcff-4a68-a26c-dd43bb528c65",
   "metadata": {},
   "outputs": [],
   "source": [
    "## Multiple Inheritance\n",
    "class A:\n",
    "    def display1(self):\n",
    "        print(\"This is first parent class\")\n",
    "class B:\n",
    "    def display2(self):\n",
    "        print(\"This is second parent class\")\n",
    "class C(A,B):\n",
    "    def display3(self):\n",
    "        print(\"This is child of both parent class\")"
   ]
  },
  {
   "cell_type": "code",
   "execution_count": 25,
   "id": "0dacb3c3-165f-4d77-a8cd-e988a081bd9a",
   "metadata": {},
   "outputs": [
    {
     "name": "stdout",
     "output_type": "stream",
     "text": [
      "This is first parent class\n",
      "This is second parent class\n",
      "This is child of both parent class\n"
     ]
    }
   ],
   "source": [
    "obj1 = C()\n",
    "obj1.display1()\n",
    "obj1.display2()\n",
    "obj1.display3()"
   ]
  },
  {
   "cell_type": "code",
   "execution_count": 26,
   "id": "a0ecacaf-8c7b-4f41-8584-c84851c64aa8",
   "metadata": {},
   "outputs": [],
   "source": [
    "## Hierarichal Inheritance\n",
    "class A:\n",
    "    def display1(self):\n",
    "        print(\"This is  parent\")\n",
    "class B(A):\n",
    "    def display2(self):\n",
    "        print(\"This is first child\")\n",
    "class C(A):\n",
    "    def display3(self):\n",
    "        print(\"This is Second child\")\n",
    "class D(A):\n",
    "    def display4(self):\n",
    "        print(\"This is third child\")"
   ]
  },
  {
   "cell_type": "code",
   "execution_count": 28,
   "id": "13e0c43d-751e-433c-b687-26673c056f22",
   "metadata": {},
   "outputs": [],
   "source": [
    "obj1 = B()\n",
    "obj2 = C()\n",
    "obj3= D()\n",
    "\n"
   ]
  },
  {
   "cell_type": "code",
   "execution_count": 29,
   "id": "fb9d43e4-c15d-4bc5-ae71-fbc85007722c",
   "metadata": {},
   "outputs": [
    {
     "name": "stdout",
     "output_type": "stream",
     "text": [
      "This is  parent\n",
      "This is first child\n"
     ]
    }
   ],
   "source": [
    "obj1.display1()\n",
    "obj1.display2()"
   ]
  },
  {
   "cell_type": "code",
   "execution_count": 30,
   "id": "6a5931b4-8229-454f-90d6-c22abe62f34c",
   "metadata": {},
   "outputs": [
    {
     "name": "stdout",
     "output_type": "stream",
     "text": [
      "This is  parent\n",
      "This is Second child\n"
     ]
    }
   ],
   "source": [
    "obj2.display1()\n",
    "obj2.display3()"
   ]
  },
  {
   "cell_type": "code",
   "execution_count": 31,
   "id": "1e28464d-0632-48ce-afc6-1fde818ddcbb",
   "metadata": {},
   "outputs": [
    {
     "name": "stdout",
     "output_type": "stream",
     "text": [
      "This is  parent\n",
      "This is third child\n"
     ]
    }
   ],
   "source": [
    "obj3.display1()\n",
    "obj3.display4()"
   ]
  },
  {
   "cell_type": "code",
   "execution_count": null,
   "id": "03c020f3-aa61-44ce-aa68-ee0fede2a2ab",
   "metadata": {},
   "outputs": [],
   "source": []
  }
 ],
 "metadata": {
  "kernelspec": {
   "display_name": "Python 3 (ipykernel)",
   "language": "python",
   "name": "python3"
  },
  "language_info": {
   "codemirror_mode": {
    "name": "ipython",
    "version": 3
   },
   "file_extension": ".py",
   "mimetype": "text/x-python",
   "name": "python",
   "nbconvert_exporter": "python",
   "pygments_lexer": "ipython3",
   "version": "3.10.8"
  }
 },
 "nbformat": 4,
 "nbformat_minor": 5
}
