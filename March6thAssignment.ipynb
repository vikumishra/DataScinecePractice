{
 "cells": [
  {
   "cell_type": "markdown",
   "id": "347bb17b-25d6-461d-bd47-1c794f1820e8",
   "metadata": {},
   "source": [
    "### 1)"
   ]
  },
  {
   "cell_type": "markdown",
   "id": "ce79f59e-19d7-44b0-9486-3ace1f24e344",
   "metadata": {},
   "source": [
    "Statistics is the science of collecting , organising and analyzing data"
   ]
  },
  {
   "cell_type": "markdown",
   "id": "afc577eb-7a4a-4215-b428-a83efb447a4c",
   "metadata": {},
   "source": [
    "### 2)"
   ]
  },
  {
   "cell_type": "markdown",
   "id": "96ddbd86-0efe-47cc-8146-878e977ade2b",
   "metadata": {},
   "source": [
    "* Descriptive=> Getting characterstics by applying statistics directly on population\n",
    "* Inferential=> Process of using Samples to estimate/conclude characterstics of population\n",
    "\n",
    "* e.g. To know about height of all student class we use Descriptive and To find election poll we use Inferential"
   ]
  },
  {
   "cell_type": "markdown",
   "id": "7c516ac4-37fe-4e4b-8b06-897f1b9d66eb",
   "metadata": {},
   "source": [
    "### 3)"
   ]
  },
  {
   "cell_type": "markdown",
   "id": "ea907760-0b91-4123-bba4-6a8fc26499a2",
   "metadata": {},
   "source": [
    "* Discrete=> Are generally whole number. e.g. No. of bank accounts\n",
    "* Continous => Are continous numbers .  e.g. Height of student\n",
    "* Nominal=> Categorical data where rank doesnot matter. e.g. Gender\n",
    "* Ordinal => Categorical data where rank matters e.g. Feedback=> Good , Better, Best , Bad"
   ]
  },
  {
   "cell_type": "markdown",
   "id": "c584e590-ad3d-4716-8133-4742eb91b8c9",
   "metadata": {},
   "source": [
    "### 4)"
   ]
  },
  {
   "cell_type": "markdown",
   "id": "00e72fa5-c2f2-49fb-b513-7738ebe5dca5",
   "metadata": {},
   "source": [
    "* 1) Qualitive\n",
    "* 2) Qualitive\n",
    "* 3) Quantitive\n",
    "* 4) Quantitive"
   ]
  },
  {
   "cell_type": "markdown",
   "id": "fc7b3fca-458c-458f-b923-77b071f65a74",
   "metadata": {},
   "source": [
    "### 5)"
   ]
  },
  {
   "cell_type": "markdown",
   "id": "c033357d-e59a-4651-9bf9-6e2dab1d35e3",
   "metadata": {},
   "source": [
    "*  level of measurement is a classification that relates the values that are assigned to variables with each other. In other       words, level of measurement is used to describe information within the values."
   ]
  },
  {
   "cell_type": "markdown",
   "id": "499fd4b0-441d-49ac-ba9a-9f37f9a53dc9",
   "metadata": {},
   "source": [
    "* Nominal Scale Data => Favourite color\n",
    "* Ordinal Scale Data=> Feedback of service\n",
    "* Interval Scale Data=> Temperature\n",
    "* Ratio Scale Data=> Student Marks"
   ]
  },
  {
   "cell_type": "markdown",
   "id": "25cc12d6-d326-4d8d-8dbe-da54d2fed7f4",
   "metadata": {},
   "source": [
    "### 6)"
   ]
  },
  {
   "cell_type": "markdown",
   "id": "91d2bb82-dc1c-4ac9-a07f-8dd669bf1289",
   "metadata": {},
   "source": [
    "* It is important to understand the level of measurement of variables in research, because the level of measurement determines   the type of statistical analysis that can be conducted, and, therefore, the type of conclusions that can be drawn from the     research."
   ]
  },
  {
   "cell_type": "markdown",
   "id": "51914048-ddaa-4b3e-8a7e-34588104a400",
   "metadata": {},
   "source": [
    "* e.g. Student marks are having order , their difference can be measured, their ratio can be measured and also \n",
    "       they have 0 starting point so we will use Ratio Scale Data for them."
   ]
  },
  {
   "cell_type": "markdown",
   "id": "32fd75fa-c9d3-4443-811b-db680694ef0b",
   "metadata": {},
   "source": [
    "### 7)"
   ]
  },
  {
   "cell_type": "markdown",
   "id": "0cbef38a-a79a-4e23-90dc-ea7d67d2c55b",
   "metadata": {},
   "source": [
    "* Nominal=> Categorical data where rank doesnot matter. e.g. Gender\n",
    "* Ordinal => Categorical data where rank matters e.g. Feedback=> Good , Better, Best , Bad"
   ]
  },
  {
   "cell_type": "markdown",
   "id": "df86ca4b-2989-47b8-b0fd-631b52629a52",
   "metadata": {},
   "source": [
    "### 8)"
   ]
  },
  {
   "cell_type": "markdown",
   "id": "17116c83-1bf0-447d-b881-2806e23e8d11",
   "metadata": {},
   "source": [
    "* Histogram can be used for data in terms of range."
   ]
  },
  {
   "cell_type": "markdown",
   "id": "6bccccd6-2abc-4594-b10e-6b0d7f9685da",
   "metadata": {},
   "source": [
    "### 9)|"
   ]
  },
  {
   "cell_type": "markdown",
   "id": "cbc876c4-82dd-4734-9101-8f29e072b407",
   "metadata": {},
   "source": [
    "* Descriptive=> Getting characterstics by applying statistics directly on population\n",
    "* Inferential=> Process of using Samples to estimate/conclude characterstics of population\n",
    "\n",
    "* e.g. To know about height of all student class we use Descriptive and To find election poll we use Inferential\n",
    "\n"
   ]
  },
  {
   "cell_type": "markdown",
   "id": "110a3baa-90c0-4ce1-8484-53352208327f",
   "metadata": {},
   "source": [
    "### 10)"
   ]
  },
  {
   "cell_type": "markdown",
   "id": "72de00f8-646f-4d4a-ac5b-e4708de801be",
   "metadata": {},
   "source": [
    "* Mean => It is defined as sum of each element divided by total elements. Its used if any value is  missing and data is without           outlier to fill that value.\n",
    "\n",
    "* Median => It is defined as central element after sorting data. Its used if any value is missing and data contains outliers to             fill that value.\n",
    "\n",
    "* Mode => It is defined as element that has maximum frequency. Its used to fill value of missing data in case of categorical             data."
   ]
  },
  {
   "cell_type": "code",
   "execution_count": null,
   "id": "c3edb62b-513f-4d63-bfb5-1ac5e4c74bd1",
   "metadata": {},
   "outputs": [],
   "source": []
  }
 ],
 "metadata": {
  "kernelspec": {
   "display_name": "Python 3 (ipykernel)",
   "language": "python",
   "name": "python3"
  },
  "language_info": {
   "codemirror_mode": {
    "name": "ipython",
    "version": 3
   },
   "file_extension": ".py",
   "mimetype": "text/x-python",
   "name": "python",
   "nbconvert_exporter": "python",
   "pygments_lexer": "ipython3",
   "version": "3.10.8"
  }
 },
 "nbformat": 4,
 "nbformat_minor": 5
}
