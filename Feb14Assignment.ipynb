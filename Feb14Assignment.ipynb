{
 "cells": [
  {
   "cell_type": "markdown",
   "id": "770bb817-1394-4333-8855-87dc7fad967e",
   "metadata": {},
   "source": [
    "### 1)"
   ]
  },
  {
   "cell_type": "markdown",
   "id": "8b6796db-dc60-4039-ae1a-7a5ab40223e9",
   "metadata": {},
   "source": [
    "Multithreading allows the execution of multiple parts of a program at the same time.\n",
    "These parts are known as threads and are lightweight processes available within the process. So multithreading leads to maximum utilization of the CPU by multitasking.\n",
    "\n",
    "Threading module is used to handle threads in python"
   ]
  },
  {
   "cell_type": "markdown",
   "id": "2d45fd37-7be8-4692-a482-dfe51e6cf433",
   "metadata": {},
   "source": [
    "### 2)"
   ]
  },
  {
   "cell_type": "markdown",
   "id": "45afb646-2315-4b70-bfe7-e84e7ce41a82",
   "metadata": {},
   "source": [
    "Threading module is used to handle thread in python or to perform multithreading."
   ]
  },
  {
   "cell_type": "markdown",
   "id": "5615b037-15f5-4472-8422-0ad56061cade",
   "metadata": {},
   "source": [
    "activecount() => It tells about the total currently active or running thread"
   ]
  },
  {
   "cell_type": "markdown",
   "id": "6e392355-4637-47ff-b7e8-901284187fe4",
   "metadata": {},
   "source": [
    "currentThread()=> Returns the number of thread objects in the caller's thread control."
   ]
  },
  {
   "cell_type": "markdown",
   "id": "7c86b0c6-9e5f-46a6-88e6-773c51f4f3f7",
   "metadata": {},
   "source": [
    "enumerate() =>  Returns a list of all thread objects that are currently active."
   ]
  },
  {
   "cell_type": "markdown",
   "id": "8ca5110b-9093-48ee-ad78-d7d024ffb99f",
   "metadata": {},
   "source": [
    "### 3)"
   ]
  },
  {
   "cell_type": "markdown",
   "id": "fc48b0b6-242c-4e94-94e5-b640b3cdb9bc",
   "metadata": {},
   "source": [
    "run() => It is a method which is called by start() method by default to perform multithreading"
   ]
  },
  {
   "cell_type": "markdown",
   "id": "abcf3a14-00f9-4f94-9b84-767f4cbe3edc",
   "metadata": {},
   "source": [
    "start() => The Thread class has a start() method that transit the thread in running mode. The threads will run until they are not completed."
   ]
  },
  {
   "cell_type": "markdown",
   "id": "cb2867e0-42d7-4ce2-b132-414d844c4de7",
   "metadata": {},
   "source": [
    "join() => We can block the program execution while all the threads are not completed using join() method of the Thread class."
   ]
  },
  {
   "cell_type": "markdown",
   "id": "570ed5c1-c48e-4838-a612-0149e51f7eb2",
   "metadata": {},
   "source": [
    "isAlive() => It is an inbuilt method of the Thread class of the threading module in Python. \n",
    "It uses a Thread object, and checks whether that thread is alive or not"
   ]
  },
  {
   "cell_type": "markdown",
   "id": "61e7d129-d90c-497c-8b1c-5586f1fdacfe",
   "metadata": {},
   "source": [
    "### 4)"
   ]
  },
  {
   "cell_type": "code",
   "execution_count": 4,
   "id": "d4ead4c3-ffea-4f5c-8eea-9254d239b8ae",
   "metadata": {},
   "outputs": [],
   "source": [
    "import threading\n",
    "import time\n"
   ]
  },
  {
   "cell_type": "code",
   "execution_count": 5,
   "id": "23fe6732-64da-4b3a-ab4e-5a9531284c6b",
   "metadata": {},
   "outputs": [],
   "source": [
    "def sqr_list(num):\n",
    "    for i in num:\n",
    "        time.sleep(0.5)\n",
    "        print(\"Square is:\",i*i)"
   ]
  },
  {
   "cell_type": "code",
   "execution_count": 6,
   "id": "026de69e-67be-4581-a589-ba6eb88c19a9",
   "metadata": {},
   "outputs": [],
   "source": [
    "def cube_list(num):\n",
    "    for i in num:\n",
    "        time.sleep(0.5)\n",
    "        print(\"Cube is :\",i*i*i)"
   ]
  },
  {
   "cell_type": "code",
   "execution_count": 7,
   "id": "4c4d022a-9bbd-4acc-aab8-c7f0ca9cdca3",
   "metadata": {},
   "outputs": [],
   "source": [
    "arr=[1,2,3,4]"
   ]
  },
  {
   "cell_type": "code",
   "execution_count": 8,
   "id": "5271b09a-d2b4-4927-a6fb-06734a6da322",
   "metadata": {},
   "outputs": [],
   "source": [
    "th1 = threading.Thread(target=sqr_list, args=(arr, ))  "
   ]
  },
  {
   "cell_type": "code",
   "execution_count": 9,
   "id": "38fdbb67-64cc-474c-aa79-d99bb2897ac7",
   "metadata": {},
   "outputs": [],
   "source": [
    "th2 = threading.Thread(target=cube_list,args=(arr,))"
   ]
  },
  {
   "cell_type": "code",
   "execution_count": 10,
   "id": "bb14c96e-613f-47ee-9df3-cf067f7f0fce",
   "metadata": {},
   "outputs": [
    {
     "name": "stdout",
     "output_type": "stream",
     "text": [
      "Square is: 1\n",
      "Cube is : 1\n",
      "Square is:Cube is : 8\n",
      " 4\n",
      "Cube is : 27\n",
      "Square is: 9\n",
      "Cube is : 64\n",
      "Square is: 16\n"
     ]
    }
   ],
   "source": [
    "th1.start()  \n",
    "th2.start()  \n",
    "th1.join()  \n",
    "th2.join()  "
   ]
  },
  {
   "cell_type": "markdown",
   "id": "2861aa54-ec3c-4303-9f70-38a7c189b6da",
   "metadata": {},
   "source": [
    "### 5)"
   ]
  },
  {
   "cell_type": "markdown",
   "id": "96602d71-b0ea-4050-b91a-d6370ca69f95",
   "metadata": {},
   "source": [
    "#### Advantages are:-"
   ]
  },
  {
   "cell_type": "markdown",
   "id": "e3b445ff-acb5-410f-97d6-99352477d299",
   "metadata": {},
   "source": [
    "* Enhanced performance by decreased development time\n",
    "* Simplified and streamlined program coding\n",
    "* Improvised GUI responsiveness\n",
    "* Simultaneous and parallelized occurrence of tasks"
   ]
  },
  {
   "cell_type": "markdown",
   "id": "fd4c411e-0808-4994-8b51-5879fe242719",
   "metadata": {},
   "source": [
    "#### Disadvantages are:-"
   ]
  },
  {
   "cell_type": "markdown",
   "id": "142e9f03-d67f-442c-abe9-026c625049f7",
   "metadata": {},
   "source": [
    "* Complex debugging and testing processes\n",
    "* Overhead switching of context\n",
    "* Increased potential for deadlock occurrence\n",
    "* Increased difficulty level in writing a program"
   ]
  },
  {
   "cell_type": "markdown",
   "id": "ec989b3f-af77-4b71-b365-c51ce7c93bd7",
   "metadata": {},
   "source": [
    "### 6)"
   ]
  },
  {
   "cell_type": "markdown",
   "id": "128f2870-8c97-45bb-a557-f9a738639301",
   "metadata": {},
   "source": [
    "* Deadlock => Two threads hold locks on different resources, each waiting indefinitely for the other to release its lock."
   ]
  },
  {
   "cell_type": "markdown",
   "id": "34d2c6fc-6dff-4737-abad-0960b20c64ac",
   "metadata": {},
   "source": [
    "* Race => Two (or more) threads alter the state of a shared resource concurrently, leaving it in an unpredictable state."
   ]
  },
  {
   "cell_type": "code",
   "execution_count": null,
   "id": "75931d36-2069-41a1-8b47-54e7896789bf",
   "metadata": {},
   "outputs": [],
   "source": []
  }
 ],
 "metadata": {
  "kernelspec": {
   "display_name": "Python 3 (ipykernel)",
   "language": "python",
   "name": "python3"
  },
  "language_info": {
   "codemirror_mode": {
    "name": "ipython",
    "version": 3
   },
   "file_extension": ".py",
   "mimetype": "text/x-python",
   "name": "python",
   "nbconvert_exporter": "python",
   "pygments_lexer": "ipython3",
   "version": "3.10.8"
  }
 },
 "nbformat": 4,
 "nbformat_minor": 5
}
