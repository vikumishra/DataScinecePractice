{
 "cells": [
  {
   "cell_type": "markdown",
   "id": "0c46e663-4b1a-4817-b569-b4997ef93614",
   "metadata": {},
   "source": [
    "## 1)"
   ]
  },
  {
   "cell_type": "code",
   "execution_count": 22,
   "id": "a9ed5d87-faac-46c8-80b6-3b4e6093934e",
   "metadata": {},
   "outputs": [],
   "source": [
    "def password_checker(pswrd):\n",
    "    count_uppr_case_letter = 0\n",
    "    count_lower_case_letter = 0\n",
    "    count_number = 0\n",
    "    count_spcl_chrctr = 0\n",
    "    \n",
    "    for item in pswrd:\n",
    "        if(item.islower()):\n",
    "            count_lower_case_letter = count_lower_case_letter+1\n",
    "        elif(item.isupper()):\n",
    "            count_uppr_case_letter = count_uppr_case_letter+1\n",
    "        elif(item.isnumeric()):\n",
    "            count_number = count_number+1\n",
    "        elif(not(item.isalnum())):\n",
    "             count_spcl_chrctr = count_spcl_chrctr+1\n",
    "                \n",
    "    if( len(pswrd)==10 and count_uppr_case_letter >=2 and \n",
    "         count_lower_case_letter >=2 and count_number >=1 and count_spcl_chrctr >=3):\n",
    "        return \"Valid Password\"\n",
    "    else:\n",
    "        return \"Invalid Password\"\n",
    "    \n",
    "    \n",
    "    "
   ]
  },
  {
   "cell_type": "code",
   "execution_count": 32,
   "id": "4447b6f8-163f-4171-8cc8-9ae82c0ccc0b",
   "metadata": {},
   "outputs": [
    {
     "data": {
      "text/plain": [
       "'Valid Password'"
      ]
     },
     "execution_count": 32,
     "metadata": {},
     "output_type": "execute_result"
    }
   ],
   "source": [
    "password_checker(\"QWerty1@#$\")"
   ]
  },
  {
   "cell_type": "markdown",
   "id": "83ff45db-b8c9-421a-b6dc-76b7b5373f1c",
   "metadata": {},
   "source": [
    "## 2)"
   ]
  },
  {
   "cell_type": "raw",
   "id": "7f4ef499-1f23-4bb7-b64c-8eca5b90f33a",
   "metadata": {},
   "source": [
    "Check if the string starts with a particular letter"
   ]
  },
  {
   "cell_type": "code",
   "execution_count": 55,
   "id": "7f3472c0-9569-44c1-a310-9a075b9e9a8a",
   "metadata": {},
   "outputs": [],
   "source": [
    "str1 = \"Qwerty\"\n",
    "a=lambda x : True if x[0] == \"Q\" else False\n"
   ]
  },
  {
   "cell_type": "code",
   "execution_count": 56,
   "id": "754207b1-d8fe-435d-8db6-9956b199d6df",
   "metadata": {},
   "outputs": [
    {
     "data": {
      "text/plain": [
       "True"
      ]
     },
     "execution_count": 56,
     "metadata": {},
     "output_type": "execute_result"
    }
   ],
   "source": [
    "a(str1)"
   ]
  },
  {
   "cell_type": "raw",
   "id": "53eb85f2-129a-47d5-8aec-42d60c4e0c7c",
   "metadata": {},
   "source": [
    "Check if the string is numericY"
   ]
  },
  {
   "cell_type": "code",
   "execution_count": 65,
   "id": "d50ec161-6b8e-430e-b5f7-0f9f19bc0a72",
   "metadata": {},
   "outputs": [],
   "source": [
    "str2=\"123\"\n",
    "b = lambda x:True if x.isnumeric() else False"
   ]
  },
  {
   "cell_type": "code",
   "execution_count": 66,
   "id": "97dac9b5-04d7-449c-948f-75a9ec8d6254",
   "metadata": {},
   "outputs": [
    {
     "data": {
      "text/plain": [
       "True"
      ]
     },
     "execution_count": 66,
     "metadata": {},
     "output_type": "execute_result"
    }
   ],
   "source": [
    "b(str2)"
   ]
  },
  {
   "cell_type": "raw",
   "id": "54c4d96e-7dd7-48ae-b2cf-2c90aacd09f8",
   "metadata": {},
   "source": [
    "Sort a list of tuples having fruit names and their quantity. [(\"mango\",99),(\"orange\",80), (\"grapes\", 1000)"
   ]
  },
  {
   "cell_type": "code",
   "execution_count": 88,
   "id": "3c09b84d-af41-4cdf-a42d-b752ce38ccf3",
   "metadata": {},
   "outputs": [],
   "source": [
    "fruits =[(\"mango\",99),(\"orange\",80), (\"grapes\", 1000)]"
   ]
  },
  {
   "cell_type": "code",
   "execution_count": 89,
   "id": "cd938f68-6936-4d95-a059-64ed5f353702",
   "metadata": {},
   "outputs": [],
   "source": [
    "def sort_tupl(tup1):\n",
    "    tup1.sort(key = lambda x: x[1])\n",
    "    return tup1"
   ]
  },
  {
   "cell_type": "code",
   "execution_count": 94,
   "id": "ba595018-54cb-4425-bea5-cfee77749f45",
   "metadata": {},
   "outputs": [
    {
     "data": {
      "text/plain": [
       "[('orange', 80), ('mango', 99), ('grapes', 1000)]"
      ]
     },
     "execution_count": 94,
     "metadata": {},
     "output_type": "execute_result"
    }
   ],
   "source": [
    "sort_tupl( fruits)"
   ]
  },
  {
   "cell_type": "raw",
   "id": "0221717b-9530-4cb2-b17b-a57fe4904527",
   "metadata": {},
   "source": [
    "Find the squares of numbers from 1 to 10"
   ]
  },
  {
   "cell_type": "code",
   "execution_count": 67,
   "id": "845e3586-a665-4dd0-9ece-3953c0f4cb4f",
   "metadata": {},
   "outputs": [
    {
     "data": {
      "text/plain": [
       "[1, 4, 9, 16, 25, 36, 49, 64, 81, 100]"
      ]
     },
     "execution_count": 67,
     "metadata": {},
     "output_type": "execute_result"
    }
   ],
   "source": [
    "list(map(lambda x:x**2 , range(1,11)))"
   ]
  },
  {
   "cell_type": "raw",
   "id": "de3edcfd-16cc-4a9c-8e3f-622b5fe68fd8",
   "metadata": {},
   "source": [
    "Find the cube root of numbers from 1 to 10"
   ]
  },
  {
   "cell_type": "code",
   "execution_count": 69,
   "id": "39ab3c9a-b89f-44a5-aa81-4018ece29950",
   "metadata": {},
   "outputs": [
    {
     "data": {
      "text/plain": [
       "[1.0,\n",
       " 1.2599210498948732,\n",
       " 1.4422495703074083,\n",
       " 1.5874010519681994,\n",
       " 1.7099759466766968,\n",
       " 1.8171205928321397,\n",
       " 1.912931182772389,\n",
       " 2.0,\n",
       " 2.080083823051904,\n",
       " 2.154434690031884]"
      ]
     },
     "execution_count": 69,
     "metadata": {},
     "output_type": "execute_result"
    }
   ],
   "source": [
    "list(map(lambda x:x**(1/3) , range(1,11)))"
   ]
  },
  {
   "cell_type": "raw",
   "id": "826d03b4-31f7-4f26-99aa-7c934ff8f032",
   "metadata": {},
   "source": [
    "Check if a given number is even"
   ]
  },
  {
   "cell_type": "code",
   "execution_count": 70,
   "id": "86fce88a-98de-4687-90c6-956337b83e57",
   "metadata": {},
   "outputs": [],
   "source": [
    "is_even = lambda x: \"Even\" if x%2 == 0 else \"Odd\""
   ]
  },
  {
   "cell_type": "code",
   "execution_count": 72,
   "id": "142d2f0c-bc4e-4b8c-a4a6-b72d603d4bed",
   "metadata": {},
   "outputs": [
    {
     "data": {
      "text/plain": [
       "'Even'"
      ]
     },
     "execution_count": 72,
     "metadata": {},
     "output_type": "execute_result"
    }
   ],
   "source": [
    "is_even(4)"
   ]
  },
  {
   "cell_type": "raw",
   "id": "6286e146-7cf0-472a-980a-6e3e7dcd47a5",
   "metadata": {},
   "source": [
    "Filter odd numbers from the given list."
   ]
  },
  {
   "cell_type": "code",
   "execution_count": 75,
   "id": "40e8d677-f93c-43ed-9c6b-378ec7766e9e",
   "metadata": {},
   "outputs": [
    {
     "data": {
      "text/plain": [
       "[1, 3, 5, 7, 9]"
      ]
     },
     "execution_count": 75,
     "metadata": {},
     "output_type": "execute_result"
    }
   ],
   "source": [
    "list4 = [1,2,3,4,5,6,7,8,9,10]\n",
    "list(filter(lambda x : x%2!=0,list4))"
   ]
  },
  {
   "cell_type": "raw",
   "id": "5b5eed86-b9b2-4086-9b61-5d5f9059cac2",
   "metadata": {},
   "source": [
    "Sort a list of integers into positive and negative integers lists."
   ]
  },
  {
   "cell_type": "code",
   "execution_count": 76,
   "id": "59785597-439a-47ea-8c9e-c8da7a0a5e7d",
   "metadata": {},
   "outputs": [],
   "source": [
    "list5 = [1,2,3,4,5,6,-1,-2,-3,-4,-5,0]"
   ]
  },
  {
   "cell_type": "code",
   "execution_count": 82,
   "id": "b536f196-6668-4357-a2e8-a19dd9cf4136",
   "metadata": {},
   "outputs": [],
   "source": [
    "neg_list = sorted(list(filter(lambda x:x<0,list5)))"
   ]
  },
  {
   "cell_type": "code",
   "execution_count": 83,
   "id": "7a5769db-fd23-43eb-8eb9-2e2890db796b",
   "metadata": {},
   "outputs": [],
   "source": [
    "pos_list = sorted(list(filter(lambda x : x>=0,list5)))"
   ]
  },
  {
   "cell_type": "code",
   "execution_count": 84,
   "id": "fe43e23b-2a12-4a4c-b554-6a2b09e86d03",
   "metadata": {},
   "outputs": [
    {
     "data": {
      "text/plain": [
       "[-5, -4, -3, -2, -1]"
      ]
     },
     "execution_count": 84,
     "metadata": {},
     "output_type": "execute_result"
    }
   ],
   "source": [
    "neg_list"
   ]
  },
  {
   "cell_type": "code",
   "execution_count": 85,
   "id": "a98a947a-4b4e-4d23-8c50-9e42ca70f781",
   "metadata": {},
   "outputs": [
    {
     "data": {
      "text/plain": [
       "[0, 1, 2, 3, 4, 5, 6]"
      ]
     },
     "execution_count": 85,
     "metadata": {},
     "output_type": "execute_result"
    }
   ],
   "source": [
    "pos_list"
   ]
  },
  {
   "cell_type": "code",
   "execution_count": null,
   "id": "1fb197c7-cd83-49bf-a813-43c0eb6203af",
   "metadata": {},
   "outputs": [],
   "source": []
  }
 ],
 "metadata": {
  "kernelspec": {
   "display_name": "Python 3 (ipykernel)",
   "language": "python",
   "name": "python3"
  },
  "language_info": {
   "codemirror_mode": {
    "name": "ipython",
    "version": 3
   },
   "file_extension": ".py",
   "mimetype": "text/x-python",
   "name": "python",
   "nbconvert_exporter": "python",
   "pygments_lexer": "ipython3",
   "version": "3.10.8"
  }
 },
 "nbformat": 4,
 "nbformat_minor": 5
}
