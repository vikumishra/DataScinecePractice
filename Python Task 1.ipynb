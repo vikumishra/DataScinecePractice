{
 "cells": [
  {
   "cell_type": "markdown",
   "id": "6c748379-e11a-4a8c-b84f-983fe1901ab7",
   "metadata": {},
   "source": [
    "## 1)"
   ]
  },
  {
   "cell_type": "code",
   "execution_count": 13,
   "id": "e6f33979-2421-47f6-b0c8-f3dbd5b1e9ab",
   "metadata": {},
   "outputs": [],
   "source": [
    "list1 = [1,2,3,4, [44,55,66, True], False, (34,56,78,89,34), {1,2,3,3,2,1}, {1:34, \"key2\": [55, 67, 78, 89], 4: (45,\n",
    "22, 61, 34)}, [56, 'data science'], 'Machine Learning']"
   ]
  },
  {
   "cell_type": "code",
   "execution_count": 19,
   "id": "ff63261a-1ad3-4f7d-b719-16373226192c",
   "metadata": {},
   "outputs": [],
   "source": [
    "flatten_li =[]\n",
    "def flatten_list(li):\n",
    "    for i in li:\n",
    "        if( type(i)==list or type(i)== tuple or type(i)== set ):\n",
    "            flatten_list(i)\n",
    "        elif type(i) == dict:\n",
    "            dict_keys = i.keys()\n",
    "            dict_values = i.values()\n",
    "            for j in dict_keys:\n",
    "                flatten_li.append(j)\n",
    "            for k in dict_values:\n",
    "                if (type(k) == list or type(k) == tuple or type(k) == set):\n",
    "                    flatten_list(k)\n",
    "                else:\n",
    "                    flatten_li.append(k)\n",
    "            \n",
    "        else:\n",
    "            flatten_li.append(i)\n",
    "       \n",
    "    return flatten_li\n",
    "    \n",
    "    "
   ]
  },
  {
   "cell_type": "code",
   "execution_count": 22,
   "id": "58975863-59e5-490e-ae80-4e0f0ab09ed1",
   "metadata": {},
   "outputs": [],
   "source": [
    "\n",
    "def product_of_items(li):\n",
    "    product = 1\n",
    "    li1 = flatten_list(li)\n",
    "    for i in li1:\n",
    "        if(type(i)==int or type(i) == float):\n",
    "            product = product*i\n",
    "    return product\n",
    "    "
   ]
  },
  {
   "cell_type": "code",
   "execution_count": 23,
   "id": "eda72cbb-564f-445e-9fdf-3d30b955afee",
   "metadata": {},
   "outputs": [
    {
     "data": {
      "text/plain": [
       "17095841991459966273878701380070854690499765716118883002220544000000"
      ]
     },
     "execution_count": 23,
     "metadata": {},
     "output_type": "execute_result"
    }
   ],
   "source": [
    "product_of_items(list1)"
   ]
  },
  {
   "cell_type": "markdown",
   "id": "81da662b-4b1d-49d6-9919-1c3f0da22bbb",
   "metadata": {},
   "source": [
    "## 2)"
   ]
  },
  {
   "cell_type": "code",
   "execution_count": 25,
   "id": "d0c63b9c-3e1c-4c9c-8105-8758ce569e54",
   "metadata": {},
   "outputs": [],
   "source": [
    "def encryption(msg):\n",
    "    encrypted_msg = \"\"\n",
    "    msg = msg.lower()\n",
    "    for i in msg:\n",
    "        if(i.isalpha()):\n",
    "            x = chr(122 - ord(i) + 97)\n",
    "            encrypted_msg = encrypted_msg+str(x)\n",
    "        elif(i.isspace()):\n",
    "            encrypted_msg = encrypted_msg+'$'\n",
    "        else:\n",
    "            encrypted_msg = encrypted_msg+i\n",
    "    return encrypted_msg\n",
    "        \n",
    "        "
   ]
  },
  {
   "cell_type": "code",
   "execution_count": 28,
   "id": "82968a60-c6dd-43a3-a881-490cb8a924a9",
   "metadata": {},
   "outputs": [
    {
     "data": {
      "text/plain": [
       "'r$dzmg$gl$yvxlnv$z$wzgz$hxrvmgrhg.'"
      ]
     },
     "execution_count": 28,
     "metadata": {},
     "output_type": "execute_result"
    }
   ],
   "source": [
    "encryption(\"I want to become a Data Scientist.\")"
   ]
  },
  {
   "cell_type": "code",
   "execution_count": null,
   "id": "42cb0f4c-d758-4194-9ff4-47be59441f39",
   "metadata": {},
   "outputs": [],
   "source": []
  }
 ],
 "metadata": {
  "kernelspec": {
   "display_name": "Python 3 (ipykernel)",
   "language": "python",
   "name": "python3"
  },
  "language_info": {
   "codemirror_mode": {
    "name": "ipython",
    "version": 3
   },
   "file_extension": ".py",
   "mimetype": "text/x-python",
   "name": "python",
   "nbconvert_exporter": "python",
   "pygments_lexer": "ipython3",
   "version": "3.10.8"
  }
 },
 "nbformat": 4,
 "nbformat_minor": 5
}
