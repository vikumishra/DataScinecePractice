{
 "cells": [
  {
   "cell_type": "markdown",
   "id": "70131069-15e5-4d4a-9751-27ae9e00d4d0",
   "metadata": {},
   "source": [
    "## 1)"
   ]
  },
  {
   "cell_type": "code",
   "execution_count": 12,
   "id": "00d1eb16-4bdc-4bbc-a11d-2cac93fcfc66",
   "metadata": {},
   "outputs": [],
   "source": [
    "#1) For loop - It should be used when u want to iterate through any iterable(list,dictionary,tuple , string etc.) \n",
    "#   also u want to iterate through any range.\n",
    "# While loop should be used when u want to iterate based on certain condition. Below are example of both for and while loop"
   ]
  },
  {
   "cell_type": "code",
   "execution_count": 13,
   "id": "10b7fbb7-38aa-4900-80cc-048b9f121114",
   "metadata": {},
   "outputs": [
    {
     "name": "stdout",
     "output_type": "stream",
     "text": [
      "1\n",
      "2\n",
      "3\n",
      "4\n",
      "5\n"
     ]
    }
   ],
   "source": [
    "# For loop \n",
    "li =[1,2,3,4,5]\n",
    "for i in li:\n",
    "    print(i)"
   ]
  },
  {
   "cell_type": "code",
   "execution_count": 14,
   "id": "93279223-71bf-4d3c-93bf-29fbd6ba07b6",
   "metadata": {},
   "outputs": [
    {
     "name": "stdout",
     "output_type": "stream",
     "text": [
      "4\n",
      "3\n",
      "2\n",
      "1\n"
     ]
    }
   ],
   "source": [
    "# While loop\n",
    "count =4\n",
    "while (count >0):\n",
    "    print(count)\n",
    "    count = count-1"
   ]
  },
  {
   "cell_type": "markdown",
   "id": "04706526-ad0a-41fd-904b-fa07d6493862",
   "metadata": {},
   "source": [
    "## 2)"
   ]
  },
  {
   "cell_type": "code",
   "execution_count": 15,
   "id": "e8a61e0b-3788-48b2-bc2b-f9ec92c9a362",
   "metadata": {},
   "outputs": [
    {
     "name": "stdout",
     "output_type": "stream",
     "text": [
      "Sum of first 10 natural numbers is:  55\n",
      "Product of first 10 natural numbers is:  3628800\n"
     ]
    }
   ],
   "source": [
    "#Sum and product using for loop\n",
    "sum_nos = 0\n",
    "prod_nos= 1\n",
    "\n",
    "for i in range(1,11):\n",
    "    sum_nos = sum_nos+i\n",
    "    prod_nos = prod_nos*i\n",
    "\n",
    "print(\"Sum of first 10 natural numbers is: \",sum_nos)\n",
    "print(\"Product of first 10 natural numbers is: \",prod_nos)"
   ]
  },
  {
   "cell_type": "code",
   "execution_count": 16,
   "id": "b6b71ab8-09c0-4181-87e0-6aab86f7d604",
   "metadata": {},
   "outputs": [
    {
     "name": "stdout",
     "output_type": "stream",
     "text": [
      "Sum of first 10 natural numbers is:  55\n",
      "Product of first 10 natural numbers is:  3628800\n"
     ]
    }
   ],
   "source": [
    "#Sum and product using while loop\n",
    "sum_nos = 0\n",
    "prod_nos= 1\n",
    "\n",
    "count =1\n",
    "\n",
    "while(count<=10):\n",
    "    sum_nos = sum_nos+count\n",
    "    prod_nos = prod_nos*count\n",
    "    \n",
    "    count = count+1\n",
    "\n",
    "\n",
    "print(\"Sum of first 10 natural numbers is: \",sum_nos)\n",
    "print(\"Product of first 10 natural numbers is: \",prod_nos)\n"
   ]
  },
  {
   "cell_type": "markdown",
   "id": "2d42245f-d9b1-4afc-b4ab-f0908168a0eb",
   "metadata": {},
   "source": [
    "## 3)"
   ]
  },
  {
   "cell_type": "code",
   "execution_count": 29,
   "id": "a83b4c71-2a91-4f96-a2f3-2b8237707166",
   "metadata": {},
   "outputs": [
    {
     "name": "stdin",
     "output_type": "stream",
     "text": [
      "Enter number of units 310\n"
     ]
    },
    {
     "name": "stdout",
     "output_type": "stream",
     "text": [
      "2250.0\n"
     ]
    }
   ],
   "source": [
    "units = int(input(\"Enter number of units\"))\n",
    "bill = 0.0\n",
    "if(units > 300):\n",
    "    a= (units-300)*20\n",
    "    b= 4.5*100\n",
    "    c = 6*100\n",
    "    d= 10*100\n",
    "    bill = a+b+c+d\n",
    "elif(units > 200 and units<=300):\n",
    "    a= (units-200)*10\n",
    "    b = 4.5*100\n",
    "    c= 6*100\n",
    "    bill = a+b+c\n",
    "elif(units > 100 and units<=200):\n",
    "    a=(units-100)*6\n",
    "    b = 4.5*100\n",
    "    bill = a+b\n",
    "else:\n",
    "    bill = 4.5*units\n",
    "print(bill)\n",
    "    \n",
    "\n",
    "\n"
   ]
  },
  {
   "cell_type": "markdown",
   "id": "f69ca60a-1245-49c2-bbcf-a88085252a62",
   "metadata": {},
   "source": [
    "## 4)"
   ]
  },
  {
   "cell_type": "code",
   "execution_count": 17,
   "id": "779f74d5-c5ae-4660-ba42-774114ee524d",
   "metadata": {},
   "outputs": [],
   "source": [
    "nos_list = list(range(1,101))"
   ]
  },
  {
   "cell_type": "code",
   "execution_count": 18,
   "id": "7cd4bec6-b8a3-411d-945d-db50e22dee34",
   "metadata": {},
   "outputs": [
    {
     "name": "stdout",
     "output_type": "stream",
     "text": [
      "[2, 4, 5, 6, 8, 10, 12, 14, 15, 16, 18, 20, 22, 24, 25, 26, 28, 30, 32, 34, 35, 36, 38, 40, 42, 44, 45, 46, 48, 50, 52, 54, 55, 56, 58, 60, 62, 64, 65, 66, 68, 70, 72, 74, 75, 76, 78, 80, 82, 84, 85, 86, 88, 90, 92, 94, 95, 96, 98, 100]\n"
     ]
    }
   ],
   "source": [
    "#Using For Loop\n",
    "output_li = []\n",
    "for i in nos_list:\n",
    "    if( (i**3)%4 ==0 or (i**3)%5 == 0):\n",
    "        output_li.append(i)\n",
    "print(output_li)"
   ]
  },
  {
   "cell_type": "code",
   "execution_count": 19,
   "id": "f5981b4e-146d-4152-8ded-1f360f2292ba",
   "metadata": {},
   "outputs": [
    {
     "name": "stdout",
     "output_type": "stream",
     "text": [
      "[2, 4, 5, 6, 8, 10, 12, 14, 15, 16, 18, 20, 22, 24, 25, 26, 28, 30, 32, 34, 35, 36, 38, 40, 42, 44, 45, 46, 48, 50, 52, 54, 55, 56, 58, 60, 62, 64, 65, 66, 68, 70, 72, 74, 75, 76, 78, 80, 82, 84, 85, 86, 88, 90, 92, 94, 95, 96, 98, 100]\n"
     ]
    }
   ],
   "source": [
    "#Using While loop\n",
    "output_li1 = []\n",
    "count = 1\n",
    "while(count <=100):\n",
    "    if( (count**3)%4 == 0 or (count**3)%5 ==0):\n",
    "        output_li1.append(count)\n",
    "    count = count+1\n",
    "print(output_li1)"
   ]
  },
  {
   "cell_type": "markdown",
   "id": "7d580981-af3d-4afd-b7e5-38a33e6b6341",
   "metadata": {},
   "source": [
    "## 5)"
   ]
  },
  {
   "cell_type": "code",
   "execution_count": 20,
   "id": "c2fc5e72-9bf0-4323-9ffe-ab9551c632ea",
   "metadata": {},
   "outputs": [
    {
     "name": "stdout",
     "output_type": "stream",
     "text": [
      "Count of vowels in given string is :  12\n"
     ]
    }
   ],
   "source": [
    "string = \"I want to become a data scientist\"\n",
    "count = 0\n",
    "for i in string:\n",
    "    if( i.lower() in ['a','e','i','o','u']):\n",
    "        count = count+1\n",
    "print (\"Count of vowels in given string is : \",count)"
   ]
  },
  {
   "cell_type": "code",
   "execution_count": null,
   "id": "0fe083ba-03c5-45af-b1e5-a8f7f41d89fb",
   "metadata": {},
   "outputs": [],
   "source": []
  },
  {
   "cell_type": "code",
   "execution_count": null,
   "id": "311e7bdd-c0c8-4c53-a0ec-0c734ba3db97",
   "metadata": {},
   "outputs": [],
   "source": []
  }
 ],
 "metadata": {
  "kernelspec": {
   "display_name": "Python 3 (ipykernel)",
   "language": "python",
   "name": "python3"
  },
  "language_info": {
   "codemirror_mode": {
    "name": "ipython",
    "version": 3
   },
   "file_extension": ".py",
   "mimetype": "text/x-python",
   "name": "python",
   "nbconvert_exporter": "python",
   "pygments_lexer": "ipython3",
   "version": "3.10.8"
  }
 },
 "nbformat": 4,
 "nbformat_minor": 5
}
