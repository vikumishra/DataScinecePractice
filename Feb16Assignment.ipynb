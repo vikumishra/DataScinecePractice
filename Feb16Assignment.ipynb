{
 "cells": [
  {
   "cell_type": "markdown",
   "id": "2773de96-f789-459a-961b-d52e704931aa",
   "metadata": {},
   "source": [
    "### 1)"
   ]
  },
  {
   "cell_type": "markdown",
   "id": "f7b63bbb-28e2-4a90-84be-8b0d9a6abcd2",
   "metadata": {},
   "source": [
    "Database is used to store data either in structured or non structured format"
   ]
  },
  {
   "cell_type": "markdown",
   "id": "d2f7915f-67a6-42fe-89c8-39f6511f9ab0",
   "metadata": {},
   "source": [
    "SQL database have datastorage in predefined fixed schema sucha as table whereas NOSQL stores data in dynamic schema or structure"
   ]
  },
  {
   "cell_type": "markdown",
   "id": "f86f1768-095f-474b-b2e9-bf9822b5a92b",
   "metadata": {},
   "source": [
    "### 2)"
   ]
  },
  {
   "cell_type": "markdown",
   "id": "5db495c8-2892-47b2-a77d-9cb9f3abdf34",
   "metadata": {},
   "source": [
    "DDL => Data Definition Language are used to create or modify the structure of database objects"
   ]
  },
  {
   "cell_type": "markdown",
   "id": "7573f8c7-3592-4d72-a450-79eb5a60f423",
   "metadata": {},
   "source": [
    "CREATE => It is used to create database or table"
   ]
  },
  {
   "cell_type": "markdown",
   "id": "56bedd6c-0f88-4736-ae1e-8f514a6186b1",
   "metadata": {},
   "source": [
    "DROP => It is used to delete database or table"
   ]
  },
  {
   "cell_type": "markdown",
   "id": "ec4797c8-9f24-4b4b-9322-57e148f91a27",
   "metadata": {},
   "source": [
    "ALTER => It is used to alter or modify table structure such as changing column names"
   ]
  },
  {
   "cell_type": "markdown",
   "id": "4c785045-ec4b-4d04-b608-a2e3aed5a5c0",
   "metadata": {},
   "source": [
    "TRUNCATE => It is used to empty the table"
   ]
  },
  {
   "cell_type": "markdown",
   "id": "f0658ef4-28c1-4a92-9398-84fc3f388063",
   "metadata": {},
   "source": [
    "### 3)\n"
   ]
  },
  {
   "cell_type": "markdown",
   "id": "f0f5273e-8824-42e0-a23b-759e427e2467",
   "metadata": {},
   "source": [
    "DML => It is used to manipulate data within table"
   ]
  },
  {
   "cell_type": "markdown",
   "id": "3c9f9509-8114-4894-9147-49fc156d1bc1",
   "metadata": {},
   "source": [
    "INSERT => This command is used to insert new data in table"
   ]
  },
  {
   "cell_type": "markdown",
   "id": "683b02a2-8342-47ae-896d-ebfe1f5cf8cd",
   "metadata": {},
   "source": [
    "UPDATE=> This command is used to update existing command from table"
   ]
  },
  {
   "cell_type": "markdown",
   "id": "73acd94a-e503-4986-a481-0ff2a5b32ece",
   "metadata": {},
   "source": [
    "DELETE => This command is used to delte any  existing data from table"
   ]
  },
  {
   "cell_type": "markdown",
   "id": "3a47ada7-30ec-4850-a812-0c67298c3e79",
   "metadata": {},
   "source": [
    "### 4)"
   ]
  },
  {
   "cell_type": "markdown",
   "id": "7eaafb0d-f88d-4a80-84bc-1709c99b9bb8",
   "metadata": {},
   "source": [
    "DQL => Data Query LAnguage is used to get data from table"
   ]
  },
  {
   "cell_type": "markdown",
   "id": "79f873db-3522-45fd-9d71-d3bb9faa8192",
   "metadata": {},
   "source": [
    "SELECT => It is used to fetch single or multiple records from table"
   ]
  },
  {
   "cell_type": "markdown",
   "id": "1955caf6-d0b9-424a-9594-d6735d652513",
   "metadata": {},
   "source": [
    "### 5)"
   ]
  },
  {
   "cell_type": "markdown",
   "id": "fac7a13c-46bd-4c22-a66d-8c2b3e69b359",
   "metadata": {},
   "source": [
    "PRIMARY KEY => Attribute or column of table that uniquely defines and distinguishes all rows from \n",
    "               each other is called Primary key.It is non-empty , unique and non-repeating in nature"
   ]
  },
  {
   "cell_type": "markdown",
   "id": "565ee732-f087-4d5a-86d3-a4919c29fc4b",
   "metadata": {},
   "source": [
    "FOREIGN KEY=> Attribute or column of one table that refers to primary key of other table"
   ]
  },
  {
   "cell_type": "markdown",
   "id": "051f59da-0883-444d-9bc1-ea1016b79d6a",
   "metadata": {},
   "source": [
    "### 6)"
   ]
  },
  {
   "cell_type": "code",
   "execution_count": 3,
   "id": "46aaf789-c15b-439a-bfdd-3afb4778a43b",
   "metadata": {},
   "outputs": [],
   "source": [
    "# import mysql.connector\n",
    "# mydb = mysql.connector.connect(\n",
    "#   host=\"localhost\",\n",
    "#   user=\"abc\",\n",
    "#   password=\"password\"\n",
    "# )\n",
    "# print(mydb)\n",
    "# mycursor = mydb.cursor()\n",
    "# mycursor.execute(\"SHOW DATABASES\")\n",
    "# for x in mycursor:\n",
    "#   print(x)"
   ]
  },
  {
   "cell_type": "markdown",
   "id": "a5366eac-abfe-434d-90d1-07034570069e",
   "metadata": {},
   "source": [
    "Cursor => Cursor is a Temporary Memory or Temporary Work Station. It is Allocated by Database Server at the \n",
    "Time of Performing DML(Data Manipulation Language) operations on Table by User.  "
   ]
  },
  {
   "cell_type": "markdown",
   "id": "6d3bc5f9-6f59-404f-a69c-58a1301e4875",
   "metadata": {},
   "source": [
    "execute => To execute any sql command from pthyon execute command is used "
   ]
  },
  {
   "cell_type": "markdown",
   "id": "cac12c3a-5f48-4fa1-ba37-a713461b0513",
   "metadata": {},
   "source": [
    "### 7)"
   ]
  },
  {
   "cell_type": "markdown",
   "id": "13646abe-a1c8-4fda-adbf-5f21e5b0f72e",
   "metadata": {},
   "source": [
    "1) FROM and JOIN => 2) WHERE => 3) GROUPBY => 4)HAVING => 5) SELECT => 6)DISTINCT => 7)ORDERBY => 8)LIMIT"
   ]
  },
  {
   "cell_type": "code",
   "execution_count": null,
   "id": "d3751bcc-6a0a-4509-8b6f-f45fc7461d48",
   "metadata": {},
   "outputs": [],
   "source": []
  }
 ],
 "metadata": {
  "kernelspec": {
   "display_name": "Python 3 (ipykernel)",
   "language": "python",
   "name": "python3"
  },
  "language_info": {
   "codemirror_mode": {
    "name": "ipython",
    "version": 3
   },
   "file_extension": ".py",
   "mimetype": "text/x-python",
   "name": "python",
   "nbconvert_exporter": "python",
   "pygments_lexer": "ipython3",
   "version": "3.10.8"
  }
 },
 "nbformat": 4,
 "nbformat_minor": 5
}
