{
 "cells": [
  {
   "cell_type": "markdown",
   "id": "02b66c66-ff30-4d78-8fb0-c0f3f6596d6c",
   "metadata": {},
   "source": [
    "### 1)"
   ]
  },
  {
   "cell_type": "markdown",
   "id": "77c1c7f8-d111-4914-a4d3-7fc68731d020",
   "metadata": {},
   "source": [
    "* Bokeh is a data visualization library in Python that provides high-performance interactive charts and plots. \n",
    "* bokeh.models : A low level interface that provides high flexibility to application developers.\n",
    "* bokeh.plotting : A high level interface for creating visual glyphs."
   ]
  },
  {
   "cell_type": "markdown",
   "id": "aab1ccad-4b0b-40d6-b774-8f2ced101211",
   "metadata": {},
   "source": [
    "### 2)"
   ]
  },
  {
   "cell_type": "markdown",
   "id": "7c0a0cc4-0a31-4ec7-8ed4-97e71f937108",
   "metadata": {},
   "source": [
    "* Glyphs are nothing but visual shapes that are drawn to represent the data such as circles, squares, lines, rectangles, etc.  \n",
    "\n"
   ]
  },
  {
   "cell_type": "markdown",
   "id": "f174f112-8415-4b82-b897-f0ad31108aeb",
   "metadata": {},
   "source": [
    "* We can add them using plotting interface"
   ]
  },
  {
   "cell_type": "markdown",
   "id": "d3456f88-85a9-4a39-a040-f9be6f1ed269",
   "metadata": {},
   "source": [
    "* example\n",
    "\n",
    "from bokeh.plotting import figure, show, output_file\n",
    "a = [1, 2, 3, 4, 5, 6, 7, 8, 9, 10]\n",
    "b = [2, 4, 6, 8, 10, 12, 14, 16, 18, 20]\n",
    "my_plot = figure(title=\"simple line chart\", x_axis_label=\"X-Axis\",\n",
    "                 y_axis_label=\"Y-Axis\")\n",
    "my_plot.line(a, b, line_width=3)\n",
    "output_file(\"line.html\")\n",
    "show(my_plot)"
   ]
  },
  {
   "cell_type": "markdown",
   "id": "5f9f564c-904e-49b7-8bc1-978ba73645e0",
   "metadata": {},
   "source": [
    "### 3)"
   ]
  },
  {
   "cell_type": "markdown",
   "id": "c4037f58-f873-480a-8b37-b71e7cfedf50",
   "metadata": {},
   "source": [
    "We can customise bokeh by providing different values for axis etc."
   ]
  },
  {
   "cell_type": "markdown",
   "id": "20e7d405-36c4-4666-ae5b-fd031c55dd57",
   "metadata": {},
   "source": [
    "### 4)"
   ]
  },
  {
   "cell_type": "markdown",
   "id": "69569ff9-eb68-40ac-af44-640f8bf2ff77",
   "metadata": {},
   "source": [
    "* Bokeh server makes it easy to create interactive web applications that connect front-end UI events to running Python code"
   ]
  },
  {
   "cell_type": "code",
   "execution_count": null,
   "id": "0626fe8b-2448-4b26-a221-b18e26acab30",
   "metadata": {},
   "outputs": [],
   "source": []
  }
 ],
 "metadata": {
  "kernelspec": {
   "display_name": "Python 3 (ipykernel)",
   "language": "python",
   "name": "python3"
  },
  "language_info": {
   "codemirror_mode": {
    "name": "ipython",
    "version": 3
   },
   "file_extension": ".py",
   "mimetype": "text/x-python",
   "name": "python",
   "nbconvert_exporter": "python",
   "pygments_lexer": "ipython3",
   "version": "3.10.8"
  }
 },
 "nbformat": 4,
 "nbformat_minor": 5
}
