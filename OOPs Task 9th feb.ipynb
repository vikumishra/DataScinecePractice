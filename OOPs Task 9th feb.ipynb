{
 "cells": [
  {
   "cell_type": "markdown",
   "id": "1607681a-3321-4e02-a580-fe9ecd96c84a",
   "metadata": {},
   "source": [
    "## 1)"
   ]
  },
  {
   "cell_type": "code",
   "execution_count": 1,
   "id": "a293e58e-6b61-4598-8070-05d7410e06de",
   "metadata": {},
   "outputs": [],
   "source": [
    "class vehicle:\n",
    "    def __init__(self,name_of_vehicle,max_speed,average_of_vehicle):\n",
    "        self.name_of_vehicle = name_of_vehicle\n",
    "        self.max_speed = max_speed\n",
    "        self.average_of_vehicle = average_of_vehicle"
   ]
  },
  {
   "cell_type": "markdown",
   "id": "fd4f829f-baae-4388-83f6-7ca9c6484088",
   "metadata": {},
   "source": [
    "## 2)"
   ]
  },
  {
   "cell_type": "code",
   "execution_count": 7,
   "id": "fa2b49ba-9328-44e6-965c-ea1a22ec7b97",
   "metadata": {},
   "outputs": [],
   "source": [
    "class car(vehicle):\n",
    "    def __init__(self,name_of_vehicle,max_speed,average_of_vehicle):\n",
    "        super().__init__(name_of_vehicle,max_speed,average_of_vehicle)\n",
    "        \n",
    "    def seating_capacity(self,capacity):\n",
    "        return self.name_of_vehicle , capacity\n",
    "\n",
    "\n",
    "    "
   ]
  },
  {
   "cell_type": "code",
   "execution_count": 8,
   "id": "a54401cb-3998-4397-a606-6b4bbc2d9cd3",
   "metadata": {},
   "outputs": [],
   "source": [
    "obj = car(\"Hyundai\",180,24)"
   ]
  },
  {
   "cell_type": "code",
   "execution_count": 9,
   "id": "73c14735-d5f0-4e09-a20a-a8ceec896037",
   "metadata": {},
   "outputs": [
    {
     "data": {
      "text/plain": [
       "('Hyundai', 4)"
      ]
     },
     "execution_count": 9,
     "metadata": {},
     "output_type": "execute_result"
    }
   ],
   "source": [
    "obj.seating_capacity(4)"
   ]
  },
  {
   "cell_type": "markdown",
   "id": "8d20b9aa-df62-4d1a-b08c-4811cd7b250d",
   "metadata": {},
   "source": [
    "## 3)"
   ]
  },
  {
   "cell_type": "markdown",
   "id": "2ad6161b-424c-4bb4-85d9-85d9e3de29ee",
   "metadata": {},
   "source": [
    "A class can be derived from more than one superclass in Python. This is called multiple inheritance."
   ]
  },
  {
   "cell_type": "code",
   "execution_count": 10,
   "id": "b0cc937e-26ca-4048-a358-d028a04fdf7c",
   "metadata": {},
   "outputs": [
    {
     "name": "stdout",
     "output_type": "stream",
     "text": [
      "This is father class\n",
      "This is mother class\n"
     ]
    }
   ],
   "source": [
    "class Father:\n",
    "    def father_info(self):\n",
    "        print(\"This is father class\")\n",
    "\n",
    "class Mother:\n",
    "    def mother_info(self):\n",
    "        print(\"This is mother class\")\n",
    "\n",
    "class Child(Father, Mother):\n",
    "    pass\n",
    "\n",
    "# create an object of child class\n",
    "b1 = Child()\n",
    "\n",
    "b1.father_info()\n",
    "b1.mother_info()"
   ]
  },
  {
   "cell_type": "markdown",
   "id": "57a2a844-818f-4215-a444-ac40f760f999",
   "metadata": {},
   "source": [
    "## 4)"
   ]
  },
  {
   "cell_type": "raw",
   "id": "8876632a-9fc2-4756-9af9-868ef51ae03a",
   "metadata": {},
   "source": [
    "Getters and setters are methods  used to get and set instances of class which cannot be accessed outside the class"
   ]
  },
  {
   "cell_type": "code",
   "execution_count": 11,
   "id": "a8c8ab4e-23d5-403e-b7ea-860e61123c64",
   "metadata": {},
   "outputs": [],
   "source": [
    "class vehicle:\n",
    "    def __init__(self,speed):\n",
    "        self.__speed  = speed\n",
    "        \n",
    "    def get_vehicle(self):\n",
    "        return self.__speed\n",
    "    \n",
    "    def set_vehicle(self,speed):\n",
    "        self.__speed = speed"
   ]
  },
  {
   "cell_type": "code",
   "execution_count": 12,
   "id": "43a602a4-4dfd-4b97-97d2-2430af2404f2",
   "metadata": {},
   "outputs": [],
   "source": [
    "obj = vehicle(45)"
   ]
  },
  {
   "cell_type": "code",
   "execution_count": 13,
   "id": "2c2b5b50-187d-46e3-a842-3be02c339b9a",
   "metadata": {},
   "outputs": [],
   "source": [
    "obj.set_vehicle(78)"
   ]
  },
  {
   "cell_type": "code",
   "execution_count": 14,
   "id": "d3ef1e65-bc90-41c5-90c4-75b47318b8bd",
   "metadata": {},
   "outputs": [
    {
     "data": {
      "text/plain": [
       "78"
      ]
     },
     "execution_count": 14,
     "metadata": {},
     "output_type": "execute_result"
    }
   ],
   "source": [
    "obj.get_vehicle()"
   ]
  },
  {
   "cell_type": "markdown",
   "id": "274811fd-71cd-4f55-af4d-526c5fb476b0",
   "metadata": {},
   "source": [
    "## 5)"
   ]
  },
  {
   "cell_type": "raw",
   "id": "58ad0c57-1501-44b7-9a8f-18987991b702",
   "metadata": {},
   "source": [
    "The overriding method allows a child class to provide a specific implementation of a method that \n",
    "is already provided by one of its parent classes."
   ]
  },
  {
   "cell_type": "code",
   "execution_count": 15,
   "id": "16a229d6-c28a-4c1b-baab-419be3284cb7",
   "metadata": {},
   "outputs": [],
   "source": [
    "class Employee:\n",
    "    def __init__(self, name, base_pay):\n",
    "        self.name = name\n",
    "        self.base_pay = base_pay\n",
    "\n",
    "    def get_pay(self):\n",
    "        return self.base_pay\n",
    "\n",
    "\n",
    "class SalesEmployee(Employee):\n",
    "    def __init__(self, name, base_pay, sales_incentive):\n",
    "        self.name = name\n",
    "        self.base_pay = base_pay\n",
    "        self.sales_incentive = sales_incentive\n",
    "\n",
    "    def get_pay(self):\n",
    "        return self.base_pay + self.sales_incentive\n"
   ]
  },
  {
   "cell_type": "code",
   "execution_count": 16,
   "id": "31ca9e47-5eb8-4233-b248-e5bb74ffe678",
   "metadata": {},
   "outputs": [],
   "source": [
    "obj = SalesEmployee(\"Abcc\",456,980)"
   ]
  },
  {
   "cell_type": "code",
   "execution_count": 17,
   "id": "6aa31c53-4a02-4c4a-9eb1-3d1ae82624a5",
   "metadata": {},
   "outputs": [
    {
     "data": {
      "text/plain": [
       "1436"
      ]
     },
     "execution_count": 17,
     "metadata": {},
     "output_type": "execute_result"
    }
   ],
   "source": [
    "obj.get_pay()"
   ]
  },
  {
   "cell_type": "code",
   "execution_count": null,
   "id": "0a3315d5-4005-49cd-a45c-9a951d1b27eb",
   "metadata": {},
   "outputs": [],
   "source": []
  }
 ],
 "metadata": {
  "kernelspec": {
   "display_name": "Python 3 (ipykernel)",
   "language": "python",
   "name": "python3"
  },
  "language_info": {
   "codemirror_mode": {
    "name": "ipython",
    "version": 3
   },
   "file_extension": ".py",
   "mimetype": "text/x-python",
   "name": "python",
   "nbconvert_exporter": "python",
   "pygments_lexer": "ipython3",
   "version": "3.10.8"
  }
 },
 "nbformat": 4,
 "nbformat_minor": 5
}
