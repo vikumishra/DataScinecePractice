{
 "cells": [
  {
   "cell_type": "markdown",
   "id": "408994e4-5eae-4b41-8d67-cccbbb5261c7",
   "metadata": {},
   "source": [
    "### 1)"
   ]
  },
  {
   "cell_type": "markdown",
   "id": "f958c63f-65ae-4f99-b76a-521b7fcd7bcb",
   "metadata": {},
   "source": [
    "API is an interface that we make in order to communicate between two homogeneous or hetrogeneous applications.\n",
    "e.g. In real life we use APIs in Gpay , Googlemaps, Instagram etc."
   ]
  },
  {
   "cell_type": "markdown",
   "id": "a0b25c74-c33c-438f-9277-76fbc789b289",
   "metadata": {},
   "source": [
    "### 2)"
   ]
  },
  {
   "cell_type": "markdown",
   "id": "9f5f4ee8-5dae-4813-8015-29249f06c903",
   "metadata": {},
   "source": [
    "### Advantages:-\n",
    "\n",
    "* Scalability - We can make multiple request with them\n",
    "* Layered - We can make different security layers on top of them\n",
    "* Simpler - They are simpler to make and implement"
   ]
  },
  {
   "cell_type": "markdown",
   "id": "a6f89605-fb55-4c64-867d-f6fd3b1c1cd3",
   "metadata": {},
   "source": [
    "### Disadvantages\n",
    "\n",
    "* Security - There are high chances of data leakages if security layer not properly done on API\n",
    "* Cost - There can be high computational cost if number of APIs for a application are more\n"
   ]
  },
  {
   "cell_type": "markdown",
   "id": "5c386e3f-bfcc-4c95-9b10-025dbb66da55",
   "metadata": {},
   "source": [
    "### 3)"
   ]
  },
  {
   "cell_type": "markdown",
   "id": "d23c0c67-59aa-431a-8bf3-510b7523b89c",
   "metadata": {},
   "source": [
    "* Web API - It is an interface that uses HTTP protocol in order to communicate between two applications.\n",
    "* API and Web API difference is that API is an generic term that is used to communicate between two application whereas \n",
    "  Web API is an subset of API which uses HTTP protocol for its implementation."
   ]
  },
  {
   "cell_type": "markdown",
   "id": "123cef53-8b78-4702-b489-1044ae3c1caa",
   "metadata": {},
   "source": [
    "### 4)"
   ]
  },
  {
   "cell_type": "markdown",
   "id": "e9eeeb3a-3ae6-4d90-b58e-0610f8738577",
   "metadata": {},
   "source": [
    "* REST => It is API making architecture which uses web and HTTP protocol\n",
    "* SOAP => It is API making architecture which uses xml based system for data transfer between two system\n",
    "\n",
    "* Shortcomings of SOAP are => 1) It is complex in implementation. 2) It takes high cost in making\n",
    "\n"
   ]
  },
  {
   "cell_type": "markdown",
   "id": "06b683c1-2d1a-42b5-932c-14bea1897b2c",
   "metadata": {},
   "source": [
    "### 5)"
   ]
  },
  {
   "cell_type": "markdown",
   "id": "18ceb96a-8a09-481f-bd97-e56000f72607",
   "metadata": {},
   "source": [
    "#### Difference between REST and SOAP are\n",
    "\n",
    "* REST is stateless whereas SOAP is stateful\n",
    "* REST is easy on implementation whereas SOAP is not.\n",
    "* REST doesnot consider security as top priority whereas for application where data security is must we use SOAP"
   ]
  },
  {
   "cell_type": "code",
   "execution_count": null,
   "id": "414d7b7e-4704-40d0-ab3a-76dab9a7f673",
   "metadata": {},
   "outputs": [],
   "source": []
  }
 ],
 "metadata": {
  "kernelspec": {
   "display_name": "Python 3 (ipykernel)",
   "language": "python",
   "name": "python3"
  },
  "language_info": {
   "codemirror_mode": {
    "name": "ipython",
    "version": 3
   },
   "file_extension": ".py",
   "mimetype": "text/x-python",
   "name": "python",
   "nbconvert_exporter": "python",
   "pygments_lexer": "ipython3",
   "version": "3.10.8"
  }
 },
 "nbformat": 4,
 "nbformat_minor": 5
}
