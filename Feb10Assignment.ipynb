{
 "cells": [
  {
   "cell_type": "markdown",
   "id": "f8c80a22-1465-47c3-9e93-cf0954ccf38c",
   "metadata": {},
   "source": [
    "### 1)"
   ]
  },
  {
   "cell_type": "raw",
   "id": "609e0051-9aa4-4e20-b70b-f976e491528e",
   "metadata": {},
   "source": [
    "* open() function is used to open a file.\n",
    "* Different modes of opening a file are:-\n",
    "\n",
    "'r'       open for reading (default)\n",
    "'w'       open for writing, truncating the file first\n",
    "'x'       create a new file and open it for writing\n",
    "'a'       open for writing, appending to the end of the file if it exists\n",
    "'b'       binary mode\n",
    "'t'       text mode (default)\n",
    "'+'       open a disk file for updating (reading and writing)\n",
    "'U'       universal newline mode (deprecated)"
   ]
  },
  {
   "cell_type": "markdown",
   "id": "95b2c046-ef8d-450d-b35c-6a8b77d1d89d",
   "metadata": {},
   "source": [
    "### 2)"
   ]
  },
  {
   "cell_type": "raw",
   "id": "ce297f91-2fce-4b5b-bafa-5b1ae5378cdc",
   "metadata": {},
   "source": [
    "close() function is used to close the current file. It is important to use this function as it makes sure\n",
    "whatever we have written in file is saved in the file."
   ]
  },
  {
   "cell_type": "markdown",
   "id": "3dcd547a-474a-41b3-a5bd-a739438ab105",
   "metadata": {},
   "source": [
    "### 3)"
   ]
  },
  {
   "cell_type": "code",
   "execution_count": 1,
   "id": "3623d721-14cc-4bf5-bc86-9753b6591ed9",
   "metadata": {},
   "outputs": [],
   "source": [
    "file1 = open(\"file1.txt\",\"w\")"
   ]
  },
  {
   "cell_type": "code",
   "execution_count": 2,
   "id": "2710e9ec-9fb6-4462-b2ff-9262cfa8405b",
   "metadata": {},
   "outputs": [
    {
     "data": {
      "text/plain": [
       "33"
      ]
     },
     "execution_count": 2,
     "metadata": {},
     "output_type": "execute_result"
    }
   ],
   "source": [
    "file1.write(\"I want to become a Data Scientist\")"
   ]
  },
  {
   "cell_type": "code",
   "execution_count": 3,
   "id": "27e536c3-46af-4044-ab67-e12848e39468",
   "metadata": {},
   "outputs": [],
   "source": [
    "file1.close()"
   ]
  },
  {
   "cell_type": "code",
   "execution_count": 4,
   "id": "ba631a0f-83b9-4b8b-ad4d-83e18c7defe0",
   "metadata": {},
   "outputs": [],
   "source": [
    "file1 = open(\"file1.txt\",\"r\")"
   ]
  },
  {
   "cell_type": "code",
   "execution_count": 5,
   "id": "796c9bc2-0b41-47b5-a81e-aa580132d6c2",
   "metadata": {},
   "outputs": [
    {
     "data": {
      "text/plain": [
       "'I want to become a Data Scientist'"
      ]
     },
     "execution_count": 5,
     "metadata": {},
     "output_type": "execute_result"
    }
   ],
   "source": [
    "file1.read()"
   ]
  },
  {
   "cell_type": "code",
   "execution_count": 6,
   "id": "4777f007-383f-4a82-b8bf-3f624b5ace2f",
   "metadata": {},
   "outputs": [],
   "source": [
    "file1.close()"
   ]
  },
  {
   "cell_type": "markdown",
   "id": "0ea52d52-15a3-480c-aeca-a935efcd41c1",
   "metadata": {},
   "source": [
    "### 4)"
   ]
  },
  {
   "cell_type": "raw",
   "id": "d0379036-66eb-4874-9934-4baf94690705",
   "metadata": {},
   "source": [
    "read() => It is used to read the complete file at once"
   ]
  },
  {
   "cell_type": "code",
   "execution_count": 7,
   "id": "33010ec1-720e-48fb-a9f8-1b7ac4a46d57",
   "metadata": {},
   "outputs": [],
   "source": [
    "# Example of read()\n",
    "file2 = open(\"file2.txt\",\"w\")\n",
    "file2.write(\"This is first line\\n This is second line\\n This is third line\")\n",
    "file2.close()"
   ]
  },
  {
   "cell_type": "code",
   "execution_count": 10,
   "id": "1295d4ec-fee7-4386-93c1-6cde0d7cccbd",
   "metadata": {},
   "outputs": [
    {
     "name": "stdout",
     "output_type": "stream",
     "text": [
      "This is first line\n",
      " This is second line\n",
      " This is third line\n"
     ]
    }
   ],
   "source": [
    "file2 = open(\"file2.txt\",\"r\")\n",
    "print(file2.read())\n",
    "file2.close()"
   ]
  },
  {
   "cell_type": "raw",
   "id": "d9aeb58d-2a8a-4cc8-b105-f14b3ef0e8df",
   "metadata": {},
   "source": [
    "readline() => It is used to read single line at once or read line by line when called.\n",
    "The readline method takes one parameter i.e size, the default value for the size parameter is -1. It means that the method will return the whole line. It is an optional parameter, we can specify the number of bytes from a line to return."
   ]
  },
  {
   "cell_type": "code",
   "execution_count": 11,
   "id": "98d0f57b-76db-4933-b2b9-7929dd1ec81a",
   "metadata": {},
   "outputs": [
    {
     "name": "stdout",
     "output_type": "stream",
     "text": [
      "This is first line\n",
      "\n"
     ]
    }
   ],
   "source": [
    "file2 = open(\"file2.txt\",\"r\")\n",
    "print(file2.readline())\n",
    "file2.close()"
   ]
  },
  {
   "cell_type": "raw",
   "id": "6619581b-94b3-4e04-a0e7-387bab9dc138",
   "metadata": {},
   "source": [
    "readlines() => will return all the lines in a file in the format of a list where each element is a line in the file.\n"
   ]
  },
  {
   "cell_type": "code",
   "execution_count": 12,
   "id": "9c954ce9-59f7-4f61-bf4e-d0041512fc67",
   "metadata": {},
   "outputs": [
    {
     "name": "stdout",
     "output_type": "stream",
     "text": [
      "['This is first line\\n', ' This is second line\\n', ' This is third line']\n"
     ]
    }
   ],
   "source": [
    "file2 = open(\"file2.txt\",\"r\")\n",
    "print(file2.readlines())\n",
    "file2.close()"
   ]
  },
  {
   "cell_type": "markdown",
   "id": "f47ffbb6-eebf-4a8a-8890-dd46d0570808",
   "metadata": {},
   "source": [
    "### 5)"
   ]
  },
  {
   "cell_type": "raw",
   "id": "b2f95f50-71b9-4922-9324-ae473f2a4fc4",
   "metadata": {},
   "source": [
    "In Python, with statement is used in exception handling to make the code cleaner and much more readable. It simplifies the management of common resources like file streams. Observe the following code example on how the use of with statement makes code cleaner. "
   ]
  },
  {
   "cell_type": "code",
   "execution_count": 13,
   "id": "a2aa9962-75e9-4782-b4c1-52bf27385697",
   "metadata": {},
   "outputs": [],
   "source": [
    "# file handling\n",
    " \n",
    "# 1) without using with statement\n",
    "file = open('file_path', 'w')\n",
    "file.write('hello world !')\n",
    "file.close()\n",
    " \n",
    "# 2) without using with statement\n",
    "file = open('file_path', 'w')\n",
    "try:\n",
    "    file.write('hello world')\n",
    "finally:\n",
    "    file.close()"
   ]
  },
  {
   "cell_type": "markdown",
   "id": "af2fea8d-c5c8-465e-8358-d42df0e3e323",
   "metadata": {},
   "source": [
    "### 6)"
   ]
  },
  {
   "cell_type": "raw",
   "id": "787d4587-87ff-4359-919a-c74a01b71436",
   "metadata": {},
   "source": [
    "write()=> It is used to write complete file at once without adding any extra newline characters by itself"
   ]
  },
  {
   "cell_type": "code",
   "execution_count": 15,
   "id": "b2e70bc8-6814-427c-942d-802f5f061fa4",
   "metadata": {},
   "outputs": [
    {
     "name": "stdout",
     "output_type": "stream",
     "text": [
      "I want to become a Data Scientist\n"
     ]
    }
   ],
   "source": [
    "filew = open(\"filew.txt\",\"w\")\n",
    "filew.write(\"I want to become a Data Scientist\")\n",
    "filew.close()\n",
    "filew = open(\"filew.txt\",\"r\")\n",
    "print(filew.read())\n",
    "filew.close()\n",
    "\n"
   ]
  },
  {
   "cell_type": "raw",
   "id": "7c634a95-7e50-4331-ab27-33fe3958de01",
   "metadata": {},
   "source": [
    "writelines() => The writelines() method writes the items of a list to the file.\n",
    "\n",
    "Where the texts will be inserted depends on the file mode and stream position.\n",
    "\n"
   ]
  },
  {
   "cell_type": "code",
   "execution_count": 16,
   "id": "76c18451-ebb0-4001-a370-f399680974af",
   "metadata": {},
   "outputs": [
    {
     "name": "stdout",
     "output_type": "stream",
     "text": [
      "I want to become a Data Scientist\n",
      "See you soon!\n",
      "Over and out.\n"
     ]
    }
   ],
   "source": [
    "filew = open(\"filew.txt\",\"a\")\n",
    "filew.writelines([\"\\nSee you soon!\", \"\\nOver and out.\"])\n",
    "filew.close()\n",
    "filew = open(\"filew.txt\",\"r\")\n",
    "print(filew.read())\n",
    "filew.close()"
   ]
  },
  {
   "cell_type": "code",
   "execution_count": null,
   "id": "5ff770ad-0da0-46df-bd7a-a23701851d8d",
   "metadata": {},
   "outputs": [],
   "source": []
  }
 ],
 "metadata": {
  "kernelspec": {
   "display_name": "Python 3 (ipykernel)",
   "language": "python",
   "name": "python3"
  },
  "language_info": {
   "codemirror_mode": {
    "name": "ipython",
    "version": 3
   },
   "file_extension": ".py",
   "mimetype": "text/x-python",
   "name": "python",
   "nbconvert_exporter": "python",
   "pygments_lexer": "ipython3",
   "version": "3.10.8"
  }
 },
 "nbformat": 4,
 "nbformat_minor": 5
}
