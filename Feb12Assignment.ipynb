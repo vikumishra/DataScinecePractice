{
 "cells": [
  {
   "cell_type": "markdown",
   "id": "7c59c1d6-643a-45ef-9ce3-4d8af991d0e1",
   "metadata": {},
   "source": [
    "### 1)"
   ]
  },
  {
   "cell_type": "markdown",
   "id": "50df2582-1eb3-4ea3-9044-1ac96f5c2e72",
   "metadata": {},
   "source": [
    "Exception are runtime errors which are syntatically correct but can cause the breakage of program. e.g. 2/0 is an exception\n",
    "Syntax errors are the errors which doesnot follow the rules of a programing language. e.g. if(a=10){\n",
    "print(ok)\n",
    "}"
   ]
  },
  {
   "cell_type": "markdown",
   "id": "97cd9f8b-ccdb-4a8e-b51b-a8520c8f614b",
   "metadata": {},
   "source": [
    "### 2)"
   ]
  },
  {
   "cell_type": "markdown",
   "id": "0b131f7e-5a35-4b5c-bd26-506a7ccc73c2",
   "metadata": {},
   "source": [
    "The program breaks down and all the code under the line where exception has occcured doesnot execute if \n",
    "exception occurs. e.g. \n",
    "\n",
    "a=10\n",
    "b=a/0\n",
    "print(\"Hello\")\n",
    "\n",
    "Here exception will occur at b=a/0 and program will break down and the next statement i.e.print(\"Hello\") will not \n",
    "be executed"
   ]
  },
  {
   "cell_type": "markdown",
   "id": "45465578-dba1-40f7-9c88-25d80fec8356",
   "metadata": {},
   "source": [
    "### 3)"
   ]
  },
  {
   "cell_type": "markdown",
   "id": "c1ceede0-ac7d-45e4-8674-57b1e0d9bdce",
   "metadata": {},
   "source": [
    "try and except are used to hadle exception. e.g."
   ]
  },
  {
   "cell_type": "code",
   "execution_count": 1,
   "id": "2a1d80c6-a46f-49ae-8849-802a5b469b40",
   "metadata": {},
   "outputs": [
    {
     "name": "stdout",
     "output_type": "stream",
     "text": [
      "Exception has occured: division by zero\n"
     ]
    }
   ],
   "source": [
    "a=10\n",
    "try:\n",
    "    a/0\n",
    "except Exception as e:\n",
    "    print(\"Exception has occured:\",e)"
   ]
  },
  {
   "cell_type": "markdown",
   "id": "2b486624-e5f1-4c53-9805-e9d1ea3dac0a",
   "metadata": {},
   "source": [
    "### 4)"
   ]
  },
  {
   "cell_type": "markdown",
   "id": "4847b435-1cb1-4589-bab2-769a25aaf7aa",
   "metadata": {},
   "source": [
    "#### a)\n",
    " * try:- This block contains anything that can cause exception\n",
    " * else:- This block is executed if try block is executed successfully without any exception"
   ]
  },
  {
   "cell_type": "code",
   "execution_count": 3,
   "id": "d1ad6e3b-4d70-4457-849a-c9c029920331",
   "metadata": {},
   "outputs": [
    {
     "name": "stdout",
     "output_type": "stream",
     "text": [
      "Hello\n"
     ]
    }
   ],
   "source": [
    "a=10\n",
    "try:\n",
    "    a/2\n",
    "except Exception as e:\n",
    "    print(\"Exception occured\")\n",
    "else:\n",
    "    print(\"Hello\")"
   ]
  },
  {
   "cell_type": "markdown",
   "id": "072f5d19-e1ee-421e-8443-5d502477c580",
   "metadata": {},
   "source": [
    "#### b)\n",
    "* finally- This block runs irrespective of the fact whether exception occured or not , i.e. in any condition"
   ]
  },
  {
   "cell_type": "code",
   "execution_count": 4,
   "id": "15d844f9-48d6-4e37-8dd6-e29b056a6b85",
   "metadata": {},
   "outputs": [
    {
     "name": "stdout",
     "output_type": "stream",
     "text": [
      "Hello\n",
      "I occured\n"
     ]
    }
   ],
   "source": [
    "a=10\n",
    "try:\n",
    "    a/2\n",
    "except Exception as e:\n",
    "    print(\"Exception occured\")\n",
    "else:\n",
    "    print(\"Hello\")\n",
    "finally:\n",
    "    print(\"I occured\")"
   ]
  },
  {
   "cell_type": "markdown",
   "id": "41ec8704-9c6f-4556-b0bc-b162bb409508",
   "metadata": {},
   "source": [
    "#### c) raise=> It is used to make custom exceptions"
   ]
  },
  {
   "cell_type": "markdown",
   "id": "0ae371a9-769e-4f92-a281-564dd9c99aa7",
   "metadata": {},
   "source": [
    "### 5)"
   ]
  },
  {
   "cell_type": "markdown",
   "id": "aacf955c-f254-4e36-a372-1c3092c77754",
   "metadata": {},
   "source": [
    "#### Custom Exceptions are the exceptions that we make ourself and are not already present in Exception \n",
    "#### class. These are important as there are many situation in real life that need to be handled with \n",
    "#### our own developed exceptions for example- age should be neither negative nor too high"
   ]
  },
  {
   "cell_type": "code",
   "execution_count": 13,
   "id": "6b3474ff-8975-4ab1-b2db-26cac822dfde",
   "metadata": {},
   "outputs": [],
   "source": [
    "class validateAge(Exception):\n",
    "    def __init__(self,msg):\n",
    "        self.msg = msg"
   ]
  },
  {
   "cell_type": "code",
   "execution_count": 14,
   "id": "dcdb49bd-702b-43a2-bf08-1d477d547830",
   "metadata": {},
   "outputs": [],
   "source": [
    "def validate_Age(age):\n",
    "    if age < 0:\n",
    "        raise validateAge(\"Enetered age is negative\")\n",
    "    else:\n",
    "        print(\"Age is valid\")"
   ]
  },
  {
   "cell_type": "code",
   "execution_count": 15,
   "id": "a2e8e6ad-a240-4ac9-ad5e-b78dea9e290f",
   "metadata": {},
   "outputs": [
    {
     "name": "stdin",
     "output_type": "stream",
     "text": [
      "Enter age 7\n"
     ]
    },
    {
     "name": "stdout",
     "output_type": "stream",
     "text": [
      "Age is valid\n"
     ]
    }
   ],
   "source": [
    "try:\n",
    "    age = int(input(\"Enter age\"))\n",
    "    validate_Age(age)\n",
    "except validateAge as e:\n",
    "    print(e)\n",
    "\n",
    "\n"
   ]
  },
  {
   "cell_type": "markdown",
   "id": "16e3ba06-ee2f-48aa-888b-a2860294021a",
   "metadata": {},
   "source": [
    "### 6)"
   ]
  },
  {
   "cell_type": "code",
   "execution_count": 5,
   "id": "0c60b06a-41ca-470a-a41c-5a31d9a65044",
   "metadata": {},
   "outputs": [],
   "source": [
    "class validateAge(Exception):\n",
    "    def __init__(self,msg):\n",
    "        self.msg = msg"
   ]
  },
  {
   "cell_type": "code",
   "execution_count": 6,
   "id": "2429175e-ec84-4e7f-8b30-42db314ecf4a",
   "metadata": {},
   "outputs": [],
   "source": [
    "def validate_Age(age):\n",
    "    if age < 0:\n",
    "        raise validateAge(\"Enetered age is negative\")\n",
    "    else:\n",
    "        print(\"Age is valid\")"
   ]
  },
  {
   "cell_type": "code",
   "execution_count": 9,
   "id": "26d747de-973a-43ff-8564-0dd87cb7ed14",
   "metadata": {},
   "outputs": [
    {
     "name": "stdin",
     "output_type": "stream",
     "text": [
      "Enter age 23\n"
     ]
    },
    {
     "name": "stdout",
     "output_type": "stream",
     "text": [
      "Age is valid\n"
     ]
    }
   ],
   "source": [
    "try:\n",
    "    age = int(input(\"Enter age\"))\n",
    "    validate_Age(age)\n",
    "except validateAge as e:\n",
    "    print(e)\n",
    "\n",
    "\n",
    "              \n"
   ]
  },
  {
   "cell_type": "code",
   "execution_count": null,
   "id": "9e885c3f-5ea1-402b-be4d-663984c9786f",
   "metadata": {},
   "outputs": [],
   "source": []
  }
 ],
 "metadata": {
  "kernelspec": {
   "display_name": "Python 3 (ipykernel)",
   "language": "python",
   "name": "python3"
  },
  "language_info": {
   "codemirror_mode": {
    "name": "ipython",
    "version": 3
   },
   "file_extension": ".py",
   "mimetype": "text/x-python",
   "name": "python",
   "nbconvert_exporter": "python",
   "pygments_lexer": "ipython3",
   "version": "3.10.8"
  }
 },
 "nbformat": 4,
 "nbformat_minor": 5
}
