{
 "cells": [
  {
   "cell_type": "markdown",
   "id": "84cfff85-31a4-4336-94b3-90f85239e1bd",
   "metadata": {},
   "source": [
    "### 1)"
   ]
  },
  {
   "cell_type": "markdown",
   "id": "bf8aae5c-3e06-4c9b-bd66-d8c0125e1755",
   "metadata": {},
   "source": [
    "* Web scrapping refers to a technique where we automate the extraction data from any particular website\n",
    "* Areas where web scrapping can be used are:- 1) Sentiment Analysis 2)Price comaprison 3) Researching new concepts in a field."
   ]
  },
  {
   "cell_type": "markdown",
   "id": "7bb0b8ea-3fbb-4c73-b7c9-1ace47439a28",
   "metadata": {},
   "source": [
    "### 2)"
   ]
  },
  {
   "cell_type": "markdown",
   "id": "e85513c2-c46f-4bb5-8280-35015f19fc1c",
   "metadata": {},
   "source": [
    "* Different methods used in web scrapping are => 1) urlopen() 2)BeautifulSoup() 3)find_all() etc."
   ]
  },
  {
   "cell_type": "markdown",
   "id": "d0d5599d-fc2d-4209-80da-27dea59b1d9f",
   "metadata": {},
   "source": [
    "### 3)"
   ]
  },
  {
   "cell_type": "markdown",
   "id": "91806cc0-b20b-49e1-9fa3-2d739514ef89",
   "metadata": {},
   "source": [
    "Beautiful Soup provides simple methods for navigating, searching, and modifying a parse tree in HTML, XML files. It transforms a complex HTML document into a tree of Python objects. It also automatically converts the document to Unicode, so you don't have to think about encodings."
   ]
  },
  {
   "cell_type": "markdown",
   "id": "03f750a5-109b-4962-b2bb-71b2f272d6af",
   "metadata": {},
   "source": [
    "### 4)"
   ]
  },
  {
   "cell_type": "markdown",
   "id": "fc7531a1-25fd-4791-b559-1b64f2b75147",
   "metadata": {},
   "source": [
    "Flask is used in this web scrapping project due to following reason:-\n",
    "* To provide proper interface for front end\n",
    "* To provide proper routing for client hitting web site\n",
    "* To act as a server"
   ]
  },
  {
   "cell_type": "markdown",
   "id": "80693d0f-8bdd-468b-950b-281f066084b3",
   "metadata": {},
   "source": [
    "### 5)"
   ]
  },
  {
   "cell_type": "markdown",
   "id": "0714e29a-4db0-4b1b-96f9-57db11708242",
   "metadata": {},
   "source": [
    "Aws services used in this project are:-\n",
    "* Code Pipeline => It acts as a bridge between git and Elastic beanstack. It takes code from git and provides it to beanstack.\n",
    "* Elastic Beanstack => It provides the running resource for our project and act as continous running server"
   ]
  },
  {
   "cell_type": "code",
   "execution_count": null,
   "id": "84ec21ae-72d2-4a26-9d2d-47247653990c",
   "metadata": {},
   "outputs": [],
   "source": []
  }
 ],
 "metadata": {
  "kernelspec": {
   "display_name": "Python 3 (ipykernel)",
   "language": "python",
   "name": "python3"
  },
  "language_info": {
   "codemirror_mode": {
    "name": "ipython",
    "version": 3
   },
   "file_extension": ".py",
   "mimetype": "text/x-python",
   "name": "python",
   "nbconvert_exporter": "python",
   "pygments_lexer": "ipython3",
   "version": "3.10.8"
  }
 },
 "nbformat": 4,
 "nbformat_minor": 5
}
