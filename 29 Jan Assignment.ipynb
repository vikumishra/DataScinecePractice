{
 "cells": [
  {
   "cell_type": "markdown",
   "id": "82cf9d77-f300-4d50-9ff4-ee882bd76151",
   "metadata": {},
   "source": [
    "1) Guido van Rossum"
   ]
  },
  {
   "cell_type": "markdown",
   "id": "d798741d-44ce-4542-8c20-d769be2342bf",
   "metadata": {},
   "source": [
    "2) Object-Oriented and Structured both"
   ]
  },
  {
   "cell_type": "markdown",
   "id": "33427285-6e23-4439-b79e-61c2973ae0db",
   "metadata": {},
   "source": [
    "3) yes"
   ]
  },
  {
   "cell_type": "markdown",
   "id": "10470b76-0809-44db-95e1-4fba94c94deb",
   "metadata": {},
   "source": [
    "4) .py"
   ]
  },
  {
   "cell_type": "markdown",
   "id": "8136a148-2639-47fd-add8-80a24cdef4f1",
   "metadata": {},
   "source": [
    "5) Interpreted"
   ]
  },
  {
   "cell_type": "markdown",
   "id": "44db7aa2-364c-40d9-8a80-68683bfcd0a0",
   "metadata": {},
   "source": [
    "6) Identation"
   ]
  },
  {
   "cell_type": "raw",
   "id": "4e236cfe-dc33-423d-8b92-a2ed6a14a2dd",
   "metadata": {},
   "source": [
    "7) #"
   ]
  },
  {
   "cell_type": "markdown",
   "id": "fc0808ab-02bf-430c-933c-434aa4740a1c",
   "metadata": {},
   "source": [
    "8) import sys\n",
    "sys.version\n",
    "  "
   ]
  },
  {
   "cell_type": "markdown",
   "id": "9e5a23bc-aad7-4cac-8ee3-ffc7b3ac8c8c",
   "metadata": {},
   "source": [
    "9) Lambda"
   ]
  },
  {
   "cell_type": "markdown",
   "id": "e001f203-f676-4078-a36b-d83c8ba32003",
   "metadata": {},
   "source": [
    "10) preferred installer program"
   ]
  },
  {
   "cell_type": "markdown",
   "id": "1630fbfa-ac56-4d1d-8e8a-ea941e9b054a",
   "metadata": {},
   "source": [
    "11) len() , del"
   ]
  },
  {
   "cell_type": "markdown",
   "id": "a601a9ba-374e-419d-84af-48533795e989",
   "metadata": {},
   "source": [
    "12) 79 characters"
   ]
  },
  {
   "cell_type": "markdown",
   "id": "c2e5ec41-c6b8-47ca-a091-5e67ddd56feb",
   "metadata": {},
   "source": [
    "13) Many in built function to use , open source , user friendly , supports OOPS"
   ]
  },
  {
   "cell_type": "markdown",
   "id": "36a5f226-517c-49fe-a0fa-d70126e0d818",
   "metadata": {},
   "source": [
    "14) It uses private heap containing all python objects and data structures"
   ]
  },
  {
   "cell_type": "markdown",
   "id": "8b04232e-ff97-4438-940d-4cc05a4c81ec",
   "metadata": {},
   "source": [
    "15) From browser visit python website , download for windows and install it by following next next commands. "
   ]
  },
  {
   "cell_type": "markdown",
   "id": "018f9947-8bb8-4741-9e61-8c4fe9b9bf1d",
   "metadata": {},
   "source": [
    "15) setting path variable => 1) Right click This PC and go to properties 2) Advance system settings 3)Environment variable 4) System variable 5)Edit path"
   ]
  },
  {
   "cell_type": "markdown",
   "id": "17b81f5a-54a2-4471-8650-98043759d83d",
   "metadata": {},
   "source": [
    "16) Yes"
   ]
  },
  {
   "cell_type": "code",
   "execution_count": null,
   "id": "7f69f2bf-106f-4b29-a079-a75a754d0362",
   "metadata": {},
   "outputs": [],
   "source": []
  }
 ],
 "metadata": {
  "kernelspec": {
   "display_name": "Python 3 (ipykernel)",
   "language": "python",
   "name": "python3"
  },
  "language_info": {
   "codemirror_mode": {
    "name": "ipython",
    "version": 3
   },
   "file_extension": ".py",
   "mimetype": "text/x-python",
   "name": "python",
   "nbconvert_exporter": "python",
   "pygments_lexer": "ipython3",
   "version": "3.10.8"
  }
 },
 "nbformat": 4,
 "nbformat_minor": 5
}
