{
 "cells": [
  {
   "cell_type": "markdown",
   "id": "224dacca-29f8-404f-bac1-c09f9d12428b",
   "metadata": {},
   "source": [
    "## 1) "
   ]
  },
  {
   "cell_type": "code",
   "execution_count": 1,
   "id": "40c096ab-ba1c-410a-85fb-61dc95d5defe",
   "metadata": {},
   "outputs": [],
   "source": [
    "## def keyword is used to define function"
   ]
  },
  {
   "cell_type": "code",
   "execution_count": 4,
   "id": "29bc6a03-b7cb-411a-bc27-939a548c567c",
   "metadata": {},
   "outputs": [],
   "source": [
    "def odd_nos(n):\n",
    "    li=[]\n",
    "    for i in range(1,n):\n",
    "        if(i%2 != 0):\n",
    "            li.append(i)\n",
    "    return li\n",
    "            \n",
    "        "
   ]
  },
  {
   "cell_type": "code",
   "execution_count": 5,
   "id": "cd1313ec-7b3e-4d8e-8817-781bb8330684",
   "metadata": {},
   "outputs": [
    {
     "data": {
      "text/plain": [
       "[1, 3, 5, 7, 9, 11, 13, 15, 17, 19, 21, 23]"
      ]
     },
     "execution_count": 5,
     "metadata": {},
     "output_type": "execute_result"
    }
   ],
   "source": [
    "odd_nos(25)"
   ]
  },
  {
   "cell_type": "markdown",
   "id": "24f2ec6a-35a0-414b-b6b9-e059f4ef1940",
   "metadata": {},
   "source": [
    "## 2"
   ]
  },
  {
   "cell_type": "code",
   "execution_count": 6,
   "id": "6f3e4157-63c1-4397-95a7-ba1121720a80",
   "metadata": {},
   "outputs": [],
   "source": [
    "# *args- It is used to dynamically declare and define  function arguments\n",
    "# **kwargs - It is used to dynamically declare and define function arguments but in key-value that is dictionary format."
   ]
  },
  {
   "cell_type": "code",
   "execution_count": 7,
   "id": "4547dcb2-ce88-4192-9658-449cffda60bf",
   "metadata": {},
   "outputs": [],
   "source": [
    "def fun1(*args):\n",
    "    return args"
   ]
  },
  {
   "cell_type": "code",
   "execution_count": 8,
   "id": "50e5f440-be4c-4aff-aab0-7e65431a496f",
   "metadata": {},
   "outputs": [
    {
     "data": {
      "text/plain": [
       "(1, 2, 3)"
      ]
     },
     "execution_count": 8,
     "metadata": {},
     "output_type": "execute_result"
    }
   ],
   "source": [
    "fun1(1,2,3)"
   ]
  },
  {
   "cell_type": "code",
   "execution_count": 9,
   "id": "718a743f-fa19-4c2e-8649-cbc0fda884f1",
   "metadata": {},
   "outputs": [],
   "source": [
    "def fun2(**kwargs):\n",
    "    return kwargs"
   ]
  },
  {
   "cell_type": "code",
   "execution_count": 10,
   "id": "6eff9f67-64ad-4a05-ba1d-90a098b0e3ce",
   "metadata": {},
   "outputs": [
    {
     "data": {
      "text/plain": [
       "{'a': 1, 'b': 2}"
      ]
     },
     "execution_count": 10,
     "metadata": {},
     "output_type": "execute_result"
    }
   ],
   "source": [
    "fun2(a=1,b=2)"
   ]
  },
  {
   "cell_type": "markdown",
   "id": "a6ba1c0d-6f68-4070-9173-c7f4635f3ee6",
   "metadata": {},
   "source": [
    "## 3)"
   ]
  },
  {
   "cell_type": "code",
   "execution_count": 11,
   "id": "ec687d69-7597-4782-b837-584117d85898",
   "metadata": {},
   "outputs": [],
   "source": [
    "# Iterator in layman term is something which helps to iterate one by one elements of any iterable.\n",
    "# iter() method is used to initialise iterator object and next() is used for iteration\n"
   ]
  },
  {
   "cell_type": "code",
   "execution_count": 13,
   "id": "27cbb277-4671-4fdb-a59b-ad4f8449c825",
   "metadata": {},
   "outputs": [
    {
     "name": "stdout",
     "output_type": "stream",
     "text": [
      "2\n",
      "4\n",
      "6\n",
      "8\n",
      "10\n"
     ]
    }
   ],
   "source": [
    "li =[2,4,6,8,10,12,14,16,18,20]\n",
    "a = iter(li)\n",
    "count =0\n",
    "while(count <5):\n",
    "    print(next(a))\n",
    "    count = count+1"
   ]
  },
  {
   "cell_type": "markdown",
   "id": "7719c7aa-8f07-4ee3-8fed-60fda1b9b495",
   "metadata": {},
   "source": [
    "## 4)"
   ]
  },
  {
   "cell_type": "code",
   "execution_count": 14,
   "id": "6cdd6133-592d-4631-9390-1ef34e9cf4ec",
   "metadata": {},
   "outputs": [],
   "source": [
    "# Generator fucntion is a special kind of function that generates iterable output without storing them in memory at runtime\n",
    "# yield keyword is used to generate generator function\n"
   ]
  },
  {
   "cell_type": "code",
   "execution_count": 27,
   "id": "36d3a62a-a585-4ac8-9a1b-ae11dd89bd91",
   "metadata": {},
   "outputs": [],
   "source": [
    "def gen_rator(n):\n",
    "    for i in n:\n",
    "        yield n"
   ]
  },
  {
   "cell_type": "code",
   "execution_count": 28,
   "id": "cfa83c6e-1d7b-4f17-83cb-899e36997992",
   "metadata": {},
   "outputs": [
    {
     "name": "stdout",
     "output_type": "stream",
     "text": [
      "[1, 2, 3, 4, 5]\n",
      "[1, 2, 3, 4, 5]\n",
      "[1, 2, 3, 4, 5]\n",
      "[1, 2, 3, 4, 5]\n",
      "[1, 2, 3, 4, 5]\n"
     ]
    }
   ],
   "source": [
    "for i in gen_rator([1,2,3,4,5]):\n",
    "    print(i)"
   ]
  },
  {
   "cell_type": "markdown",
   "id": "5a2a6bab-9bc1-4869-b73f-9f94a694e63d",
   "metadata": {},
   "source": [
    "## 5)"
   ]
  },
  {
   "cell_type": "code",
   "execution_count": 17,
   "id": "bc206ba2-da77-4bc9-a5d7-ff92085476ac",
   "metadata": {},
   "outputs": [],
   "source": [
    "def prime_nos():\n",
    "    for num in range(2,1000):\n",
    "        for i in range(2,num):\n",
    "            if(num%i == 0):\n",
    "                break\n",
    "        else:\n",
    "            yield num\n",
    "        \n",
    "        "
   ]
  },
  {
   "cell_type": "code",
   "execution_count": 20,
   "id": "26df16a7-f977-47be-954f-cc863d0cab98",
   "metadata": {},
   "outputs": [],
   "source": [
    "primeno= prime_nos()\n",
    "    "
   ]
  },
  {
   "cell_type": "code",
   "execution_count": 21,
   "id": "fc00f141-72ce-4d0a-8ba9-0985a860c363",
   "metadata": {},
   "outputs": [
    {
     "name": "stdout",
     "output_type": "stream",
     "text": [
      "2\n",
      "3\n",
      "5\n",
      "7\n",
      "11\n",
      "13\n",
      "17\n",
      "19\n",
      "23\n",
      "29\n",
      "31\n",
      "37\n",
      "41\n",
      "43\n",
      "47\n",
      "53\n",
      "59\n",
      "61\n",
      "67\n",
      "71\n"
     ]
    }
   ],
   "source": [
    "for i in range(20):\n",
    "    print(next(primeno))"
   ]
  },
  {
   "cell_type": "markdown",
   "id": "3a5224dd-3755-4bef-b925-ee0c7127c6d9",
   "metadata": {},
   "source": [
    "## 6)"
   ]
  },
  {
   "cell_type": "code",
   "execution_count": 1,
   "id": "b07ad371-1805-4256-bd39-23ab0cf829cb",
   "metadata": {},
   "outputs": [],
   "source": [
    "def fibonnaci(n):\n",
    "    a,b=0,1\n",
    "    for i in range(n):\n",
    "        yield a\n",
    "        a,b = b,a+b\n",
    "        \n",
    "        "
   ]
  },
  {
   "cell_type": "code",
   "execution_count": 2,
   "id": "70eb4fe5-fbeb-46ea-84db-dfccfcb3dcbd",
   "metadata": {},
   "outputs": [
    {
     "name": "stdout",
     "output_type": "stream",
     "text": [
      "0\n",
      "1\n",
      "1\n",
      "2\n",
      "3\n",
      "5\n",
      "8\n",
      "13\n",
      "21\n",
      "34\n"
     ]
    }
   ],
   "source": [
    "for i in fibonnaci(10):\n",
    "    print(i)"
   ]
  },
  {
   "cell_type": "markdown",
   "id": "10f81891-50d8-43ae-b901-5884f1e90856",
   "metadata": {},
   "source": [
    "## 7)"
   ]
  },
  {
   "cell_type": "code",
   "execution_count": 3,
   "id": "560c5da2-ad08-4ab9-b319-9b4d04c5e593",
   "metadata": {},
   "outputs": [
    {
     "data": {
      "text/plain": [
       "['p', 'w', 's', 'k', 'i', 'l', 'l', 's']"
      ]
     },
     "execution_count": 3,
     "metadata": {},
     "output_type": "execute_result"
    }
   ],
   "source": [
    "string = \"pwskills\"\n",
    "[i for i in string]"
   ]
  },
  {
   "cell_type": "markdown",
   "id": "da933ba4-c645-46f5-a4c8-fece9a27addb",
   "metadata": {},
   "source": [
    "## 8)"
   ]
  },
  {
   "cell_type": "code",
   "execution_count": 8,
   "id": "de8c7a59-8c46-4aa8-ae19-c4f02c650822",
   "metadata": {},
   "outputs": [
    {
     "name": "stdin",
     "output_type": "stream",
     "text": [
      "Enter number to check palindrome 12321\n"
     ]
    },
    {
     "name": "stdout",
     "output_type": "stream",
     "text": [
      "This value is a palindrome number!\n"
     ]
    }
   ],
   "source": [
    "n = int(input(\"Enter number to check palindrome\"))\n",
    "temp = n  \n",
    "rev = 0  \n",
    "while(n > 0):  \n",
    "    dig = n % 10  \n",
    "    rev = rev * 10 + dig  \n",
    "    n = n // 10  \n",
    "if(temp == rev):  \n",
    "    print(\"This value is a palindrome number!\")  \n",
    "else:  \n",
    "    print(\"This value is not a palindrome number!\")  "
   ]
  },
  {
   "cell_type": "markdown",
   "id": "bd577999-bbb3-4c61-89bc-b27b10de44cf",
   "metadata": {},
   "source": [
    "## 9)"
   ]
  },
  {
   "cell_type": "code",
   "execution_count": 11,
   "id": "c17487ce-609b-4297-b1f1-bdc8797eae25",
   "metadata": {},
   "outputs": [],
   "source": [
    "li=[i for i in range(1,100)]"
   ]
  },
  {
   "cell_type": "code",
   "execution_count": 16,
   "id": "cb543125-e49d-4519-a7ee-1d0f073c3eb9",
   "metadata": {},
   "outputs": [
    {
     "data": {
      "text/plain": [
       "[1,\n",
       " 3,\n",
       " 5,\n",
       " 7,\n",
       " 9,\n",
       " 11,\n",
       " 13,\n",
       " 15,\n",
       " 17,\n",
       " 19,\n",
       " 21,\n",
       " 23,\n",
       " 25,\n",
       " 27,\n",
       " 29,\n",
       " 31,\n",
       " 33,\n",
       " 35,\n",
       " 37,\n",
       " 39,\n",
       " 41,\n",
       " 43,\n",
       " 45,\n",
       " 47,\n",
       " 49,\n",
       " 51,\n",
       " 53,\n",
       " 55,\n",
       " 57,\n",
       " 59,\n",
       " 61,\n",
       " 63,\n",
       " 65,\n",
       " 67,\n",
       " 69,\n",
       " 71,\n",
       " 73,\n",
       " 75,\n",
       " 77,\n",
       " 79,\n",
       " 81,\n",
       " 83,\n",
       " 85,\n",
       " 87,\n",
       " 89,\n",
       " 91,\n",
       " 93,\n",
       " 95,\n",
       " 97,\n",
       " 99]"
      ]
     },
     "execution_count": 16,
     "metadata": {},
     "output_type": "execute_result"
    }
   ],
   "source": [
    "[i for i in li if (i%2!=0)]"
   ]
  },
  {
   "cell_type": "code",
   "execution_count": null,
   "id": "69ec0d26-417f-485a-9495-712cd741fa9d",
   "metadata": {},
   "outputs": [],
   "source": []
  }
 ],
 "metadata": {
  "kernelspec": {
   "display_name": "Python 3 (ipykernel)",
   "language": "python",
   "name": "python3"
  },
  "language_info": {
   "codemirror_mode": {
    "name": "ipython",
    "version": 3
   },
   "file_extension": ".py",
   "mimetype": "text/x-python",
   "name": "python",
   "nbconvert_exporter": "python",
   "pygments_lexer": "ipython3",
   "version": "3.10.8"
  }
 },
 "nbformat": 4,
 "nbformat_minor": 5
}
