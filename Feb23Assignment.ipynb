{
 "cells": [
  {
   "cell_type": "code",
   "execution_count": 7,
   "id": "313ade96-65b0-4e74-8431-998318170360",
   "metadata": {},
   "outputs": [],
   "source": [
    "import pandas as pd"
   ]
  },
  {
   "cell_type": "markdown",
   "id": "7d7f3645-5f0f-432b-8a1d-c61589779c13",
   "metadata": {},
   "source": [
    "### 1)"
   ]
  },
  {
   "cell_type": "code",
   "execution_count": 8,
   "id": "78ef8609-89af-4f28-b067-d918b26eb713",
   "metadata": {},
   "outputs": [],
   "source": [
    "data = [4, 8, 15, 16, 23, 42]\n",
    "ser1 = pd.Series(data)"
   ]
  },
  {
   "cell_type": "code",
   "execution_count": 9,
   "id": "80f87540-6c5d-42ba-8b70-e8112a3a53e1",
   "metadata": {},
   "outputs": [
    {
     "data": {
      "text/plain": [
       "0     4\n",
       "1     8\n",
       "2    15\n",
       "3    16\n",
       "4    23\n",
       "5    42\n",
       "dtype: int64"
      ]
     },
     "execution_count": 9,
     "metadata": {},
     "output_type": "execute_result"
    }
   ],
   "source": [
    "ser1"
   ]
  },
  {
   "cell_type": "markdown",
   "id": "4e149cac-d9eb-45b3-9c3f-6214701ccc7d",
   "metadata": {},
   "source": [
    "### 2)"
   ]
  },
  {
   "cell_type": "code",
   "execution_count": 10,
   "id": "c6773370-297d-40da-b7ef-3e22a7a0e4cf",
   "metadata": {},
   "outputs": [],
   "source": [
    "data1 = [1,2,3,4,5,6,7,8,9,10]\n",
    "ser2 = pd.Series(data1)"
   ]
  },
  {
   "cell_type": "code",
   "execution_count": 11,
   "id": "f7dd6b19-675b-48ca-a78a-b4ac47b3dc46",
   "metadata": {},
   "outputs": [
    {
     "data": {
      "text/plain": [
       "0     1\n",
       "1     2\n",
       "2     3\n",
       "3     4\n",
       "4     5\n",
       "5     6\n",
       "6     7\n",
       "7     8\n",
       "8     9\n",
       "9    10\n",
       "dtype: int64"
      ]
     },
     "execution_count": 11,
     "metadata": {},
     "output_type": "execute_result"
    }
   ],
   "source": [
    "ser2"
   ]
  },
  {
   "cell_type": "markdown",
   "id": "fa440c05-cec1-44b7-beba-8ddb913b4418",
   "metadata": {},
   "source": [
    "### 3)"
   ]
  },
  {
   "cell_type": "code",
   "execution_count": 12,
   "id": "38924c6a-4214-4f21-8b2f-e7b4fcfb854c",
   "metadata": {},
   "outputs": [],
   "source": [
    "data4 = [['Alice','Bob','Claire'],[25,30,27],['Female','Male','Female']]"
   ]
  },
  {
   "cell_type": "code",
   "execution_count": 13,
   "id": "f7aaea57-8b5f-4611-91e0-fac16ea41efa",
   "metadata": {},
   "outputs": [],
   "source": [
    "df = pd.DataFrame(data4,columns=['Name','Age','Gender'])"
   ]
  },
  {
   "cell_type": "code",
   "execution_count": 14,
   "id": "a08a9b02-3177-47ca-80bb-bc78c3895072",
   "metadata": {},
   "outputs": [
    {
     "data": {
      "text/html": [
       "<div>\n",
       "<style scoped>\n",
       "    .dataframe tbody tr th:only-of-type {\n",
       "        vertical-align: middle;\n",
       "    }\n",
       "\n",
       "    .dataframe tbody tr th {\n",
       "        vertical-align: top;\n",
       "    }\n",
       "\n",
       "    .dataframe thead th {\n",
       "        text-align: right;\n",
       "    }\n",
       "</style>\n",
       "<table border=\"1\" class=\"dataframe\">\n",
       "  <thead>\n",
       "    <tr style=\"text-align: right;\">\n",
       "      <th></th>\n",
       "      <th>Name</th>\n",
       "      <th>Age</th>\n",
       "      <th>Gender</th>\n",
       "    </tr>\n",
       "  </thead>\n",
       "  <tbody>\n",
       "    <tr>\n",
       "      <th>0</th>\n",
       "      <td>Alice</td>\n",
       "      <td>Bob</td>\n",
       "      <td>Claire</td>\n",
       "    </tr>\n",
       "    <tr>\n",
       "      <th>1</th>\n",
       "      <td>25</td>\n",
       "      <td>30</td>\n",
       "      <td>27</td>\n",
       "    </tr>\n",
       "    <tr>\n",
       "      <th>2</th>\n",
       "      <td>Female</td>\n",
       "      <td>Male</td>\n",
       "      <td>Female</td>\n",
       "    </tr>\n",
       "  </tbody>\n",
       "</table>\n",
       "</div>"
      ],
      "text/plain": [
       "     Name   Age  Gender\n",
       "0   Alice   Bob  Claire\n",
       "1      25    30      27\n",
       "2  Female  Male  Female"
      ]
     },
     "execution_count": 14,
     "metadata": {},
     "output_type": "execute_result"
    }
   ],
   "source": [
    "df"
   ]
  },
  {
   "cell_type": "markdown",
   "id": "f8e10a36-427e-443c-ba0d-2fa3aa0e6b0a",
   "metadata": {},
   "source": [
    "### 4)"
   ]
  },
  {
   "cell_type": "markdown",
   "id": "33e17425-1f11-4071-b8e3-7b1a59844c33",
   "metadata": {},
   "source": [
    "* Dataframe => A Pandas DataFrame is a 2 dimensional data structure, like a 2 dimensional array, or a table with rows and                     columns.\n",
    "* Series => A Pandas Series is like a column in a table.It is a one-dimensional array holding data of any type.\n",
    "\n",
    "                             "
   ]
  },
  {
   "cell_type": "code",
   "execution_count": 15,
   "id": "334ea7f2-a754-46c6-b3eb-a3b7aac2ae2b",
   "metadata": {},
   "outputs": [
    {
     "data": {
      "text/html": [
       "<div>\n",
       "<style scoped>\n",
       "    .dataframe tbody tr th:only-of-type {\n",
       "        vertical-align: middle;\n",
       "    }\n",
       "\n",
       "    .dataframe tbody tr th {\n",
       "        vertical-align: top;\n",
       "    }\n",
       "\n",
       "    .dataframe thead th {\n",
       "        text-align: right;\n",
       "    }\n",
       "</style>\n",
       "<table border=\"1\" class=\"dataframe\">\n",
       "  <thead>\n",
       "    <tr style=\"text-align: right;\">\n",
       "      <th></th>\n",
       "      <th>Name</th>\n",
       "      <th>Age</th>\n",
       "      <th>Gender</th>\n",
       "    </tr>\n",
       "  </thead>\n",
       "  <tbody>\n",
       "    <tr>\n",
       "      <th>0</th>\n",
       "      <td>Alice</td>\n",
       "      <td>Bob</td>\n",
       "      <td>Claire</td>\n",
       "    </tr>\n",
       "    <tr>\n",
       "      <th>1</th>\n",
       "      <td>25</td>\n",
       "      <td>30</td>\n",
       "      <td>27</td>\n",
       "    </tr>\n",
       "    <tr>\n",
       "      <th>2</th>\n",
       "      <td>Female</td>\n",
       "      <td>Male</td>\n",
       "      <td>Female</td>\n",
       "    </tr>\n",
       "  </tbody>\n",
       "</table>\n",
       "</div>"
      ],
      "text/plain": [
       "     Name   Age  Gender\n",
       "0   Alice   Bob  Claire\n",
       "1      25    30      27\n",
       "2  Female  Male  Female"
      ]
     },
     "execution_count": 15,
     "metadata": {},
     "output_type": "execute_result"
    }
   ],
   "source": [
    "# example of dataframe \n",
    "df"
   ]
  },
  {
   "cell_type": "code",
   "execution_count": 17,
   "id": "2f8082a0-b1eb-4e78-81f6-420183a018a2",
   "metadata": {},
   "outputs": [
    {
     "data": {
      "text/plain": [
       "0     4\n",
       "1     8\n",
       "2    15\n",
       "3    16\n",
       "4    23\n",
       "5    42\n",
       "dtype: int64"
      ]
     },
     "execution_count": 17,
     "metadata": {},
     "output_type": "execute_result"
    }
   ],
   "source": [
    "# example of series\n",
    "ser1"
   ]
  },
  {
   "cell_type": "markdown",
   "id": "3928abd0-29d2-49ca-af02-0abfa95de7bf",
   "metadata": {},
   "source": [
    "### 5)"
   ]
  },
  {
   "cell_type": "markdown",
   "id": "ecf6d077-d37d-4f41-b047-bed70cabd134",
   "metadata": {},
   "source": [
    "* Common function that we can use for data manipulation in pandas are head(),tail(),dtypes,columns etc\n",
    "* e.g. head()=> it can be used to see top n records of dataframe"
   ]
  },
  {
   "cell_type": "markdown",
   "id": "49f9867a-fb31-4701-a278-fc32966aae0d",
   "metadata": {},
   "source": [
    "### 6)"
   ]
  },
  {
   "cell_type": "markdown",
   "id": "28ca8a37-fd72-4782-a3ce-8f26eb703de3",
   "metadata": {},
   "source": [
    "* DataFrame and Panel are mutable"
   ]
  },
  {
   "cell_type": "markdown",
   "id": "6e4cf24d-dfc6-4e13-8c36-99192f150481",
   "metadata": {},
   "source": [
    "### 7)"
   ]
  },
  {
   "cell_type": "code",
   "execution_count": 18,
   "id": "c00d9094-6172-4050-a54d-71848280536b",
   "metadata": {},
   "outputs": [],
   "source": [
    "name = ['vivek','raj','shubh']\n",
    "age = [10,20,30]\n"
   ]
  },
  {
   "cell_type": "code",
   "execution_count": 19,
   "id": "9a596358-d870-4992-87ae-6fe7773bbe3f",
   "metadata": {},
   "outputs": [],
   "source": [
    "name_series = pd.Series(name)\n",
    "age_series = pd.Series(age)"
   ]
  },
  {
   "cell_type": "code",
   "execution_count": 20,
   "id": "489b6ea8-e0b0-44f6-ba37-2d2ad6605937",
   "metadata": {},
   "outputs": [
    {
     "data": {
      "text/plain": [
       "0    vivek\n",
       "1      raj\n",
       "2    shubh\n",
       "dtype: object"
      ]
     },
     "execution_count": 20,
     "metadata": {},
     "output_type": "execute_result"
    }
   ],
   "source": [
    "name_series"
   ]
  },
  {
   "cell_type": "code",
   "execution_count": 21,
   "id": "b585f965-a3b8-4c59-9d72-51fb0ea3ae20",
   "metadata": {},
   "outputs": [
    {
     "data": {
      "text/plain": [
       "0    10\n",
       "1    20\n",
       "2    30\n",
       "dtype: int64"
      ]
     },
     "execution_count": 21,
     "metadata": {},
     "output_type": "execute_result"
    }
   ],
   "source": [
    "age_series"
   ]
  },
  {
   "cell_type": "code",
   "execution_count": 22,
   "id": "d5699198-c706-48ef-b2e8-6db365a3bb43",
   "metadata": {},
   "outputs": [],
   "source": [
    "headres = {\"Name\":name_series,\"Age\":age_series}"
   ]
  },
  {
   "cell_type": "code",
   "execution_count": 23,
   "id": "ec49e579-3bfb-49e3-ab38-b30191ca8f12",
   "metadata": {},
   "outputs": [],
   "source": [
    "df2 = pd.DataFrame(headres)"
   ]
  },
  {
   "cell_type": "code",
   "execution_count": 24,
   "id": "e45da231-1ca2-43af-b8f5-69758aefec82",
   "metadata": {},
   "outputs": [
    {
     "data": {
      "text/html": [
       "<div>\n",
       "<style scoped>\n",
       "    .dataframe tbody tr th:only-of-type {\n",
       "        vertical-align: middle;\n",
       "    }\n",
       "\n",
       "    .dataframe tbody tr th {\n",
       "        vertical-align: top;\n",
       "    }\n",
       "\n",
       "    .dataframe thead th {\n",
       "        text-align: right;\n",
       "    }\n",
       "</style>\n",
       "<table border=\"1\" class=\"dataframe\">\n",
       "  <thead>\n",
       "    <tr style=\"text-align: right;\">\n",
       "      <th></th>\n",
       "      <th>Name</th>\n",
       "      <th>Age</th>\n",
       "    </tr>\n",
       "  </thead>\n",
       "  <tbody>\n",
       "    <tr>\n",
       "      <th>0</th>\n",
       "      <td>vivek</td>\n",
       "      <td>10</td>\n",
       "    </tr>\n",
       "    <tr>\n",
       "      <th>1</th>\n",
       "      <td>raj</td>\n",
       "      <td>20</td>\n",
       "    </tr>\n",
       "    <tr>\n",
       "      <th>2</th>\n",
       "      <td>shubh</td>\n",
       "      <td>30</td>\n",
       "    </tr>\n",
       "  </tbody>\n",
       "</table>\n",
       "</div>"
      ],
      "text/plain": [
       "    Name  Age\n",
       "0  vivek   10\n",
       "1    raj   20\n",
       "2  shubh   30"
      ]
     },
     "execution_count": 24,
     "metadata": {},
     "output_type": "execute_result"
    }
   ],
   "source": [
    "df2"
   ]
  },
  {
   "cell_type": "code",
   "execution_count": null,
   "id": "5165d894-802b-416c-a21d-4a177803a398",
   "metadata": {},
   "outputs": [],
   "source": []
  }
 ],
 "metadata": {
  "kernelspec": {
   "display_name": "Python 3 (ipykernel)",
   "language": "python",
   "name": "python3"
  },
  "language_info": {
   "codemirror_mode": {
    "name": "ipython",
    "version": 3
   },
   "file_extension": ".py",
   "mimetype": "text/x-python",
   "name": "python",
   "nbconvert_exporter": "python",
   "pygments_lexer": "ipython3",
   "version": "3.10.8"
  }
 },
 "nbformat": 4,
 "nbformat_minor": 5
}
