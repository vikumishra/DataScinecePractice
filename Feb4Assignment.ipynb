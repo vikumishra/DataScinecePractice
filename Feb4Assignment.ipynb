{
 "cells": [
  {
   "cell_type": "markdown",
   "id": "ccb193bc-772c-4b54-a9f6-82b7a457a4d6",
   "metadata": {},
   "source": [
    "## 1)"
   ]
  },
  {
   "cell_type": "code",
   "execution_count": null,
   "id": "d3250ab2-7330-489c-8e05-08727d3a728a",
   "metadata": {},
   "outputs": [],
   "source": []
  },
  {
   "cell_type": "markdown",
   "id": "11f8e930-c620-4774-aa9e-5cfeedcff0fc",
   "metadata": {},
   "source": [
    "## 2)"
   ]
  },
  {
   "cell_type": "code",
   "execution_count": 1,
   "id": "ec02c693-ba62-4d5b-9559-7ce75c795d4a",
   "metadata": {},
   "outputs": [],
   "source": [
    "li =[1,2,3,4,5,6,7,8,9,10]\n"
   ]
  },
  {
   "cell_type": "code",
   "execution_count": 2,
   "id": "5de0a8f9-3f56-4fa8-a77d-a8787ffbed4a",
   "metadata": {},
   "outputs": [
    {
     "data": {
      "text/plain": [
       "[1, 4, 9, 16, 25, 36, 49, 64, 81, 100]"
      ]
     },
     "execution_count": 2,
     "metadata": {},
     "output_type": "execute_result"
    }
   ],
   "source": [
    "list(map(lambda x: x**2,li))"
   ]
  },
  {
   "cell_type": "markdown",
   "id": "e736b088-85d1-4575-8ac0-9ae57add7b0e",
   "metadata": {},
   "source": [
    "## 3)"
   ]
  },
  {
   "cell_type": "code",
   "execution_count": 3,
   "id": "812d9256-18d2-43fa-a4ad-02fadb3fa32c",
   "metadata": {},
   "outputs": [],
   "source": [
    "li1 = [1,2,3,4,5,6,7,8,9,10]"
   ]
  },
  {
   "cell_type": "code",
   "execution_count": 4,
   "id": "ccb3f8c0-27e5-4a9e-85cd-a374fed058dc",
   "metadata": {},
   "outputs": [
    {
     "data": {
      "text/plain": [
       "['1', '2', '3', '4', '5', '6', '7', '8', '9', '10']"
      ]
     },
     "execution_count": 4,
     "metadata": {},
     "output_type": "execute_result"
    }
   ],
   "source": [
    "list(map(lambda x:str(x),li))"
   ]
  },
  {
   "cell_type": "markdown",
   "id": "00bab671-26f9-43fe-83b1-c5f6c396c514",
   "metadata": {},
   "source": [
    "## 4)"
   ]
  },
  {
   "cell_type": "code",
   "execution_count": 5,
   "id": "aef94065-45e2-4250-908c-a6c8af4ed059",
   "metadata": {},
   "outputs": [],
   "source": [
    "li2 = list(range(1,26))"
   ]
  },
  {
   "cell_type": "code",
   "execution_count": 7,
   "id": "a7733c1e-bd34-42ac-a054-3600b46ca98e",
   "metadata": {},
   "outputs": [],
   "source": [
    "from functools import reduce"
   ]
  },
  {
   "cell_type": "code",
   "execution_count": 9,
   "id": "7f87aa3a-23c3-4cb6-9366-3cbf75816bca",
   "metadata": {},
   "outputs": [
    {
     "data": {
      "text/plain": [
       "15511210043330985984000000"
      ]
     },
     "execution_count": 9,
     "metadata": {},
     "output_type": "execute_result"
    }
   ],
   "source": [
    "reduce(lambda x,y:x*y,li2)"
   ]
  },
  {
   "cell_type": "markdown",
   "id": "d5febed9-dcd9-426f-80a0-fd98782ace69",
   "metadata": {},
   "source": [
    "## 5)"
   ]
  },
  {
   "cell_type": "code",
   "execution_count": 10,
   "id": "27972410-6dba-4f17-803d-0cf6da64cdd1",
   "metadata": {},
   "outputs": [],
   "source": [
    "li3 = [2, 3, 6, 9, 27, 60, 90, 120, 55, 46]"
   ]
  },
  {
   "cell_type": "code",
   "execution_count": 12,
   "id": "0a922d61-baa4-4cea-823c-d8cf597f3bca",
   "metadata": {},
   "outputs": [
    {
     "data": {
      "text/plain": [
       "[6, 60, 90, 120]"
      ]
     },
     "execution_count": 12,
     "metadata": {},
     "output_type": "execute_result"
    }
   ],
   "source": [
    "list(filter(lambda x:x%2 == 0 and x%3==0,li3))"
   ]
  },
  {
   "cell_type": "markdown",
   "id": "8f05cc9c-6690-4387-bda9-5829c96c63cf",
   "metadata": {},
   "source": [
    "## 6)"
   ]
  },
  {
   "cell_type": "code",
   "execution_count": 13,
   "id": "92f0fc34-ed35-439b-9aa3-b708dcb08b96",
   "metadata": {},
   "outputs": [],
   "source": [
    "li4 = ['python', 'php', 'aba', 'radar', 'level']"
   ]
  },
  {
   "cell_type": "code",
   "execution_count": 14,
   "id": "3c5e139c-8d2b-4fad-b550-8aca6f131a42",
   "metadata": {},
   "outputs": [
    {
     "data": {
      "text/plain": [
       "['php', 'aba', 'radar', 'level']"
      ]
     },
     "execution_count": 14,
     "metadata": {},
     "output_type": "execute_result"
    }
   ],
   "source": [
    "list(filter(lambda x : x == x[::-1],li4))"
   ]
  },
  {
   "cell_type": "code",
   "execution_count": null,
   "id": "99e13aa0-020a-402a-92e7-2a52b9ae76d3",
   "metadata": {},
   "outputs": [],
   "source": []
  }
 ],
 "metadata": {
  "kernelspec": {
   "display_name": "Python 3 (ipykernel)",
   "language": "python",
   "name": "python3"
  },
  "language_info": {
   "codemirror_mode": {
    "name": "ipython",
    "version": 3
   },
   "file_extension": ".py",
   "mimetype": "text/x-python",
   "name": "python",
   "nbconvert_exporter": "python",
   "pygments_lexer": "ipython3",
   "version": "3.10.8"
  }
 },
 "nbformat": 4,
 "nbformat_minor": 5
}
